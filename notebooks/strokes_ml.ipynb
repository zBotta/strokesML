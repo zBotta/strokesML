{
 "cells": [
  {
   "cell_type": "code",
   "execution_count": 911,
   "id": "2c94caa2-d473-4606-8c2c-c339deb9e646",
   "metadata": {},
   "outputs": [],
   "source": [
    "import pandas as pd\n",
    "import numpy as np\n",
    "import seaborn as sns\n",
    "import matplotlib.pyplot as plt\n",
    "\n",
    "from sklearn.feature_selection import mutual_info_classif\n",
    "from sklearn.ensemble import RandomForestClassifier\n",
    "from sklearn.linear_model import LogisticRegression\n",
    "from sklearn.svm import SVC\n",
    "from sklearn.neural_network import MLPClassifier\n",
    "from sklearn.model_selection import StratifiedKFold"
   ]
  },
  {
   "cell_type": "code",
   "execution_count": 879,
   "id": "804bd848-311d-4377-b229-4190d26b832a",
   "metadata": {},
   "outputs": [],
   "source": [
    "df = pd.read_csv(filepath_or_buffer=\"stroke_data.csv\", sep=\",\", header=0)\n",
    "df_raw = df.copy()"
   ]
  },
  {
   "cell_type": "code",
   "execution_count": 880,
   "id": "7dd7d5da-79b4-4c99-a01a-f5cf2a407c55",
   "metadata": {},
   "outputs": [
    {
     "data": {
      "text/html": [
       "<div>\n",
       "<style scoped>\n",
       "    .dataframe tbody tr th:only-of-type {\n",
       "        vertical-align: middle;\n",
       "    }\n",
       "\n",
       "    .dataframe tbody tr th {\n",
       "        vertical-align: top;\n",
       "    }\n",
       "\n",
       "    .dataframe thead th {\n",
       "        text-align: right;\n",
       "    }\n",
       "</style>\n",
       "<table border=\"1\" class=\"dataframe\">\n",
       "  <thead>\n",
       "    <tr style=\"text-align: right;\">\n",
       "      <th></th>\n",
       "      <th>id</th>\n",
       "      <th>gender</th>\n",
       "      <th>age</th>\n",
       "      <th>hypertension</th>\n",
       "      <th>heart_disease</th>\n",
       "      <th>ever_married</th>\n",
       "      <th>work_type</th>\n",
       "      <th>Residence_type</th>\n",
       "      <th>avg_glucose_level</th>\n",
       "      <th>bmi</th>\n",
       "      <th>smoking_status</th>\n",
       "      <th>stroke</th>\n",
       "    </tr>\n",
       "  </thead>\n",
       "  <tbody>\n",
       "    <tr>\n",
       "      <th>0</th>\n",
       "      <td>9046</td>\n",
       "      <td>Male</td>\n",
       "      <td>67.0</td>\n",
       "      <td>0</td>\n",
       "      <td>1</td>\n",
       "      <td>Yes</td>\n",
       "      <td>Private</td>\n",
       "      <td>Urban</td>\n",
       "      <td>228.69</td>\n",
       "      <td>36.6</td>\n",
       "      <td>formerly smoked</td>\n",
       "      <td>1</td>\n",
       "    </tr>\n",
       "    <tr>\n",
       "      <th>1</th>\n",
       "      <td>51676</td>\n",
       "      <td>Female</td>\n",
       "      <td>61.0</td>\n",
       "      <td>0</td>\n",
       "      <td>0</td>\n",
       "      <td>Yes</td>\n",
       "      <td>Self-employed</td>\n",
       "      <td>Rural</td>\n",
       "      <td>202.21</td>\n",
       "      <td>NaN</td>\n",
       "      <td>never smoked</td>\n",
       "      <td>1</td>\n",
       "    </tr>\n",
       "    <tr>\n",
       "      <th>2</th>\n",
       "      <td>31112</td>\n",
       "      <td>Male</td>\n",
       "      <td>80.0</td>\n",
       "      <td>0</td>\n",
       "      <td>1</td>\n",
       "      <td>Yes</td>\n",
       "      <td>Private</td>\n",
       "      <td>Rural</td>\n",
       "      <td>105.92</td>\n",
       "      <td>32.5</td>\n",
       "      <td>never smoked</td>\n",
       "      <td>1</td>\n",
       "    </tr>\n",
       "    <tr>\n",
       "      <th>3</th>\n",
       "      <td>60182</td>\n",
       "      <td>Female</td>\n",
       "      <td>49.0</td>\n",
       "      <td>0</td>\n",
       "      <td>0</td>\n",
       "      <td>Yes</td>\n",
       "      <td>Private</td>\n",
       "      <td>Urban</td>\n",
       "      <td>171.23</td>\n",
       "      <td>34.4</td>\n",
       "      <td>smokes</td>\n",
       "      <td>1</td>\n",
       "    </tr>\n",
       "    <tr>\n",
       "      <th>4</th>\n",
       "      <td>1665</td>\n",
       "      <td>Female</td>\n",
       "      <td>79.0</td>\n",
       "      <td>1</td>\n",
       "      <td>0</td>\n",
       "      <td>Yes</td>\n",
       "      <td>Self-employed</td>\n",
       "      <td>Rural</td>\n",
       "      <td>174.12</td>\n",
       "      <td>24.0</td>\n",
       "      <td>never smoked</td>\n",
       "      <td>1</td>\n",
       "    </tr>\n",
       "  </tbody>\n",
       "</table>\n",
       "</div>"
      ],
      "text/plain": [
       "      id  gender   age  hypertension  heart_disease ever_married  \\\n",
       "0   9046    Male  67.0             0              1          Yes   \n",
       "1  51676  Female  61.0             0              0          Yes   \n",
       "2  31112    Male  80.0             0              1          Yes   \n",
       "3  60182  Female  49.0             0              0          Yes   \n",
       "4   1665  Female  79.0             1              0          Yes   \n",
       "\n",
       "       work_type Residence_type  avg_glucose_level   bmi   smoking_status  \\\n",
       "0        Private          Urban             228.69  36.6  formerly smoked   \n",
       "1  Self-employed          Rural             202.21   NaN     never smoked   \n",
       "2        Private          Rural             105.92  32.5     never smoked   \n",
       "3        Private          Urban             171.23  34.4           smokes   \n",
       "4  Self-employed          Rural             174.12  24.0     never smoked   \n",
       "\n",
       "   stroke  \n",
       "0       1  \n",
       "1       1  \n",
       "2       1  \n",
       "3       1  \n",
       "4       1  "
      ]
     },
     "execution_count": 880,
     "metadata": {},
     "output_type": "execute_result"
    }
   ],
   "source": [
    "df.head(5)"
   ]
  },
  {
   "cell_type": "markdown",
   "id": "7cc74b9e-c33c-49a0-a402-095444f52df8",
   "metadata": {},
   "source": [
    "# 1. Data analysis\n",
    "\n",
    "## 1.1 General exploration\n",
    "We are going to check the type of data, the defining statistics and the missing values\n"
   ]
  },
  {
   "cell_type": "markdown",
   "id": "57f06246-8075-44ce-93ba-cbb5fe404a50",
   "metadata": {},
   "source": [
    "We observe **4 discrete variables** (int64) with our target variable **stroke** inside them, **3 continuous variables** (float64) and **5 variables** that as labels or factors (object) \n",
    "\n",
    "From the 12 variables, can say that we will have 11 explanatory variables and 1 output variable (**stroke**)"
   ]
  },
  {
   "cell_type": "code",
   "execution_count": 186,
   "id": "939832ae-3165-4c8e-ad33-0a8a40ebb718",
   "metadata": {},
   "outputs": [
    {
     "name": "stdout",
     "output_type": "stream",
     "text": [
      "<class 'pandas.core.frame.DataFrame'>\n",
      "RangeIndex: 5110 entries, 0 to 5109\n",
      "Data columns (total 12 columns):\n",
      " #   Column             Non-Null Count  Dtype  \n",
      "---  ------             --------------  -----  \n",
      " 0   id                 5110 non-null   int64  \n",
      " 1   gender             5110 non-null   object \n",
      " 2   age                5110 non-null   float64\n",
      " 3   hypertension       5110 non-null   int64  \n",
      " 4   heart_disease      5110 non-null   int64  \n",
      " 5   ever_married       5110 non-null   object \n",
      " 6   work_type          5110 non-null   object \n",
      " 7   Residence_type     5110 non-null   object \n",
      " 8   avg_glucose_level  5110 non-null   float64\n",
      " 9   bmi                4909 non-null   float64\n",
      " 10  smoking_status     5110 non-null   object \n",
      " 11  stroke             5110 non-null   int64  \n",
      "dtypes: float64(3), int64(4), object(5)\n",
      "memory usage: 479.2+ KB\n"
     ]
    }
   ],
   "source": [
    "df.info()"
   ]
  },
  {
   "cell_type": "code",
   "execution_count": 5,
   "id": "c9af9321-657e-474d-a178-7ee10e04f12d",
   "metadata": {},
   "outputs": [
    {
     "data": {
      "text/html": [
       "<div>\n",
       "<style scoped>\n",
       "    .dataframe tbody tr th:only-of-type {\n",
       "        vertical-align: middle;\n",
       "    }\n",
       "\n",
       "    .dataframe tbody tr th {\n",
       "        vertical-align: top;\n",
       "    }\n",
       "\n",
       "    .dataframe thead th {\n",
       "        text-align: right;\n",
       "    }\n",
       "</style>\n",
       "<table border=\"1\" class=\"dataframe\">\n",
       "  <thead>\n",
       "    <tr style=\"text-align: right;\">\n",
       "      <th></th>\n",
       "      <th>gender</th>\n",
       "      <th>ever_married</th>\n",
       "      <th>work_type</th>\n",
       "      <th>Residence_type</th>\n",
       "      <th>smoking_status</th>\n",
       "    </tr>\n",
       "  </thead>\n",
       "  <tbody>\n",
       "    <tr>\n",
       "      <th>count</th>\n",
       "      <td>5110</td>\n",
       "      <td>5110</td>\n",
       "      <td>5110</td>\n",
       "      <td>5110</td>\n",
       "      <td>5110</td>\n",
       "    </tr>\n",
       "    <tr>\n",
       "      <th>unique</th>\n",
       "      <td>3</td>\n",
       "      <td>2</td>\n",
       "      <td>5</td>\n",
       "      <td>2</td>\n",
       "      <td>4</td>\n",
       "    </tr>\n",
       "    <tr>\n",
       "      <th>top</th>\n",
       "      <td>Female</td>\n",
       "      <td>Yes</td>\n",
       "      <td>Private</td>\n",
       "      <td>Urban</td>\n",
       "      <td>never smoked</td>\n",
       "    </tr>\n",
       "    <tr>\n",
       "      <th>freq</th>\n",
       "      <td>2994</td>\n",
       "      <td>3353</td>\n",
       "      <td>2925</td>\n",
       "      <td>2596</td>\n",
       "      <td>1892</td>\n",
       "    </tr>\n",
       "  </tbody>\n",
       "</table>\n",
       "</div>"
      ],
      "text/plain": [
       "        gender ever_married work_type Residence_type smoking_status\n",
       "count     5110         5110      5110           5110           5110\n",
       "unique       3            2         5              2              4\n",
       "top     Female          Yes   Private          Urban   never smoked\n",
       "freq      2994         3353      2925           2596           1892"
      ]
     },
     "execution_count": 5,
     "metadata": {},
     "output_type": "execute_result"
    }
   ],
   "source": [
    "df.describe(exclude=[np.number])"
   ]
  },
  {
   "cell_type": "code",
   "execution_count": 6,
   "id": "9673a136-abb2-4bad-bb9b-1e81164c7061",
   "metadata": {},
   "outputs": [
    {
     "data": {
      "text/plain": [
       "Index(['gender', 'ever_married', 'work_type', 'Residence_type',\n",
       "       'smoking_status'],\n",
       "      dtype='object')"
      ]
     },
     "execution_count": 6,
     "metadata": {},
     "output_type": "execute_result"
    }
   ],
   "source": [
    "df.select_dtypes(\"object\").columns"
   ]
  },
  {
   "cell_type": "code",
   "execution_count": 7,
   "id": "32a22266-a8fa-461f-adcf-d3ff187a7ef7",
   "metadata": {},
   "outputs": [
    {
     "name": "stdout",
     "output_type": "stream",
     "text": [
      "['Male' 'Female' 'Other']\n",
      "['Yes' 'No']\n",
      "['Private' 'Self-employed' 'Govt_job' 'children' 'Never_worked']\n",
      "['Urban' 'Rural']\n",
      "['formerly smoked' 'never smoked' 'smokes' 'Unknown']\n"
     ]
    }
   ],
   "source": [
    "# Print the values of the non-numerical variables\n",
    "print(df.gender.unique())\n",
    "print(df.ever_married.unique())\n",
    "print(df.work_type.unique())\n",
    "print(df.Residence_type.unique())\n",
    "print(df.smoking_status.unique())\n",
    "# We should make a conversion of these variables into a numerical value"
   ]
  },
  {
   "cell_type": "code",
   "execution_count": 8,
   "id": "9e0b235a-7e31-41c3-8c9f-a9402223103e",
   "metadata": {},
   "outputs": [
    {
     "name": "stdout",
     "output_type": "stream",
     "text": [
      "gender\n",
      "Female    2994\n",
      "Male      2115\n",
      "Other        1\n",
      "Name: count, dtype: int64\n",
      "ever_married\n",
      "Yes    3353\n",
      "No     1757\n",
      "Name: count, dtype: int64\n",
      "work_type\n",
      "Private          2925\n",
      "Self-employed     819\n",
      "children          687\n",
      "Govt_job          657\n",
      "Never_worked       22\n",
      "Name: count, dtype: int64\n",
      "Residence_type\n",
      "Urban    2596\n",
      "Rural    2514\n",
      "Name: count, dtype: int64\n",
      "smoking_status\n",
      "never smoked       1892\n",
      "Unknown            1544\n",
      "formerly smoked     885\n",
      "smokes              789\n",
      "Name: count, dtype: int64\n"
     ]
    }
   ],
   "source": [
    "# Print the values of the non-numerical variables\n",
    "print(df.gender.value_counts())\n",
    "print(df.ever_married.value_counts())\n",
    "print(df.work_type.value_counts())\n",
    "print(df.Residence_type.value_counts())\n",
    "print(df.smoking_status.value_counts())\n",
    "# We observe more male than females in the sample"
   ]
  },
  {
   "cell_type": "code",
   "execution_count": 9,
   "id": "d086d1f4-fba4-4a56-a841-dfaadd6a7d0d",
   "metadata": {},
   "outputs": [
    {
     "data": {
      "text/html": [
       "<div>\n",
       "<style scoped>\n",
       "    .dataframe tbody tr th:only-of-type {\n",
       "        vertical-align: middle;\n",
       "    }\n",
       "\n",
       "    .dataframe tbody tr th {\n",
       "        vertical-align: top;\n",
       "    }\n",
       "\n",
       "    .dataframe thead th {\n",
       "        text-align: right;\n",
       "    }\n",
       "</style>\n",
       "<table border=\"1\" class=\"dataframe\">\n",
       "  <thead>\n",
       "    <tr style=\"text-align: right;\">\n",
       "      <th></th>\n",
       "      <th>id</th>\n",
       "      <th>age</th>\n",
       "      <th>hypertension</th>\n",
       "      <th>heart_disease</th>\n",
       "      <th>avg_glucose_level</th>\n",
       "      <th>bmi</th>\n",
       "      <th>stroke</th>\n",
       "    </tr>\n",
       "  </thead>\n",
       "  <tbody>\n",
       "    <tr>\n",
       "      <th>count</th>\n",
       "      <td>5110.000000</td>\n",
       "      <td>5110.000000</td>\n",
       "      <td>5110.000000</td>\n",
       "      <td>5110.000000</td>\n",
       "      <td>5110.000000</td>\n",
       "      <td>4909.000000</td>\n",
       "      <td>5110.000000</td>\n",
       "    </tr>\n",
       "    <tr>\n",
       "      <th>mean</th>\n",
       "      <td>36517.829354</td>\n",
       "      <td>43.226614</td>\n",
       "      <td>0.097456</td>\n",
       "      <td>0.054012</td>\n",
       "      <td>106.147677</td>\n",
       "      <td>28.893237</td>\n",
       "      <td>0.048728</td>\n",
       "    </tr>\n",
       "    <tr>\n",
       "      <th>std</th>\n",
       "      <td>21161.721625</td>\n",
       "      <td>22.612647</td>\n",
       "      <td>0.296607</td>\n",
       "      <td>0.226063</td>\n",
       "      <td>45.283560</td>\n",
       "      <td>7.854067</td>\n",
       "      <td>0.215320</td>\n",
       "    </tr>\n",
       "    <tr>\n",
       "      <th>min</th>\n",
       "      <td>67.000000</td>\n",
       "      <td>0.080000</td>\n",
       "      <td>0.000000</td>\n",
       "      <td>0.000000</td>\n",
       "      <td>55.120000</td>\n",
       "      <td>10.300000</td>\n",
       "      <td>0.000000</td>\n",
       "    </tr>\n",
       "    <tr>\n",
       "      <th>25%</th>\n",
       "      <td>17741.250000</td>\n",
       "      <td>25.000000</td>\n",
       "      <td>0.000000</td>\n",
       "      <td>0.000000</td>\n",
       "      <td>77.245000</td>\n",
       "      <td>23.500000</td>\n",
       "      <td>0.000000</td>\n",
       "    </tr>\n",
       "    <tr>\n",
       "      <th>50%</th>\n",
       "      <td>36932.000000</td>\n",
       "      <td>45.000000</td>\n",
       "      <td>0.000000</td>\n",
       "      <td>0.000000</td>\n",
       "      <td>91.885000</td>\n",
       "      <td>28.100000</td>\n",
       "      <td>0.000000</td>\n",
       "    </tr>\n",
       "    <tr>\n",
       "      <th>75%</th>\n",
       "      <td>54682.000000</td>\n",
       "      <td>61.000000</td>\n",
       "      <td>0.000000</td>\n",
       "      <td>0.000000</td>\n",
       "      <td>114.090000</td>\n",
       "      <td>33.100000</td>\n",
       "      <td>0.000000</td>\n",
       "    </tr>\n",
       "    <tr>\n",
       "      <th>max</th>\n",
       "      <td>72940.000000</td>\n",
       "      <td>82.000000</td>\n",
       "      <td>1.000000</td>\n",
       "      <td>1.000000</td>\n",
       "      <td>271.740000</td>\n",
       "      <td>97.600000</td>\n",
       "      <td>1.000000</td>\n",
       "    </tr>\n",
       "  </tbody>\n",
       "</table>\n",
       "</div>"
      ],
      "text/plain": [
       "                 id          age  hypertension  heart_disease  \\\n",
       "count   5110.000000  5110.000000   5110.000000    5110.000000   \n",
       "mean   36517.829354    43.226614      0.097456       0.054012   \n",
       "std    21161.721625    22.612647      0.296607       0.226063   \n",
       "min       67.000000     0.080000      0.000000       0.000000   \n",
       "25%    17741.250000    25.000000      0.000000       0.000000   \n",
       "50%    36932.000000    45.000000      0.000000       0.000000   \n",
       "75%    54682.000000    61.000000      0.000000       0.000000   \n",
       "max    72940.000000    82.000000      1.000000       1.000000   \n",
       "\n",
       "       avg_glucose_level          bmi       stroke  \n",
       "count        5110.000000  4909.000000  5110.000000  \n",
       "mean          106.147677    28.893237     0.048728  \n",
       "std            45.283560     7.854067     0.215320  \n",
       "min            55.120000    10.300000     0.000000  \n",
       "25%            77.245000    23.500000     0.000000  \n",
       "50%            91.885000    28.100000     0.000000  \n",
       "75%           114.090000    33.100000     0.000000  \n",
       "max           271.740000    97.600000     1.000000  "
      ]
     },
     "execution_count": 9,
     "metadata": {},
     "output_type": "execute_result"
    }
   ],
   "source": [
    "df.describe()\n",
    "# We can guess that there are some missing values on the bmi (body mass index) variable"
   ]
  },
  {
   "cell_type": "markdown",
   "id": "7f31897c-b06d-46cc-a866-4a2a05371f88",
   "metadata": {},
   "source": [
    "We found missing values only on the BMI variable "
   ]
  },
  {
   "cell_type": "code",
   "execution_count": 10,
   "id": "bcf12e43-3a76-43de-bf4f-0b065acef90f",
   "metadata": {},
   "outputs": [
    {
     "data": {
      "text/plain": [
       "id                     0\n",
       "gender                 0\n",
       "age                    0\n",
       "hypertension           0\n",
       "heart_disease          0\n",
       "ever_married           0\n",
       "work_type              0\n",
       "Residence_type         0\n",
       "avg_glucose_level      0\n",
       "bmi                  201\n",
       "smoking_status         0\n",
       "stroke                 0\n",
       "dtype: int64"
      ]
     },
     "execution_count": 10,
     "metadata": {},
     "output_type": "execute_result"
    }
   ],
   "source": [
    "df.isna().sum()"
   ]
  },
  {
   "cell_type": "markdown",
   "id": "f723406f-0525-4f62-89b3-1cecb457b0ee",
   "metadata": {},
   "source": [
    "We oberve that we do not have a balance data set according to the amount of strokes registered.\n",
    "\n",
    "We have 250 individuals with strokes against 4800 individuals without a stroke"
   ]
  },
  {
   "cell_type": "code",
   "execution_count": 11,
   "id": "7fe2d29b-8c7a-4ae4-ae9c-587e4675533d",
   "metadata": {},
   "outputs": [
    {
     "name": "stdout",
     "output_type": "stream",
     "text": [
      "stroke\n",
      "0    4861\n",
      "1     249\n",
      "Name: count, dtype: int64\n"
     ]
    }
   ],
   "source": [
    "print(df.stroke.value_counts())"
   ]
  },
  {
   "cell_type": "markdown",
   "id": "ae1fb452-3baa-4cc2-ac58-c4e8fda3c4e3",
   "metadata": {},
   "source": [
    "Looking at the stroke data, we see that **it is imbalanced**"
   ]
  },
  {
   "cell_type": "code",
   "execution_count": 12,
   "id": "38d12307-c0ff-4646-ab89-ffce76861426",
   "metadata": {},
   "outputs": [
    {
     "data": {
      "text/plain": [
       "([<matplotlib.patches.Wedge at 0x276243e2ce0>,\n",
       "  <matplotlib.patches.Wedge at 0x276243e2c20>],\n",
       " [Text(-1.3836278213372577, 0.21348080012383747, 'Non-Stroke'),\n",
       "  Text(1.185966701861844, -0.18298355684306683, 'Stroke')],\n",
       " [Text(-0.8894750280025228, 0.13723765722246695, '95.1%'),\n",
       "  Text(0.691813909419409, -0.10674040815845563, '4.9%')])"
      ]
     },
     "execution_count": 12,
     "metadata": {},
     "output_type": "execute_result"
    },
    {
     "data": {
      "image/png": "[encoded data removed]",
      "text/plain": [
       "<Figure size 1000x600 with 1 Axes>"
      ]
     },
     "metadata": {},
     "output_type": "display_data"
    }
   ],
   "source": [
    "plt.figure(figsize=(10,6))\n",
    "plt.pie(df.stroke.value_counts(),labels=['Non-Stroke','Stroke'],autopct='%1.1f%%',\n",
    "        colors=sns.color_palette('mako',2),explode=(0.3,0.1)) # ,textprops={'fontsize':12,'style':'italic'}"
   ]
  },
  {
   "cell_type": "markdown",
   "id": "335de079-95fc-4b20-969a-3df90104ee18",
   "metadata": {},
   "source": [
    "### 1.2 Create a correlation table with the numeric values"
   ]
  },
  {
   "cell_type": "code",
   "execution_count": 13,
   "id": "41342c53-167c-41a4-8d5d-55fdcd9f1b47",
   "metadata": {},
   "outputs": [
    {
     "data": {
      "text/plain": [
       "<Axes: >"
      ]
     },
     "execution_count": 13,
     "metadata": {},
     "output_type": "execute_result"
    },
    {
     "data": {
      "image/png": "[encoded data removed]",
      "text/plain": [
       "<Figure size 640x480 with 2 Axes>"
      ]
     },
     "metadata": {},
     "output_type": "display_data"
    }
   ],
   "source": [
    "df_numeric = pd.concat([df[\"age\"], df[\"heart_disease\"], df[\"hypertension\"], df[\"bmi\"],df[\"avg_glucose_level\"], df[\"stroke\"], ], axis=1)\n",
    "sns.heatmap(df_numeric.corr(), annot=True)"
   ]
  },
  {
   "cell_type": "markdown",
   "id": "3f3bce52-0aeb-43de-849f-13693cdcb50d",
   "metadata": {},
   "source": [
    "For having a stroke, we observe in decrease correlation in the following variables: \n",
    "1) **age** (0.25)\n",
    "2) **heart_disease**, **glucose level** and **hypertension** all three with (0.13),\n",
    "3) **bmi** (0.04)"
   ]
  },
  {
   "cell_type": "markdown",
   "id": "b68bb4af-fe97-44a5-b457-4b275039ee23",
   "metadata": {},
   "source": [
    "## 1.3 Gender vs Stroke analysis"
   ]
  },
  {
   "cell_type": "code",
   "execution_count": 14,
   "id": "9e3d7de7-4255-4e9d-bf53-a9467488d252",
   "metadata": {},
   "outputs": [
    {
     "data": {
      "text/plain": [
       "<Axes: xlabel='gender', ylabel='Density'>"
      ]
     },
     "execution_count": 14,
     "metadata": {},
     "output_type": "execute_result"
    },
    {
     "data": {
      "image/png": "[encoded data removed]",
      "text/plain": [
       "<Figure size 640x480 with 1 Axes>"
      ]
     },
     "metadata": {},
     "output_type": "display_data"
    }
   ],
   "source": [
    "sns.histplot(data=df, x=\"gender\", hue=\"stroke\", multiple=\"stack\", stat=\"density\")\n"
   ]
  },
  {
   "cell_type": "markdown",
   "id": "a93feb83-1323-4fc5-8e51-1352c6cb7e7d",
   "metadata": {},
   "source": [
    "We observe more females having a stroke than males. Approximately 60% of the dataset are females and 40% are males.\n",
    "\n",
    "But the amount of males in the data set is not the same as females.\n",
    "\n",
    "We should calculate its proportion with respect to the samples\n",
    "\n",
    "However, we can observe that the stroke probability is higher on males than females:"
   ]
  },
  {
   "cell_type": "code",
   "execution_count": 1151,
   "id": "a699cb3e-d760-4b77-87b1-56aacda0fcaa",
   "metadata": {},
   "outputs": [
    {
     "data": {
      "text/html": [
       "<div>\n",
       "<style scoped>\n",
       "    .dataframe tbody tr th:only-of-type {\n",
       "        vertical-align: middle;\n",
       "    }\n",
       "\n",
       "    .dataframe tbody tr th {\n",
       "        vertical-align: top;\n",
       "    }\n",
       "\n",
       "    .dataframe thead th {\n",
       "        text-align: right;\n",
       "    }\n",
       "</style>\n",
       "<table border=\"1\" class=\"dataframe\">\n",
       "  <thead>\n",
       "    <tr style=\"text-align: right;\">\n",
       "      <th></th>\n",
       "      <th>stroke</th>\n",
       "      <th>gender</th>\n",
       "      <th>%_stroke</th>\n",
       "    </tr>\n",
       "    <tr>\n",
       "      <th>gender</th>\n",
       "      <th></th>\n",
       "      <th></th>\n",
       "      <th></th>\n",
       "    </tr>\n",
       "  </thead>\n",
       "  <tbody>\n",
       "    <tr>\n",
       "      <th>Female</th>\n",
       "      <td>141</td>\n",
       "      <td>2994</td>\n",
       "      <td>4.709419</td>\n",
       "    </tr>\n",
       "    <tr>\n",
       "      <th>Male</th>\n",
       "      <td>108</td>\n",
       "      <td>2115</td>\n",
       "      <td>5.106383</td>\n",
       "    </tr>\n",
       "    <tr>\n",
       "      <th>Other</th>\n",
       "      <td>0</td>\n",
       "      <td>1</td>\n",
       "      <td>0.000000</td>\n",
       "    </tr>\n",
       "  </tbody>\n",
       "</table>\n",
       "</div>"
      ],
      "text/plain": [
       "        stroke  gender  %_stroke\n",
       "gender                          \n",
       "Female     141    2994  4.709419\n",
       "Male       108    2115  5.106383\n",
       "Other        0       1  0.000000"
      ]
     },
     "execution_count": 1151,
     "metadata": {},
     "output_type": "execute_result"
    }
   ],
   "source": [
    "df_gender_stroke = df.groupby(by=[\"gender\"]).agg({\"stroke\":\"sum\",\"gender\":\"value_counts\"})\n",
    "df_gender_stroke[\"%_stroke\"] = df_gender_stroke[\"stroke\"] / df_gender_stroke[\"gender\"] * 100\n",
    "df_gender_stroke"
   ]
  },
  {
   "cell_type": "code",
   "execution_count": 1152,
   "id": "cdaaf5eb-a85b-4658-a150-c163aa9f4c8c",
   "metadata": {},
   "outputs": [
    {
     "data": {
      "text/plain": [
       "<Axes: xlabel='gender', ylabel='age'>"
      ]
     },
     "execution_count": 1152,
     "metadata": {},
     "output_type": "execute_result"
    },
    {
     "data": {
      "image/png": "[encoded data removed]",
      "text/plain": [
       "<Figure size 640x480 with 1 Axes>"
      ]
     },
     "metadata": {},
     "output_type": "display_data"
    }
   ],
   "source": [
    "sns.scatterplot(data=df, x=\"gender\", y=\"age\")"
   ]
  },
  {
   "cell_type": "markdown",
   "id": "e5c4bcaf-6043-4aa9-b236-9f936454ad56",
   "metadata": {},
   "source": [
    "We see that we have a data set with all the spectrum of ages, for male and females. However for the gender \"other\" we have few individuals."
   ]
  },
  {
   "cell_type": "code",
   "execution_count": 1153,
   "id": "812579ad-02af-42ff-9593-17817e8993cc",
   "metadata": {},
   "outputs": [
    {
     "data": {
      "text/html": [
       "<div>\n",
       "<style scoped>\n",
       "    .dataframe tbody tr th:only-of-type {\n",
       "        vertical-align: middle;\n",
       "    }\n",
       "\n",
       "    .dataframe tbody tr th {\n",
       "        vertical-align: top;\n",
       "    }\n",
       "\n",
       "    .dataframe thead th {\n",
       "        text-align: right;\n",
       "    }\n",
       "</style>\n",
       "<table border=\"1\" class=\"dataframe\">\n",
       "  <thead>\n",
       "    <tr style=\"text-align: right;\">\n",
       "      <th></th>\n",
       "      <th>id</th>\n",
       "      <th>gender</th>\n",
       "      <th>age</th>\n",
       "      <th>hypertension</th>\n",
       "      <th>heart_disease</th>\n",
       "      <th>ever_married</th>\n",
       "      <th>work_type</th>\n",
       "      <th>Residence_type</th>\n",
       "      <th>avg_glucose_level</th>\n",
       "      <th>bmi</th>\n",
       "      <th>smoking_status</th>\n",
       "      <th>stroke</th>\n",
       "    </tr>\n",
       "  </thead>\n",
       "  <tbody>\n",
       "    <tr>\n",
       "      <th>3116</th>\n",
       "      <td>56156</td>\n",
       "      <td>Other</td>\n",
       "      <td>26.0</td>\n",
       "      <td>0</td>\n",
       "      <td>0</td>\n",
       "      <td>No</td>\n",
       "      <td>Private</td>\n",
       "      <td>Rural</td>\n",
       "      <td>143.33</td>\n",
       "      <td>22.4</td>\n",
       "      <td>formerly smoked</td>\n",
       "      <td>0</td>\n",
       "    </tr>\n",
       "  </tbody>\n",
       "</table>\n",
       "</div>"
      ],
      "text/plain": [
       "         id gender   age  hypertension  heart_disease ever_married work_type  \\\n",
       "3116  56156  Other  26.0             0              0           No   Private   \n",
       "\n",
       "     Residence_type  avg_glucose_level   bmi   smoking_status  stroke  \n",
       "3116          Rural             143.33  22.4  formerly smoked       0  "
      ]
     },
     "execution_count": 1153,
     "metadata": {},
     "output_type": "execute_result"
    }
   ],
   "source": [
    "df.loc[df.gender == \"Other\",:]"
   ]
  },
  {
   "cell_type": "markdown",
   "id": "f860e7de-2d4a-419a-b5db-7d446a5c51e7",
   "metadata": {},
   "source": [
    "There is only one individual not within the male/female genders. \n",
    "\n",
    "Since we do not have enough data for non-binary genders, **we are going to take it away from the dataset**. If we had 1000 or more we could have keep them, but in this case, it would bias the prediction, as it is an individual that did not suffer from a stroke.\n",
    "\n",
    "When this individual is deleted, the prediction will only accept male and female genders."
   ]
  },
  {
   "cell_type": "markdown",
   "id": "c21ccf19-1298-47bc-b121-b103675bc747",
   "metadata": {},
   "source": [
    "## 1.5 Smoking status vs Stroke"
   ]
  },
  {
   "cell_type": "code",
   "execution_count": 1154,
   "id": "15646240-99da-4feb-ba46-1b30a9661139",
   "metadata": {},
   "outputs": [
    {
     "data": {
      "text/plain": [
       "<Axes: xlabel='smoking_status', ylabel='Density'>"
      ]
     },
     "execution_count": 1154,
     "metadata": {},
     "output_type": "execute_result"
    },
    {
     "data": {
      "image/png": "[encoded data removed]",
      "text/plain": [
       "<Figure size 640x480 with 1 Axes>"
      ]
     },
     "metadata": {},
     "output_type": "display_data"
    }
   ],
   "source": [
    "sns.histplot(data=df, x=\"smoking_status\", hue=\"stroke\", multiple=\"stack\", stat=\"density\")"
   ]
  },
  {
   "cell_type": "code",
   "execution_count": 1155,
   "id": "830f7ad7-dcc0-4562-ab7a-bdfa2789c88c",
   "metadata": {},
   "outputs": [
    {
     "data": {
      "text/plain": [
       "array(['ever_smoked', 'never smoked', 'Unknown'], dtype=object)"
      ]
     },
     "execution_count": 1155,
     "metadata": {},
     "output_type": "execute_result"
    }
   ],
   "source": [
    "df_smoked = df.copy()\n",
    "def convert_smoked(smoking_status):\n",
    "    if smoking_status == \"formerly smoked\":\n",
    "        return \"ever_smoked\"\n",
    "    elif smoking_status == \"smokes\":\n",
    "        return \"ever_smoked\"\n",
    "    else:\n",
    "        return smoking_status\n",
    "        \n",
    "df_smoked.smoking_status = df_smoked.smoking_status.apply(convert_smoked)\n",
    "df_smoked.smoking_status.unique()"
   ]
  },
  {
   "cell_type": "code",
   "execution_count": 1156,
   "id": "f2c8572c-498a-4f71-b0ad-e2f8562900e1",
   "metadata": {},
   "outputs": [
    {
     "data": {
      "text/html": [
       "<div>\n",
       "<style scoped>\n",
       "    .dataframe tbody tr th:only-of-type {\n",
       "        vertical-align: middle;\n",
       "    }\n",
       "\n",
       "    .dataframe tbody tr th {\n",
       "        vertical-align: top;\n",
       "    }\n",
       "\n",
       "    .dataframe thead th {\n",
       "        text-align: right;\n",
       "    }\n",
       "</style>\n",
       "<table border=\"1\" class=\"dataframe\">\n",
       "  <thead>\n",
       "    <tr style=\"text-align: right;\">\n",
       "      <th></th>\n",
       "      <th>stroke</th>\n",
       "      <th>smoking_status</th>\n",
       "      <th>%_stroke</th>\n",
       "    </tr>\n",
       "    <tr>\n",
       "      <th>smoking_status</th>\n",
       "      <th></th>\n",
       "      <th></th>\n",
       "      <th></th>\n",
       "    </tr>\n",
       "  </thead>\n",
       "  <tbody>\n",
       "    <tr>\n",
       "      <th>Unknown</th>\n",
       "      <td>47</td>\n",
       "      <td>1544</td>\n",
       "      <td>3.044041</td>\n",
       "    </tr>\n",
       "    <tr>\n",
       "      <th>ever_smoked</th>\n",
       "      <td>112</td>\n",
       "      <td>1674</td>\n",
       "      <td>6.690562</td>\n",
       "    </tr>\n",
       "    <tr>\n",
       "      <th>never smoked</th>\n",
       "      <td>90</td>\n",
       "      <td>1892</td>\n",
       "      <td>4.756871</td>\n",
       "    </tr>\n",
       "  </tbody>\n",
       "</table>\n",
       "</div>"
      ],
      "text/plain": [
       "                stroke  smoking_status  %_stroke\n",
       "smoking_status                                  \n",
       "Unknown             47            1544  3.044041\n",
       "ever_smoked        112            1674  6.690562\n",
       "never smoked        90            1892  4.756871"
      ]
     },
     "execution_count": 1156,
     "metadata": {},
     "output_type": "execute_result"
    }
   ],
   "source": [
    "df_smoke_stroke = df_smoked.groupby(by=[\"smoking_status\"]).agg({\"stroke\":\"sum\",\"smoking_status\":\"value_counts\"})\n",
    "df_smoke_stroke[\"%_stroke\"] = df_smoke_stroke[\"stroke\"] / df_smoke_stroke[\"smoking_status\"] * 100\n",
    "df_smoke_stroke"
   ]
  },
  {
   "cell_type": "code",
   "execution_count": 1157,
   "id": "8f12a39e-8258-4ebe-bb12-e1a82505abae",
   "metadata": {},
   "outputs": [
    {
     "name": "stdout",
     "output_type": "stream",
     "text": [
      "                 stroke  smoking_status  %_stroke\n",
      "smoking_status                                   \n",
      "Unknown              47            1544  3.044041\n",
      "formerly smoked      70             885  7.909605\n",
      "never smoked         90            1892  4.756871\n",
      "smokes               42             789  5.323194\n"
     ]
    },
    {
     "data": {
      "text/plain": [
       "<Axes: xlabel='smoking_status', ylabel='%_stroke'>"
      ]
     },
     "execution_count": 1157,
     "metadata": {},
     "output_type": "execute_result"
    },
    {
     "data": {
      "image/png": "[encoded data removed]",
      "text/plain": [
       "<Figure size 640x480 with 1 Axes>"
      ]
     },
     "metadata": {},
     "output_type": "display_data"
    }
   ],
   "source": [
    "df_smoke_stroke = df.groupby(by=[\"smoking_status\"]).agg({\"stroke\":\"sum\",\"smoking_status\":\"value_counts\"})\n",
    "df_smoke_stroke[\"%_stroke\"] = df_smoke_stroke[\"stroke\"] / df_smoke_stroke[\"smoking_status\"] * 100\n",
    "print(df_smoke_stroke)\n",
    "sns.barplot(x=df_smoke_stroke.index, y=df_smoke_stroke[\"%_stroke\"])"
   ]
  },
  {
   "cell_type": "markdown",
   "id": "20159e26-c697-4dfc-b822-056bb7d9d2fa",
   "metadata": {},
   "source": [
    "According to the table, the fact of being a smoker it does not increase the chances of having a stroke. We can see that on the formerly smokers, the chances are high even if they have stopped smoking. \n",
    "\n",
    "However, if we merge the individuals that have ever smoked and the ones that have never smoked, the chances for \"ever smokers\" increases to 6.7% against 4.7% for the \"never smokers\".\n",
    "\n",
    "Later on we will analyse this variable, but at first glance, we could say that smoking is not a cause for having a stroke, as the \"actual smokers\" have not a higher chance than the \"formerly smokers\"."
   ]
  },
  {
   "cell_type": "markdown",
   "id": "159ce255-e7aa-44ad-af44-973eea8f6b5a",
   "metadata": {},
   "source": [
    "## 1.6 Residence type vs Stroke"
   ]
  },
  {
   "cell_type": "code",
   "execution_count": 1158,
   "id": "42dd1055-5a48-411a-b871-17c8e9264d36",
   "metadata": {},
   "outputs": [
    {
     "data": {
      "text/plain": [
       "<Axes: xlabel='Residence_type', ylabel='Density'>"
      ]
     },
     "execution_count": 1158,
     "metadata": {},
     "output_type": "execute_result"
    },
    {
     "data": {
      "image/png": "[encoded data removed]",
      "text/plain": [
       "<Figure size 640x480 with 1 Axes>"
      ]
     },
     "metadata": {},
     "output_type": "display_data"
    }
   ],
   "source": [
    "sns.histplot(data=df, x=\"Residence_type\", hue=\"stroke\", multiple=\"stack\", stat=\"density\")"
   ]
  },
  {
   "cell_type": "code",
   "execution_count": 1159,
   "id": "f4a07524-2659-4959-b486-adc597678d5d",
   "metadata": {},
   "outputs": [
    {
     "name": "stdout",
     "output_type": "stream",
     "text": [
      "                stroke  Residence_type  %_stroke\n",
      "Residence_type                                  \n",
      "Rural              114            2514  4.534606\n",
      "Urban              135            2596  5.200308\n"
     ]
    }
   ],
   "source": [
    "df_r_type = df.groupby(by=[\"Residence_type\"]).agg({\"stroke\":\"sum\",\"Residence_type\":\"value_counts\"})\n",
    "df_r_type[\"%_stroke\"] = df_r_type[\"stroke\"] / df_r_type[\"Residence_type\"] * 100\n",
    "print(df_r_type)"
   ]
  },
  {
   "cell_type": "markdown",
   "id": "c012f318-fb80-4567-b9f0-7159a13754cd",
   "metadata": {},
   "source": [
    "We observe that the *Urban* patients are more likely to have a stroke, with a 5.2% against a 4.5% for the patients living in *Rural* areas.\n",
    "\n",
    "However, it looks like the residence type does not have a clear impact on the chances of having a stroke."
   ]
  },
  {
   "cell_type": "code",
   "execution_count": 1160,
   "id": "81008242-72be-463e-afbe-97e5bc1dc84d",
   "metadata": {},
   "outputs": [
    {
     "name": "stdout",
     "output_type": "stream",
     "text": [
      "               stroke  work_type  %_work_type  %_stroke\n",
      "work_type                                              \n",
      "Govt_job           33        657        12.86      5.02\n",
      "Never_worked        0         22         0.43      0.00\n",
      "Private           149       2925        57.24      5.09\n",
      "Self-employed      65        819        16.03      7.94\n",
      "children            2        687        13.44      0.29\n"
     ]
    },
    {
     "data": {
      "image/png": "[encoded data removed]",
      "text/plain": [
       "<Figure size 640x480 with 1 Axes>"
      ]
     },
     "metadata": {},
     "output_type": "display_data"
    }
   ],
   "source": [
    "total_wt = df.work_type.value_counts().sum()\n",
    "sns.histplot(data=df, x=\"work_type\", hue=\"stroke\", multiple=\"stack\", stat=\"density\")\n",
    "df_wt_group = df.groupby(by=[\"work_type\"]).agg({\"stroke\":\"sum\",\"work_type\":\"value_counts\"})\n",
    "df_wt_group[\"%_work_type\"] = round(df_wt_group[\"work_type\"] / total_wt*100,2)\n",
    "df_wt_group[\"%_stroke\"] = round(df_wt_group[\"stroke\"] / df_wt_group[\"work_type\"]*100,2)\n",
    "print(df_wt_group)"
   ]
  },
  {
   "cell_type": "markdown",
   "id": "e7b3df20-5213-4e76-bf77-979a0df9eebf",
   "metadata": {},
   "source": [
    "Patients of almost half (57%) of the data set work in private companies. The rest are self-employed (16%), goverment job (13%) or never worked (14%).\n",
    "\n",
    "It looks like **having a self-employed job has the highest risk of stroke with 8%**, where as the **private or goverment jobs have the same rate (5%)**."
   ]
  },
  {
   "cell_type": "markdown",
   "id": "b8d5aac0-c31b-417a-bf6c-aa854c2583f4",
   "metadata": {},
   "source": [
    "## 1.7 BMI vs Stroke analysis"
   ]
  },
  {
   "cell_type": "code",
   "execution_count": 1161,
   "id": "9982b55d-e2e5-4ac7-983c-09c525d2f8e2",
   "metadata": {},
   "outputs": [
    {
     "data": {
      "text/plain": [
       "<Axes: xlabel='bmi', ylabel='Density'>"
      ]
     },
     "execution_count": 1161,
     "metadata": {},
     "output_type": "execute_result"
    },
    {
     "data": {
      "image/png": "[encoded data removed]",
      "text/plain": [
       "<Figure size 640x480 with 1 Axes>"
      ]
     },
     "metadata": {},
     "output_type": "display_data"
    }
   ],
   "source": [
    "sns.histplot(data=df, x=\"bmi\", hue=\"stroke\", multiple=\"stack\", stat=\"density\")"
   ]
  },
  {
   "cell_type": "markdown",
   "id": "783972f7-4509-4cf4-9929-904ac604fcea",
   "metadata": {},
   "source": [
    "Looking at the figure we can say that when we are around a BMI of 30, it looks like the chances are higher.\n",
    "\n",
    "The classification of BMI is as follows:\n",
    "\n",
    "![BMI](images/BMI.jpg)\n",
    "\n",
    "Let's study the BMI more in detail and divide the BMI into clusters according to the previous figure."
   ]
  },
  {
   "cell_type": "code",
   "execution_count": 1162,
   "id": "af00f91d-9391-466a-ac28-b2f0c2b6d9a2",
   "metadata": {},
   "outputs": [
    {
     "name": "stdout",
     "output_type": "stream",
     "text": [
      "['Ext_Obese' 'NoBMI' 'Obese' 'Normal' 'Overweight' 'Underweight']\n"
     ]
    },
    {
     "data": {
      "image/png": "[encoded data removed]",
      "text/plain": [
       "<Figure size 640x480 with 1 Axes>"
      ]
     },
     "metadata": {},
     "output_type": "display_data"
    }
   ],
   "source": [
    "# we are going to divide the BMI into clusters\n",
    "def cluster_by_bmi(bmi):\n",
    "    try:\n",
    "        if bmi <= 18.5:\n",
    "            return \"Underweight\"\n",
    "        elif (bmi > 18.5) and (bmi <= 25):\n",
    "            return \"Normal\"\n",
    "        elif (bmi > 25) and (bmi <= 30):\n",
    "            return \"Overweight\"\n",
    "        elif (bmi > 30) and (bmi <= 35):\n",
    "            return \"Obese\"\n",
    "        elif (bmi > 35):\n",
    "            return \"Ext_Obese\"\n",
    "        else:\n",
    "            return \"NoBMI\"\n",
    "    except Exception as e:\n",
    "        return \"NoBMI\"\n",
    "\n",
    "df[\"bmi_cluster\"] = df.bmi.apply(cluster_by_bmi)\n",
    "sns.histplot(data=df, x=\"bmi_cluster\", hue=\"stroke\", multiple=\"stack\", stat=\"density\")\n",
    "print(df.bmi_cluster.unique())"
   ]
  },
  {
   "cell_type": "code",
   "execution_count": 1163,
   "id": "a86aa00e-596d-425e-a731-ae4aefe45a9c",
   "metadata": {},
   "outputs": [
    {
     "name": "stdout",
     "output_type": "stream",
     "text": [
      "             stroke  bmi_cluster  %_stroke\n",
      "bmi_cluster                               \n",
      "Ext_Obese        42          908      4.63\n",
      "NoBMI            40          201     19.90\n",
      "Normal           37         1258      2.94\n",
      "Obese            54          985      5.48\n",
      "Overweight       75         1409      5.32\n",
      "Underweight       1          349      0.29\n"
     ]
    },
    {
     "data": {
      "text/plain": [
       "<Axes: xlabel='bmi_cluster', ylabel='%_stroke'>"
      ]
     },
     "execution_count": 1163,
     "metadata": {},
     "output_type": "execute_result"
    },
    {
     "data": {
      "image/png": "[encoded data removed]",
      "text/plain": [
       "<Figure size 640x480 with 1 Axes>"
      ]
     },
     "metadata": {},
     "output_type": "display_data"
    }
   ],
   "source": [
    "# Calculating the percentage \n",
    "df_proc_bmi_group = df.groupby(by=[\"bmi_cluster\"]).agg({\"stroke\":\"sum\",\"bmi_cluster\":\"value_counts\"})\n",
    "df_proc_bmi_group[\"%_stroke\"] = round(df_proc_bmi_group[\"stroke\"] / df_proc_bmi_group[\"bmi_cluster\"]*100,2)\n",
    "print(df_proc_bmi_group)\n",
    "df_proc_bmi_group = df_proc_bmi_group.drop(\"bmi_cluster\",axis=1)\n",
    "sns.barplot(data=df_proc_bmi_group, x=\"bmi_cluster\", y=\"%_stroke\", hue=\"bmi_cluster\")\n"
   ]
  },
  {
   "cell_type": "markdown",
   "id": "b24ac3c8-fbc8-49d5-bd9e-c6aef5f7d24e",
   "metadata": {},
   "source": [
    "Obese and Overweight BMIs have the same probability of having a stroke and they are also the higher.\n",
    "We can observe that higher BMI values (Extremely Obese) does not increase the chances of having a stroke and we have enough individuals (around 1000) to conclude that. \n",
    "\n",
    "Since we have a high probability for the individuals (200 individuals) without BMI data, \"NoBMI\", taking a mean for the missing values does not seem a good idea.\n",
    "In the data processing, if we take the BMI mean (around 28) to substitute the missing values, we will add a cluster with a high stroke probability (NoBMI with 20%) into the \"Overweight\" group, **generating a bias**.\n",
    "\n",
    "Therefore, if we want to use the BMI as an explanatory variable, we should equally distribute the individuals between all the BMI. But even if we did this even distribution, the BMI would still not explain the probability of having a stroke.\n",
    "\n",
    "**For the data treatment, we will probably erase this explanatory variable or drop the NA values (NoBMI).**\n",
    "\n",
    "If we had an increase in strokes as we increase the BMI we could think about keeping the BMI variable."
   ]
  },
  {
   "cell_type": "markdown",
   "id": "097cc926-2ee3-41e3-96fa-9b36609bca77",
   "metadata": {},
   "source": [
    "## 1.8 Age vs Stroke"
   ]
  },
  {
   "cell_type": "code",
   "execution_count": 1164,
   "id": "37093097-4f13-4a5b-bfe3-15a6dc985889",
   "metadata": {},
   "outputs": [
    {
     "data": {
      "text/plain": [
       "<Axes: xlabel='age', ylabel='stroke'>"
      ]
     },
     "execution_count": 1164,
     "metadata": {},
     "output_type": "execute_result"
    },
    {
     "data": {
      "image/png": "[encoded data removed]",
      "text/plain": [
       "<Figure size 640x480 with 1 Axes>"
      ]
     },
     "metadata": {},
     "output_type": "display_data"
    }
   ],
   "source": [
    "sns.scatterplot(data=df, x=\"age\", y=\"stroke\")"
   ]
  },
  {
   "cell_type": "markdown",
   "id": "f542ff58-da69-4e98-8717-8e1988eeccf9",
   "metadata": {},
   "source": [
    "We observe that the chances of having a stroke increases with ages over 40 years old\n",
    "\n",
    "Let's study the age impact on having a stroke more in detail."
   ]
  },
  {
   "cell_type": "code",
   "execution_count": 1165,
   "id": "b3ed0a5e-6b62-4502-85e5-115435c76b22",
   "metadata": {},
   "outputs": [
    {
     "data": {
      "text/plain": [
       "<Axes: xlabel='age_cluster', ylabel='Density'>"
      ]
     },
     "execution_count": 1165,
     "metadata": {},
     "output_type": "execute_result"
    },
    {
     "data": {
      "image/png": "[encoded data removed]",
      "text/plain": [
       "<Figure size 640x480 with 1 Axes>"
      ]
     },
     "metadata": {},
     "output_type": "display_data"
    }
   ],
   "source": [
    "def cluster_by_ages(age):\n",
    "    if age <= 20:\n",
    "        return \"0-20\"\n",
    "    elif (age > 20) and (age <= 40):\n",
    "        return \"20-40\"\n",
    "    elif (age > 40) and (age <= 60):\n",
    "        return \"40-60\"\n",
    "    elif (age > 60):\n",
    "        return \"60-100s\"\n",
    "        \n",
    "df[\"age_cluster\"] = df.age.apply(cluster_by_ages)\n",
    "df_age = df.sort_values(\"age_cluster\")\n",
    "sns.histplot(data=df_age, x=\"age_cluster\", hue=\"stroke\", multiple=\"stack\", stat=\"density\")"
   ]
  },
  {
   "cell_type": "markdown",
   "id": "7807faca-49e2-46fd-bf0c-48b3d0b56614",
   "metadata": {},
   "source": [
    "We observe that above 60 years old the chances increase by a lot\n",
    "\n",
    "**We are going to split the older ages in 10 years span**"
   ]
  },
  {
   "cell_type": "code",
   "execution_count": 1166,
   "id": "0858e7f7-edb1-49ca-b0d5-67dfa3ad729f",
   "metadata": {},
   "outputs": [
    {
     "data": {
      "text/plain": [
       "<Axes: xlabel='age_cluster', ylabel='Density'>"
      ]
     },
     "execution_count": 1166,
     "metadata": {},
     "output_type": "execute_result"
    },
    {
     "data": {
      "image/png": "[encoded data removed]",
      "text/plain": [
       "<Figure size 640x480 with 1 Axes>"
      ]
     },
     "metadata": {},
     "output_type": "display_data"
    }
   ],
   "source": [
    "def cluster_by_ages(age):\n",
    "    if age <= 20:\n",
    "        return \"0-20\"\n",
    "    elif (age > 20) and (age <= 40):\n",
    "        return \"20-40\"\n",
    "    elif (age > 40) and (age <= 50):\n",
    "        return \"40-50\"\n",
    "    elif (age > 50) and (age <= 60):\n",
    "        return \"50-60\"\n",
    "    elif (age > 60) and (age <= 70):\n",
    "        return \"60-70\"\n",
    "    elif (age > 70) and (age <= 80):\n",
    "        return \"70-80\"\n",
    "    elif (age > 80):\n",
    "        return \"80-100s\"\n",
    "df[\"age_cluster\"] = df.age.apply(cluster_by_ages)\n",
    "df_age = df.sort_values(\"age_cluster\")\n",
    "sns.histplot(data=df_age, x=\"age_cluster\", hue=\"stroke\", multiple=\"stack\", stat=\"density\")"
   ]
  },
  {
   "cell_type": "code",
   "execution_count": 1167,
   "id": "387db80b-b3f5-4cf0-842e-b0e4a38b16be",
   "metadata": {},
   "outputs": [
    {
     "data": {
      "text/html": [
       "<div>\n",
       "<style scoped>\n",
       "    .dataframe tbody tr th:only-of-type {\n",
       "        vertical-align: middle;\n",
       "    }\n",
       "\n",
       "    .dataframe tbody tr th {\n",
       "        vertical-align: top;\n",
       "    }\n",
       "\n",
       "    .dataframe thead th {\n",
       "        text-align: right;\n",
       "    }\n",
       "</style>\n",
       "<table border=\"1\" class=\"dataframe\">\n",
       "  <thead>\n",
       "    <tr style=\"text-align: right;\">\n",
       "      <th></th>\n",
       "      <th>stroke</th>\n",
       "      <th>age_cluster</th>\n",
       "      <th>%_stroke</th>\n",
       "    </tr>\n",
       "    <tr>\n",
       "      <th>age_cluster</th>\n",
       "      <th></th>\n",
       "      <th></th>\n",
       "      <th></th>\n",
       "    </tr>\n",
       "  </thead>\n",
       "  <tbody>\n",
       "    <tr>\n",
       "      <th>0-20</th>\n",
       "      <td>2</td>\n",
       "      <td>1025</td>\n",
       "      <td>0.20</td>\n",
       "    </tr>\n",
       "    <tr>\n",
       "      <th>20-40</th>\n",
       "      <td>6</td>\n",
       "      <td>1219</td>\n",
       "      <td>0.49</td>\n",
       "    </tr>\n",
       "    <tr>\n",
       "      <th>40-50</th>\n",
       "      <td>15</td>\n",
       "      <td>739</td>\n",
       "      <td>2.03</td>\n",
       "    </tr>\n",
       "    <tr>\n",
       "      <th>50-60</th>\n",
       "      <td>49</td>\n",
       "      <td>823</td>\n",
       "      <td>5.95</td>\n",
       "    </tr>\n",
       "    <tr>\n",
       "      <th>60-70</th>\n",
       "      <td>49</td>\n",
       "      <td>594</td>\n",
       "      <td>8.25</td>\n",
       "    </tr>\n",
       "    <tr>\n",
       "      <th>70-80</th>\n",
       "      <td>105</td>\n",
       "      <td>594</td>\n",
       "      <td>17.68</td>\n",
       "    </tr>\n",
       "    <tr>\n",
       "      <th>80-100s</th>\n",
       "      <td>23</td>\n",
       "      <td>116</td>\n",
       "      <td>19.83</td>\n",
       "    </tr>\n",
       "  </tbody>\n",
       "</table>\n",
       "</div>"
      ],
      "text/plain": [
       "             stroke  age_cluster  %_stroke\n",
       "age_cluster                               \n",
       "0-20              2         1025      0.20\n",
       "20-40             6         1219      0.49\n",
       "40-50            15          739      2.03\n",
       "50-60            49          823      5.95\n",
       "60-70            49          594      8.25\n",
       "70-80           105          594     17.68\n",
       "80-100s          23          116     19.83"
      ]
     },
     "execution_count": 1167,
     "metadata": {},
     "output_type": "execute_result"
    }
   ],
   "source": [
    "# As we have different amount of individuals per age, we calculate the percentage of having a stroke over the number of individuals.\n",
    "df_proc_age_group = df.groupby(by=[\"age_cluster\"]).agg({\"stroke\":\"sum\",\"age_cluster\":\"value_counts\"})\n",
    "df_proc_age_group[\"%_stroke\"] = round(df_proc_age_group[\"stroke\"] / df_proc_age_group[\"age_cluster\"]*100,2)\n",
    "df_proc_age_group\n",
    "#The chances of having a stroke clearly increases with age, being above 80 years old has a chance over 19 %\n"
   ]
  },
  {
   "cell_type": "code",
   "execution_count": 1168,
   "id": "bfb895d1-3166-4d0e-b86f-eafb8de5a414",
   "metadata": {},
   "outputs": [
    {
     "name": "stdout",
     "output_type": "stream",
     "text": [
      "                    stroke  gender  %_stroke\n",
      "age_cluster gender                          \n",
      "0-20        Female       2     518      0.39\n",
      "            Male         0     507      0.00\n",
      "20-40       Female       6     801      0.75\n",
      "            Male         0     417      0.00\n",
      "            Other        0       1      0.00\n",
      "40-50       Female       9     457      1.97\n",
      "            Male         6     282      2.13\n",
      "50-60       Female      25     457      5.47\n",
      "            Male        24     366      6.56\n",
      "60-70       Female      25     338      7.40\n",
      "            Male        24     256      9.38\n",
      "70-80       Female      62     352     17.61\n",
      "            Male        43     242     17.77\n",
      "80-100s     Female      12      71     16.90\n",
      "            Male        11      45     24.44\n"
     ]
    }
   ],
   "source": [
    "# Studying the same table by gender\n",
    "df_proc_age_gender_group = df.groupby(by=[\"age_cluster\",\"gender\"], as_index=True).agg({\"stroke\":\"sum\",\"gender\":\"value_counts\"})\n",
    "df_proc_age_gender_group[\"%_stroke\"] = round(df_proc_age_gender_group[\"stroke\"] / df_proc_age_gender_group[\"gender\"]*100,2)\n",
    "print(df_proc_age_gender_group)\n"
   ]
  },
  {
   "cell_type": "code",
   "execution_count": 1169,
   "id": "3a421ea5-4830-49cb-9fe9-211b40340b05",
   "metadata": {},
   "outputs": [
    {
     "name": "stdout",
     "output_type": "stream",
     "text": [
      "Dropping counts for easier plotting\n",
      "                    %_stroke\n",
      "age_cluster gender          \n",
      "0-20        Female      0.39\n",
      "            Male        0.00\n",
      "20-40       Female      0.75\n",
      "            Male        0.00\n",
      "            Other       0.00\n",
      "40-50       Female      1.97\n",
      "            Male        2.13\n",
      "50-60       Female      5.47\n",
      "            Male        6.56\n",
      "60-70       Female      7.40\n",
      "            Male        9.38\n",
      "70-80       Female     17.61\n",
      "            Male       17.77\n",
      "80-100s     Female     16.90\n",
      "            Male       24.44\n"
     ]
    },
    {
     "data": {
      "text/plain": [
       "<Axes: xlabel='age_cluster', ylabel='%_stroke'>"
      ]
     },
     "execution_count": 1169,
     "metadata": {},
     "output_type": "execute_result"
    },
    {
     "data": {
      "image/png": "[encoded data removed]",
      "text/plain": [
       "<Figure size 640x480 with 1 Axes>"
      ]
     },
     "metadata": {},
     "output_type": "display_data"
    }
   ],
   "source": [
    "print(\"Dropping counts for easier plotting\")\n",
    "df_age_gender_plot = df_proc_age_gender_group.copy()\n",
    "df_age_gender_plot = df_age_gender_plot.drop(\"gender\",axis=1)\n",
    "df_age_gender_plot = df_age_gender_plot.drop(\"stroke\",axis=1)\n",
    "print(df_age_gender_plot)\n",
    "\n",
    "sns.barplot(data=df_age_gender_plot, x=\"age_cluster\", y=\"%_stroke\", hue=\"gender\")"
   ]
  },
  {
   "cell_type": "markdown",
   "id": "fc2f4f43-936d-4cac-8d30-23289805e6c1",
   "metadata": {},
   "source": [
    "The chances of having a stroke for people below 40 years old seems to be more highly for women, but still a very low probability < 1%.\n",
    "\n",
    "The chances by gender above 40 years old are similar but slightly higher on men. We observe a high increase on men above 80 years old 24% vs 17% on women\n",
    "\n",
    "With this data, we could not say that gender directly has an effect on the chances of having a stroke"
   ]
  },
  {
   "cell_type": "markdown",
   "id": "dc04071c-c1e5-4bff-a54d-cab078a77c52",
   "metadata": {},
   "source": [
    "## 1.9 Hypertension vs Stroke\n",
    "We observe that the chances of having a stroke increase if the persons has **hypertension**"
   ]
  },
  {
   "cell_type": "code",
   "execution_count": 1170,
   "id": "338bd517-ba1b-4296-96e4-e37b9e74fd00",
   "metadata": {},
   "outputs": [
    {
     "name": "stdout",
     "output_type": "stream",
     "text": [
      "              stroke  hypertension   %_stroke\n",
      "hypertension                                 \n",
      "0                183          4612   3.967910\n",
      "1                 66           498  13.253012\n"
     ]
    }
   ],
   "source": [
    "df_hypert_group = df.groupby(by=\"hypertension\").agg({\"stroke\":\"sum\", \"hypertension\":\"value_counts\"})\n",
    "df_hypert_group[\"%_stroke\"] = df_hypert_group[\"stroke\"] / df_hypert_group[\"hypertension\"] * 100 \n",
    "print(df_hypert_group)"
   ]
  },
  {
   "cell_type": "code",
   "execution_count": 1171,
   "id": "faa81a3e-c3ee-4aec-860b-114b7974dc68",
   "metadata": {},
   "outputs": [
    {
     "name": "stdout",
     "output_type": "stream",
     "text": [
      "                          stroke  hypertension   %_stroke\n",
      "age_cluster hypertension                                 \n",
      "0-20        0                  2          1023   0.195503\n",
      "            1                  0             2   0.000000\n",
      "20-40       0                  5          1179   0.424088\n",
      "            1                  1            40   2.500000\n",
      "40-50       0                 13           686   1.895044\n",
      "            1                  2            53   3.773585\n",
      "50-60       0                 38           702   5.413105\n",
      "            1                 11           121   9.090909\n",
      "60-70       0                 36           485   7.422680\n",
      "            1                 13           109  11.926606\n",
      "70-80       0                 72           450  16.000000\n",
      "            1                 33           144  22.916667\n",
      "80-100s     0                 17            87  19.540230\n",
      "            1                  6            29  20.689655\n"
     ]
    },
    {
     "data": {
      "text/plain": [
       "<Axes: xlabel='age_cluster', ylabel='%_stroke'>"
      ]
     },
     "execution_count": 1171,
     "metadata": {},
     "output_type": "execute_result"
    },
    {
     "data": {
      "image/png": "[encoded data removed]",
      "text/plain": [
       "<Figure size 640x480 with 1 Axes>"
      ]
     },
     "metadata": {},
     "output_type": "display_data"
    }
   ],
   "source": [
    "df_hypert_age_group = df.groupby(by=[\"age_cluster\",\"hypertension\"]).agg({\"stroke\":\"sum\", \"hypertension\":\"value_counts\"})\n",
    "df_hypert_age_group[\"%_stroke\"] = df_hypert_age_group[\"stroke\"] / df_hypert_age_group[\"hypertension\"] * 100 \n",
    "print(df_hypert_age_group)\n",
    "df_hypert_age_group = df_hypert_age_group.drop([\"stroke\",\"hypertension\"],axis=1)\n",
    "sns.barplot(data=df_hypert_age_group, x=\"age_cluster\", hue=\"hypertension\", y=\"%_stroke\")"
   ]
  },
  {
   "cell_type": "markdown",
   "id": "8f07802c-d9e5-4509-828e-91cf321a4ddb",
   "metadata": {},
   "source": [
    "We can clearly see that the hypertension patients have higher risks of stroke for any age group"
   ]
  },
  {
   "cell_type": "markdown",
   "id": "94e93a24-2f9f-426b-b7a7-1e449c2cbc3a",
   "metadata": {},
   "source": [
    "## 1.10 Heart diseases vs Stroke\n",
    "\n",
    "In general, we observe that the chances of having a stroke increase if the persons have a **heart disease**"
   ]
  },
  {
   "cell_type": "code",
   "execution_count": 1172,
   "id": "fe1a778a-c08f-439f-ae4c-635607d648b8",
   "metadata": {},
   "outputs": [
    {
     "name": "stdout",
     "output_type": "stream",
     "text": [
      "               stroke  heart_disease   %_stroke\n",
      "heart_disease                                  \n",
      "0                 202           4834   4.178734\n",
      "1                  47            276  17.028986\n"
     ]
    }
   ],
   "source": [
    "df_heart_group = df.groupby(by=\"heart_disease\").agg({\"stroke\":\"sum\", \"heart_disease\":\"value_counts\"})\n",
    "df_heart_group[\"%_stroke\"] = df_heart_group[\"stroke\"] / df_heart_group[\"heart_disease\"] * 100 \n",
    "print(df_heart_group)"
   ]
  },
  {
   "cell_type": "code",
   "execution_count": 1173,
   "id": "244232f2-95c5-4d63-90f4-dc86ffdd77c6",
   "metadata": {},
   "outputs": [
    {
     "name": "stdout",
     "output_type": "stream",
     "text": [
      "                           stroke  heart_disease   %_stroke\n",
      "age_cluster heart_disease                                  \n",
      "0-20        0                   2           1024   0.195312\n",
      "            1                   0              1   0.000000\n",
      "20-40       0                   6           1217   0.493016\n",
      "            1                   0              2   0.000000\n",
      "40-50       0                  15            723   2.074689\n",
      "            1                   0             16   0.000000\n",
      "50-60       0                  44            776   5.670103\n",
      "            1                   5             47  10.638298\n",
      "60-70       0                  33            526   6.273764\n",
      "            1                  16             68  23.529412\n",
      "70-80       0                  86            479  17.954071\n",
      "            1                  19            115  16.521739\n",
      "80-100s     0                  16             89  17.977528\n",
      "            1                   7             27  25.925926\n"
     ]
    },
    {
     "data": {
      "text/plain": [
       "<Axes: xlabel='age_cluster', ylabel='%_stroke'>"
      ]
     },
     "execution_count": 1173,
     "metadata": {},
     "output_type": "execute_result"
    },
    {
     "data": {
      "image/png": "[encoded data removed]",
      "text/plain": [
       "<Figure size 640x480 with 1 Axes>"
      ]
     },
     "metadata": {},
     "output_type": "display_data"
    }
   ],
   "source": [
    "df_heart_age_group = df.groupby(by=[\"age_cluster\",\"heart_disease\"]).agg({\"stroke\":\"sum\", \"heart_disease\":\"value_counts\"})\n",
    "df_heart_age_group[\"%_stroke\"] = df_heart_age_group[\"stroke\"] / df_heart_age_group[\"heart_disease\"] * 100 \n",
    "print(df_heart_age_group)\n",
    "df_heart_age_group = df_heart_age_group.drop([\"stroke\",\"heart_disease\"],axis=1)\n",
    "sns.barplot(data=df_heart_age_group, x=\"age_cluster\", hue=\"heart_disease\", y=\"%_stroke\")"
   ]
  },
  {
   "cell_type": "markdown",
   "id": "8f97c395-471d-4cb4-903f-70742f6b517c",
   "metadata": {},
   "source": [
    "We can see that the patients with a heart disease have higher risks of stroke for most of the age groups"
   ]
  },
  {
   "cell_type": "markdown",
   "id": "500c2f43-b88c-41ab-a6d0-a50b65a1cbd3",
   "metadata": {},
   "source": [
    "## 1.11 EverMarried vs Stroke"
   ]
  },
  {
   "cell_type": "code",
   "execution_count": 1174,
   "id": "bfe644c3-a800-4383-a836-2fd38c1a9431",
   "metadata": {},
   "outputs": [
    {
     "name": "stdout",
     "output_type": "stream",
     "text": [
      "              stroke  ever_married  %_stroke\n",
      "ever_married                                \n",
      "No                29          1757  1.650541\n",
      "Yes              220          3353  6.561288\n"
     ]
    },
    {
     "data": {
      "image/png": "[encoded data removed]",
      "text/plain": [
       "<Figure size 640x480 with 1 Axes>"
      ]
     },
     "metadata": {},
     "output_type": "display_data"
    }
   ],
   "source": [
    "sns.histplot(data=df, x=\"ever_married\", hue=\"stroke\", multiple=\"stack\", stat=\"density\")\n",
    "df_married_group = df.groupby(by=[\"ever_married\"]).agg({\"stroke\":\"sum\", \"ever_married\":\"value_counts\"})\n",
    "df_married_group[\"%_stroke\"] = df_married_group[\"stroke\"] / df_married_group[\"ever_married\"] * 100 \n",
    "print(df_married_group)"
   ]
  },
  {
   "cell_type": "markdown",
   "id": "82f452af-e910-4b52-9f45-bfcf0497c0ac",
   "metadata": {},
   "source": [
    "At first sight, we observe that the married people could tend to have more strokes than the non-married.\n",
    "\n",
    "This invites to think that being married could be a cause for a stroke, but we have seen that in the individuals we have youngsters and teenagers, and on these ages we have a low probability of having a stroke and being married too. \n",
    "\n",
    "Since being married is more related to age we are going to study the relantionship on both age and being married on suffering a stroke."
   ]
  },
  {
   "cell_type": "code",
   "execution_count": 1175,
   "id": "afda1ffc-e00e-46b9-be44-fd7fc40d00d6",
   "metadata": {},
   "outputs": [
    {
     "name": "stdout",
     "output_type": "stream",
     "text": [
      "                          stroke  ever_married   %_stroke\n",
      "age_cluster ever_married                                 \n",
      "0-20        No                 2          1018   0.196464\n",
      "            Yes                0             7   0.000000\n",
      "20-40       No                 1           497   0.201207\n",
      "            Yes                5           722   0.692521\n",
      "40-50       No                 2            79   2.531646\n",
      "            Yes               13           660   1.969697\n",
      "50-60       No                 4            63   6.349206\n",
      "            Yes               45           760   5.921053\n",
      "60-70       No                 5            34  14.705882\n",
      "            Yes               44           560   7.857143\n",
      "70-80       No                13            50  26.000000\n",
      "            Yes               92           544  16.911765\n",
      "80-100s     No                 2            16  12.500000\n",
      "            Yes               21           100  21.000000\n"
     ]
    },
    {
     "data": {
      "text/plain": [
       "<Axes: xlabel='age_cluster', ylabel='%_stroke'>"
      ]
     },
     "execution_count": 1175,
     "metadata": {},
     "output_type": "execute_result"
    },
    {
     "data": {
      "image/png": "[encoded data removed]",
      "text/plain": [
       "<Figure size 640x480 with 1 Axes>"
      ]
     },
     "metadata": {},
     "output_type": "display_data"
    }
   ],
   "source": [
    "df_married_group = df.groupby(by=[\"age_cluster\",\"ever_married\"]).agg({\"stroke\":\"sum\", \"ever_married\":\"value_counts\"})\n",
    "df_married_group[\"%_stroke\"] = df_married_group[\"stroke\"] / df_married_group[\"ever_married\"] * 100 \n",
    "print(df_married_group)\n",
    "df_married_group = df_married_group.drop([\"stroke\",\"ever_married\"],axis=1)\n",
    "sns.barplot(data=df_married_group, x=\"age_cluster\", hue=\"ever_married\", y=\"%_stroke\")"
   ]
  },
  {
   "cell_type": "markdown",
   "id": "ea13d6f4-8e8b-4559-8de3-f7a87bd39d3f",
   "metadata": {},
   "source": [
    "On the previous barplot, we see that:\n",
    "- Between 60 and 80 years old, the \"never married\" people has more chances of having a stroke.\n",
    "- Above 80 years old, the chance increases for the \"ever-married\" ones.\n",
    "- For people between 40 and 60 years old the chances are slightly the same.\n",
    "\n",
    "At the beginning we saw that \"ever-married\" had 6% of the strokes against 1.65% of \"never-married\". \n",
    "\n",
    "However, looking at the barplot we could say that the people that have never been married have higher probabilities of having a stroke for ages between 60 and 80 years old. It decreases again for people above 80 years old. It seems that the fact of ever been married is not a direct cause.\n",
    "\n",
    "Therefore, we can not conclude that being married could directly explain the chances of having a stroke. "
   ]
  },
  {
   "cell_type": "markdown",
   "id": "dc771f01-743b-4ba5-acd8-fc8cff82a192",
   "metadata": {},
   "source": [
    "## 1.12 Glucose Level vs Stroke"
   ]
  },
  {
   "cell_type": "markdown",
   "id": "4a68c647-5aef-4a7c-95cb-3ad6ea583e6b",
   "metadata": {},
   "source": [
    "At first sight, we can not see that a certain glucose level has an impact on the stroke chances."
   ]
  },
  {
   "cell_type": "code",
   "execution_count": 1176,
   "id": "4ab3a28b-77a8-4994-a857-64609e0930c0",
   "metadata": {},
   "outputs": [
    {
     "data": {
      "text/plain": [
       "<Axes: xlabel='avg_glucose_level', ylabel='stroke'>"
      ]
     },
     "execution_count": 1176,
     "metadata": {},
     "output_type": "execute_result"
    },
    {
     "data": {
      "image/png": "[encoded data removed]",
      "text/plain": [
       "<Figure size 640x480 with 1 Axes>"
      ]
     },
     "metadata": {},
     "output_type": "display_data"
    }
   ],
   "source": [
    "sns.scatterplot(data=df, x=\"avg_glucose_level\", y=\"stroke\")"
   ]
  },
  {
   "cell_type": "code",
   "execution_count": 1177,
   "id": "06ad4641-e6a8-4313-a40c-aa28dd930d07",
   "metadata": {},
   "outputs": [
    {
     "data": {
      "text/plain": [
       "<Axes: xlabel='avg_glucose_level', ylabel='Density'>"
      ]
     },
     "execution_count": 1177,
     "metadata": {},
     "output_type": "execute_result"
    },
    {
     "data": {
      "image/png": "[encoded data removed]",
      "text/plain": [
       "<Figure size 640x480 with 1 Axes>"
      ]
     },
     "metadata": {},
     "output_type": "display_data"
    }
   ],
   "source": [
    "sns.histplot(x=df[\"avg_glucose_level\"], hue=df[\"stroke\"], stat=\"density\", bins=10)"
   ]
  },
  {
   "cell_type": "markdown",
   "id": "25b73a4e-642e-4e0a-8646-1a425325eb03",
   "metadata": {},
   "source": [
    "We are going to classify the average glucose level according to the diabetes claissification (A1C% column):\n",
    "\n",
    "![diabetes](images/diabetes_glucose_level.jpg)"
   ]
  },
  {
   "cell_type": "code",
   "execution_count": 1178,
   "id": "1256a025-d8c0-4a66-bdaa-867dd38c122e",
   "metadata": {},
   "outputs": [
    {
     "name": "stdout",
     "output_type": "stream",
     "text": [
      "['D04' 'D05' 'D06' 'D07' 'D08' 'D09' 'D10']\n"
     ]
    },
    {
     "data": {
      "image/png": "[encoded data removed]",
      "text/plain": [
       "<Figure size 640x480 with 1 Axes>"
      ]
     },
     "metadata": {},
     "output_type": "display_data"
    }
   ],
   "source": [
    "def cluster_by_glucose(glucose):\n",
    "    try:\n",
    "        if glucose < 80:\n",
    "            return \"D04\"\n",
    "        elif glucose < 115:\n",
    "            return \"D05\"\n",
    "        elif glucose < 150:\n",
    "            return \"D06\"\n",
    "        elif glucose < 180:\n",
    "            return \"D07\"\n",
    "        elif glucose < 215:\n",
    "            return \"D08\"\n",
    "        elif glucose < 250:\n",
    "            return \"D09\"\n",
    "        elif glucose < 280:\n",
    "            return \"D10\"\n",
    "        elif glucose < 315:\n",
    "            return \"D11\"\n",
    "        elif glucose < 350:\n",
    "            return \"D12\"\n",
    "        elif glucose < 380:\n",
    "            return \"D13\"\n",
    "        else:\n",
    "            return \"D14\"\n",
    "    except Exception as e:\n",
    "        return \"Unknown\"\n",
    "        \n",
    "df[\"glucose_cluster\"] = df.avg_glucose_level.apply(cluster_by_glucose)\n",
    "df = df.sort_values(by=\"glucose_cluster\")\n",
    "sns.histplot(data=df, x=\"glucose_cluster\", hue=\"stroke\", multiple=\"stack\", stat=\"density\")\n",
    "print(df.glucose_cluster.unique())"
   ]
  },
  {
   "cell_type": "code",
   "execution_count": 1179,
   "id": "6e9aa0bc-90a7-4ac9-9ec5-f066bcf27f34",
   "metadata": {},
   "outputs": [
    {
     "data": {
      "text/html": [
       "<div>\n",
       "<style scoped>\n",
       "    .dataframe tbody tr th:only-of-type {\n",
       "        vertical-align: middle;\n",
       "    }\n",
       "\n",
       "    .dataframe tbody tr th {\n",
       "        vertical-align: top;\n",
       "    }\n",
       "\n",
       "    .dataframe thead th {\n",
       "        text-align: right;\n",
       "    }\n",
       "</style>\n",
       "<table border=\"1\" class=\"dataframe\">\n",
       "  <thead>\n",
       "    <tr style=\"text-align: right;\">\n",
       "      <th></th>\n",
       "      <th>stroke</th>\n",
       "      <th>glucose_cluster</th>\n",
       "      <th>%_stroke</th>\n",
       "    </tr>\n",
       "    <tr>\n",
       "      <th>glucose_cluster</th>\n",
       "      <th></th>\n",
       "      <th></th>\n",
       "      <th></th>\n",
       "    </tr>\n",
       "  </thead>\n",
       "  <tbody>\n",
       "    <tr>\n",
       "      <th>D04</th>\n",
       "      <td>63</td>\n",
       "      <td>1530</td>\n",
       "      <td>4.117647</td>\n",
       "    </tr>\n",
       "    <tr>\n",
       "      <th>D05</th>\n",
       "      <td>79</td>\n",
       "      <td>2338</td>\n",
       "      <td>3.378956</td>\n",
       "    </tr>\n",
       "    <tr>\n",
       "      <th>D06</th>\n",
       "      <td>17</td>\n",
       "      <td>511</td>\n",
       "      <td>3.326810</td>\n",
       "    </tr>\n",
       "    <tr>\n",
       "      <th>D07</th>\n",
       "      <td>11</td>\n",
       "      <td>148</td>\n",
       "      <td>7.432432</td>\n",
       "    </tr>\n",
       "    <tr>\n",
       "      <th>D08</th>\n",
       "      <td>42</td>\n",
       "      <td>314</td>\n",
       "      <td>13.375796</td>\n",
       "    </tr>\n",
       "    <tr>\n",
       "      <th>D09</th>\n",
       "      <td>32</td>\n",
       "      <td>244</td>\n",
       "      <td>13.114754</td>\n",
       "    </tr>\n",
       "    <tr>\n",
       "      <th>D10</th>\n",
       "      <td>5</td>\n",
       "      <td>25</td>\n",
       "      <td>20.000000</td>\n",
       "    </tr>\n",
       "  </tbody>\n",
       "</table>\n",
       "</div>"
      ],
      "text/plain": [
       "                 stroke  glucose_cluster   %_stroke\n",
       "glucose_cluster                                    \n",
       "D04                  63             1530   4.117647\n",
       "D05                  79             2338   3.378956\n",
       "D06                  17              511   3.326810\n",
       "D07                  11              148   7.432432\n",
       "D08                  42              314  13.375796\n",
       "D09                  32              244  13.114754\n",
       "D10                   5               25  20.000000"
      ]
     },
     "execution_count": 1179,
     "metadata": {},
     "output_type": "execute_result"
    }
   ],
   "source": [
    "df_glucose_cluster = df.groupby(by=\"glucose_cluster\", as_index=True).agg({\"stroke\":\"sum\", \"glucose_cluster\":\"value_counts\"})\n",
    "df_glucose_cluster[\"%_stroke\"] = df_glucose_cluster[\"stroke\"]/df_glucose_cluster[\"glucose_cluster\"] * 100\n",
    "df_glucose_cluster"
   ]
  },
  {
   "cell_type": "code",
   "execution_count": 1180,
   "id": "b04bbf53-dc82-4d17-bb81-a83f5f8cfd29",
   "metadata": {},
   "outputs": [
    {
     "data": {
      "text/plain": [
       "<Axes: xlabel='glucose_cluster', ylabel='%_stroke'>"
      ]
     },
     "execution_count": 1180,
     "metadata": {},
     "output_type": "execute_result"
    },
    {
     "data": {
      "image/png": "[encoded data removed]",
      "text/plain": [
       "<Figure size 640x480 with 1 Axes>"
      ]
     },
     "metadata": {},
     "output_type": "display_data"
    }
   ],
   "source": [
    "sns.barplot(data=df_glucose_cluster, x=df_glucose_cluster.index, y=\"%_stroke\")"
   ]
  },
  {
   "cell_type": "markdown",
   "id": "a05d7082-fb93-4fbc-931c-66bc6a6e843c",
   "metadata": {},
   "source": [
    "We can see that for patients above the glucose group 7 in A1C%, which are clinically identified as diabetic, **the chances of having stroke increse for higher levels of diabetes**.\n"
   ]
  },
  {
   "cell_type": "markdown",
   "id": "1d899188-be8f-4e6e-9386-bab06aafcbc6",
   "metadata": {},
   "source": [
    "## 1.13 Worktype vs Stroke"
   ]
  },
  {
   "cell_type": "code",
   "execution_count": 1181,
   "id": "799ac384-f3da-44c2-b61f-33840506d7c4",
   "metadata": {},
   "outputs": [
    {
     "data": {
      "text/plain": [
       "<Axes: xlabel='work_type', ylabel='Density'>"
      ]
     },
     "execution_count": 1181,
     "metadata": {},
     "output_type": "execute_result"
    },
    {
     "data": {
      "image/png": "[encoded data removed]",
      "text/plain": [
       "<Figure size 640x480 with 1 Axes>"
      ]
     },
     "metadata": {},
     "output_type": "display_data"
    }
   ],
   "source": [
    "sns.histplot(data=df, x=\"work_type\", hue=\"stroke\", multiple=\"stack\", stat=\"density\")"
   ]
  },
  {
   "cell_type": "code",
   "execution_count": 1182,
   "id": "2a5bcf67-a2d1-4af5-8b09-6d99a519e149",
   "metadata": {
    "scrolled": true
   },
   "outputs": [
    {
     "data": {
      "text/html": [
       "<div>\n",
       "<style scoped>\n",
       "    .dataframe tbody tr th:only-of-type {\n",
       "        vertical-align: middle;\n",
       "    }\n",
       "\n",
       "    .dataframe tbody tr th {\n",
       "        vertical-align: top;\n",
       "    }\n",
       "\n",
       "    .dataframe thead th {\n",
       "        text-align: right;\n",
       "    }\n",
       "</style>\n",
       "<table border=\"1\" class=\"dataframe\">\n",
       "  <thead>\n",
       "    <tr style=\"text-align: right;\">\n",
       "      <th></th>\n",
       "      <th>stroke</th>\n",
       "      <th>work_type</th>\n",
       "      <th>%_stroke</th>\n",
       "    </tr>\n",
       "    <tr>\n",
       "      <th>work_type</th>\n",
       "      <th></th>\n",
       "      <th></th>\n",
       "      <th></th>\n",
       "    </tr>\n",
       "  </thead>\n",
       "  <tbody>\n",
       "    <tr>\n",
       "      <th>Govt_job</th>\n",
       "      <td>33</td>\n",
       "      <td>657</td>\n",
       "      <td>5.022831</td>\n",
       "    </tr>\n",
       "    <tr>\n",
       "      <th>Never_worked</th>\n",
       "      <td>0</td>\n",
       "      <td>22</td>\n",
       "      <td>0.000000</td>\n",
       "    </tr>\n",
       "    <tr>\n",
       "      <th>Private</th>\n",
       "      <td>149</td>\n",
       "      <td>2925</td>\n",
       "      <td>5.094017</td>\n",
       "    </tr>\n",
       "    <tr>\n",
       "      <th>Self-employed</th>\n",
       "      <td>65</td>\n",
       "      <td>819</td>\n",
       "      <td>7.936508</td>\n",
       "    </tr>\n",
       "    <tr>\n",
       "      <th>children</th>\n",
       "      <td>2</td>\n",
       "      <td>687</td>\n",
       "      <td>0.291121</td>\n",
       "    </tr>\n",
       "  </tbody>\n",
       "</table>\n",
       "</div>"
      ],
      "text/plain": [
       "               stroke  work_type  %_stroke\n",
       "work_type                                 \n",
       "Govt_job           33        657  5.022831\n",
       "Never_worked        0         22  0.000000\n",
       "Private           149       2925  5.094017\n",
       "Self-employed      65        819  7.936508\n",
       "children            2        687  0.291121"
      ]
     },
     "execution_count": 1182,
     "metadata": {},
     "output_type": "execute_result"
    }
   ],
   "source": [
    "df_work_type_group = df.groupby(by=\"work_type\", as_index=True).agg({\"stroke\":\"sum\", \"work_type\":\"value_counts\"})\n",
    "df_work_type_group[\"%_stroke\"] = df_work_type_group[\"stroke\"]/df_work_type_group[\"work_type\"] * 100\n",
    "df_work_type_group"
   ]
  },
  {
   "cell_type": "markdown",
   "id": "f9087d3d-c667-42b9-b5fa-359270e0342b",
   "metadata": {},
   "source": [
    "We observe a 5% of strokes on the private and goverment jobs. The self-employed jobs have an 8% chance of having a stroke. \n",
    "\n",
    "Thus, it looks like **self-employed workers have a higher chance of suffering a stroke**. This could be related to a more stressfull job type."
   ]
  },
  {
   "cell_type": "markdown",
   "id": "9c677877-b385-4a1a-9cb9-67a7bae9177b",
   "metadata": {},
   "source": [
    "# 2. Data pre-processing (cleaning and transforming)\n",
    "\n",
    "Before starting with the variable selection, we must transform our data set. In order to prepare it for the modelling, we are going to:\n",
    "1) Drop the **id** number, **ever_married** and **smoking_status** as we haven't found a direct correlation.\n",
    "2) Drop the NA values of the **bmi** column. On the *Data Analysis* part, we saw that if we took the mean of the BMI to substitute the NA values, we will probably bias the data by creating 40 new strokes with BMI=28, which is not true. Also, we had seen that the BMI does not have a high correlation on strokes. For these reasons we are going to drop only the NA values and keep the rest to see if the feature is important during the *Feature Selection*.\n",
    "3) Erase the only individual having **Other as gender**, as we do not have enough data for this non-binary gender.\n",
    "4) For the non-numerical variables *(gender, \tever_married, \twork_type, \tResidence_type, \tsmoking_status)* we are going to use **one-hot-encoding**. As the status are defined as we we can assume that we can have one work type, being married once, one gender, one residence type and one of the smoking status.\n",
    "5) For the numerical variables (*age* and *avg_glucose_level*) we are going to **normalise** with a **StandardScaler** their values as it favours its learning potential.\n",
    "6) Make a pipeline for treating the numerical and non-numerical variables\n",
    "7) Make a data balancing by using **SMOTENC**. Note that SMOTENC permits to balance a data set with Categorical Features.\n",
    "\n",
    "The dataset object after **data cleaning** is called *df_proc_**\n",
    "\n",
    "The dataset object after **data transformation** is called *df_transf_**"
   ]
  },
  {
   "cell_type": "code",
   "execution_count": 254,
   "id": "e190da3e-d682-48c8-a853-7ef5ab34ce72",
   "metadata": {},
   "outputs": [],
   "source": [
    "df_proc = df_raw.copy()"
   ]
  },
  {
   "cell_type": "markdown",
   "id": "6b9a0254-7a94-4a78-a752-57bc02880425",
   "metadata": {},
   "source": [
    "## 2.1 Id and Smoking Status\n",
    "\n",
    "Drop the id column and the Smoking Status.\n",
    "\n",
    "As we have discussed in the data analysis part, the impact of the *smoking_status* is not logical, as it gives higher chances to the *formerly smokers* than the *smokers*. Therefore, we will not take this feature into account for our model."
   ]
  },
  {
   "cell_type": "code",
   "execution_count": 255,
   "id": "fa5aa366-f4e3-4112-a7c5-500b711e5fb1",
   "metadata": {},
   "outputs": [
    {
     "data": {
      "text/plain": [
       "Index(['gender', 'age', 'hypertension', 'heart_disease', 'work_type',\n",
       "       'Residence_type', 'avg_glucose_level', 'bmi', 'stroke'],\n",
       "      dtype='object')"
      ]
     },
     "execution_count": 255,
     "metadata": {},
     "output_type": "execute_result"
    }
   ],
   "source": [
    "df_proc = df_proc.drop([\"id\"], axis = 1)\n",
    "df_proc = df_proc.drop([\"smoking_status\"], axis = 1)\n",
    "df_proc = df_proc.drop([\"ever_married\"], axis = 1)\n",
    "df_proc.columns"
   ]
  },
  {
   "cell_type": "markdown",
   "id": "611890d0-ec4c-4b99-9a2b-435f984712d3",
   "metadata": {},
   "source": [
    "## 2.2 BMI treatment\n",
    "\n",
    "Drop NA values on the BMI column\n",
    "\n",
    "**NB:** For the sake of validating this dropping. We have tested to substitute the BMI NA values by its mean and we had obtained a worst model accuracy. Meaning that we insert a bias into the \"Overweight\" group, as discussed in the Data Analysis part."
   ]
  },
  {
   "cell_type": "code",
   "execution_count": 256,
   "id": "9d9c0413-18db-43b5-b05b-01d64e9c490b",
   "metadata": {},
   "outputs": [
    {
     "data": {
      "text/plain": [
       "Index(['gender', 'age', 'hypertension', 'heart_disease', 'work_type',\n",
       "       'Residence_type', 'avg_glucose_level', 'bmi', 'stroke'],\n",
       "      dtype='object')"
      ]
     },
     "execution_count": 256,
     "metadata": {},
     "output_type": "execute_result"
    }
   ],
   "source": [
    "# df_proc = df_proc.drop([\"bmi\"], axis = 1)\n",
    "# df_proc[\"bmi\"] = df_proc[\"bmi\"].fillna(df_proc[\"bmi\"].mean())\n",
    "df_proc = df_proc.dropna() # as the NA values are only on the BMI column\n",
    "df_proc.columns"
   ]
  },
  {
   "cell_type": "markdown",
   "id": "fd2b8786-96b8-4590-b1df-a014f96f27d3",
   "metadata": {},
   "source": [
    "## 2.3 Erase \"Other\" gender individual"
   ]
  },
  {
   "cell_type": "code",
   "execution_count": 257,
   "id": "798da7e1-cad7-49ba-936f-4fbf87ea36dd",
   "metadata": {},
   "outputs": [
    {
     "name": "stdout",
     "output_type": "stream",
     "text": [
      "Index([3116], dtype='int64')\n"
     ]
    },
    {
     "data": {
      "text/plain": [
       "array(['Male', 'Female'], dtype=object)"
      ]
     },
     "execution_count": 257,
     "metadata": {},
     "output_type": "execute_result"
    }
   ],
   "source": [
    "idx = df_proc[df_proc.gender == \"Other\"].index\n",
    "print(idx)\n",
    "df_proc = df_proc.drop(index=idx, axis = 0)\n",
    "df_proc.gender.unique()\n"
   ]
  },
  {
   "cell_type": "markdown",
   "id": "c67cbad2-9525-4b82-b738-e820bbd60bc7",
   "metadata": {},
   "source": [
    "## 2.4 One hot encoding\n",
    "On this part we start the *Data Transformation* to favour the learning.\n",
    "\n",
    "We are going to call the transformed dataset as *df_transf*. We are going to:\n",
    "\n",
    "1) There are also the columns *hypertension* and *heart_disease* that are already hot-encoded. We are going to transform them as boolean to ease pipeline automation.\n",
    "2) Split the data set into train_test and testing before starting the *Data Transformation*"
   ]
  },
  {
   "cell_type": "markdown",
   "id": "6f2a8e66-9450-42ab-8ed8-8df3d0290ffc",
   "metadata": {},
   "source": [
    "## 2.4.1 Convert int to bool\n",
    "This will favor pipeline automation"
   ]
  },
  {
   "cell_type": "code",
   "execution_count": 258,
   "id": "2c3bef53-eb4c-4879-b0a4-a016042d7cbb",
   "metadata": {},
   "outputs": [],
   "source": [
    "# The data that is already hot econded in the dataset\n",
    "df_proc.hypertension = df_proc.hypertension.astype(bool)\n",
    "df_proc.heart_disease = df_proc.heart_disease.astype(bool)"
   ]
  },
  {
   "cell_type": "markdown",
   "id": "ce4a3877-019e-4974-ab7b-2f46efb3d578",
   "metadata": {},
   "source": [
    "## 2.4.2 Split the data set\n",
    "\n",
    "Before starting the transformation, we are going to split the data into *training*, *validation* and *test*.\n",
    "\n",
    "We are going to use:\n",
    "1) the *training* set for *SMOTE* **after the transformation**\n",
    "2) a *validation* set for *fine-tuning*\n",
    "3) and *test* set for the final step\n",
    "\n",
    "Notice that, we want to validate without any synthetic data in the *test* and *validation* set.\n",
    "\n",
    "**We have focused the SMOTE on the training set because we have observed that if we smote all the data set, the results will tend to overfit the data.** \n",
    "\n",
    "When dividing the data set in three, we are going to use the following ratios:\n",
    "- Training set: 70%\n",
    "- Validation set: 15%\n",
    "- Test set: 15%"
   ]
  },
  {
   "cell_type": "code",
   "execution_count": 259,
   "id": "a5cc38ac-d887-4b31-97c2-6ab5e0531e0e",
   "metadata": {},
   "outputs": [],
   "source": [
    "from sklearn.model_selection import train_test_split\n",
    "\n",
    "\n",
    "X = df_proc.drop([\"stroke\"], axis = 1) ## Remember that df_proc is the data after cleaning, not yet transformed\n",
    "y = df_proc[\"stroke\"]\n",
    "\n",
    "# Define ratios, w.r.t. whole dataset.\n",
    "ratio_train = 0.7\n",
    "ratio_val = 0.15\n",
    "ratio_test = 0.15\n",
    "\n",
    "# Produce test split\n",
    "X_remaining, X_test, y_remaining, y_test = train_test_split(X, y, stratify=y, test_size=ratio_test, random_state=0) # We stratify the target variable as we do not have a balance data set\n",
    "\n",
    "# Adjusts val ratio, w.r.t. remaining dataset.\n",
    "ratio_remaining = 1 - ratio_test\n",
    "ratio_val_adjusted = ratio_val / ratio_remaining\n",
    "\n",
    "# Produces train and val splits.\n",
    "X_train, X_val, y_train, y_val = train_test_split(X_remaining, y_remaining, stratify=y_remaining, test_size=ratio_val_adjusted, random_state=0)"
   ]
  },
  {
   "cell_type": "code",
   "execution_count": 260,
   "id": "41f55264-97b1-45fa-a3bf-4a09b4eb4fee",
   "metadata": {},
   "outputs": [
    {
     "name": "stdout",
     "output_type": "stream",
     "text": [
      "stroke\n",
      "0    3287\n",
      "1     147\n",
      "Name: count, dtype: int64\n",
      "stroke\n",
      "0    706\n",
      "1     31\n",
      "Name: count, dtype: int64\n",
      "stroke\n",
      "0    706\n",
      "1     31\n",
      "Name: count, dtype: int64\n"
     ]
    }
   ],
   "source": [
    "# We check that the ratios of the test and validation sets are the same\n",
    "print(y_train.value_counts())\n",
    "print(y_test.value_counts())\n",
    "print(y_val.value_counts())"
   ]
  },
  {
   "cell_type": "code",
   "execution_count": 261,
   "id": "59772a23-2690-4c6a-8db9-e3ce7cbaf832",
   "metadata": {},
   "outputs": [],
   "source": [
    "df_transf = df_proc.copy()  # A copy of the cleaned data set\n"
   ]
  },
  {
   "cell_type": "code",
   "execution_count": 195,
   "id": "f885b7df-2831-44a4-923d-a15e17b43712",
   "metadata": {},
   "outputs": [],
   "source": [
    "# One hot encoding\n",
    "# gender\n",
    "df_transf.loc[:, [\"gender\"]] = pd.get_dummies(df_transf.gender,drop_first=True, prefix=\"gender\").values # If True = Male, False = Female\n",
    "df_transf.gender = df_transf.gender.astype(int) \n",
    "# # ever_married\n",
    "# df_transf.loc[:, [\"ever_married\"]] = pd.get_dummies(df_transf.ever_married, drop_first=True).values.astype(int) # True = ever Married\n",
    "# df_transf.ever_married = df_transf.ever_married.astype(int) \n",
    "# # Residence_type\n",
    "df_transf.loc[:, [\"Residence_type\"]] = pd.get_dummies(df_transf.Residence_type, drop_first=True).values.astype(int) # True = Urban, False = Rural\n",
    "df_transf.Residence_type = df_transf.Residence_type.astype(int) \n",
    "# # work_type\n",
    "df_transf = pd.concat([df_transf, pd.get_dummies(df_transf.work_type, prefix=\"work_type\").astype(int)],axis=1).drop(columns=\"work_type\")\n",
    "# #smoking_status\n",
    "# df_transf = pd.concat([df_transf, pd.get_dummies(df_transf.smoking_status, prefix=\"smoke_status\").astype(int)], axis=1).drop(columns=\"smoking_status\")"
   ]
  },
  {
   "cell_type": "code",
   "execution_count": 196,
   "id": "0c1068df-45b8-4aaa-bbce-51b4d66469f3",
   "metadata": {},
   "outputs": [],
   "source": [
    "# Harmonise the discrete data types into int32\n",
    "df_transf.stroke = df_transf.stroke.astype(int) \n",
    "df_transf.hypertension = df_transf.hypertension.astype(int) \n",
    "df_transf.heart_disease = df_transf.heart_disease.astype(int) "
   ]
  },
  {
   "cell_type": "markdown",
   "id": "51b1b1d6-c6d2-4804-bb37-b6148bd2afbc",
   "metadata": {},
   "source": [
    "Now, all **discrete variables (True-False) are int32** and all **numeric variables are float64** ."
   ]
  },
  {
   "cell_type": "code",
   "execution_count": 197,
   "id": "221810f3-efa2-4499-85a0-8f6501daed45",
   "metadata": {},
   "outputs": [
    {
     "data": {
      "text/html": [
       "<div>\n",
       "<style scoped>\n",
       "    .dataframe tbody tr th:only-of-type {\n",
       "        vertical-align: middle;\n",
       "    }\n",
       "\n",
       "    .dataframe tbody tr th {\n",
       "        vertical-align: top;\n",
       "    }\n",
       "\n",
       "    .dataframe thead th {\n",
       "        text-align: right;\n",
       "    }\n",
       "</style>\n",
       "<table border=\"1\" class=\"dataframe\">\n",
       "  <thead>\n",
       "    <tr style=\"text-align: right;\">\n",
       "      <th></th>\n",
       "      <th>gender</th>\n",
       "      <th>age</th>\n",
       "      <th>hypertension</th>\n",
       "      <th>heart_disease</th>\n",
       "      <th>Residence_type</th>\n",
       "      <th>avg_glucose_level</th>\n",
       "      <th>bmi</th>\n",
       "      <th>stroke</th>\n",
       "      <th>work_type_Govt_job</th>\n",
       "      <th>work_type_Never_worked</th>\n",
       "      <th>work_type_Private</th>\n",
       "      <th>work_type_Self-employed</th>\n",
       "      <th>work_type_children</th>\n",
       "    </tr>\n",
       "  </thead>\n",
       "  <tbody>\n",
       "    <tr>\n",
       "      <th>0</th>\n",
       "      <td>1</td>\n",
       "      <td>67.0</td>\n",
       "      <td>0</td>\n",
       "      <td>1</td>\n",
       "      <td>1</td>\n",
       "      <td>228.69</td>\n",
       "      <td>36.6</td>\n",
       "      <td>1</td>\n",
       "      <td>0</td>\n",
       "      <td>0</td>\n",
       "      <td>1</td>\n",
       "      <td>0</td>\n",
       "      <td>0</td>\n",
       "    </tr>\n",
       "    <tr>\n",
       "      <th>2</th>\n",
       "      <td>1</td>\n",
       "      <td>80.0</td>\n",
       "      <td>0</td>\n",
       "      <td>1</td>\n",
       "      <td>0</td>\n",
       "      <td>105.92</td>\n",
       "      <td>32.5</td>\n",
       "      <td>1</td>\n",
       "      <td>0</td>\n",
       "      <td>0</td>\n",
       "      <td>1</td>\n",
       "      <td>0</td>\n",
       "      <td>0</td>\n",
       "    </tr>\n",
       "    <tr>\n",
       "      <th>3</th>\n",
       "      <td>0</td>\n",
       "      <td>49.0</td>\n",
       "      <td>0</td>\n",
       "      <td>0</td>\n",
       "      <td>1</td>\n",
       "      <td>171.23</td>\n",
       "      <td>34.4</td>\n",
       "      <td>1</td>\n",
       "      <td>0</td>\n",
       "      <td>0</td>\n",
       "      <td>1</td>\n",
       "      <td>0</td>\n",
       "      <td>0</td>\n",
       "    </tr>\n",
       "    <tr>\n",
       "      <th>4</th>\n",
       "      <td>0</td>\n",
       "      <td>79.0</td>\n",
       "      <td>1</td>\n",
       "      <td>0</td>\n",
       "      <td>0</td>\n",
       "      <td>174.12</td>\n",
       "      <td>24.0</td>\n",
       "      <td>1</td>\n",
       "      <td>0</td>\n",
       "      <td>0</td>\n",
       "      <td>0</td>\n",
       "      <td>1</td>\n",
       "      <td>0</td>\n",
       "    </tr>\n",
       "    <tr>\n",
       "      <th>5</th>\n",
       "      <td>1</td>\n",
       "      <td>81.0</td>\n",
       "      <td>0</td>\n",
       "      <td>0</td>\n",
       "      <td>1</td>\n",
       "      <td>186.21</td>\n",
       "      <td>29.0</td>\n",
       "      <td>1</td>\n",
       "      <td>0</td>\n",
       "      <td>0</td>\n",
       "      <td>1</td>\n",
       "      <td>0</td>\n",
       "      <td>0</td>\n",
       "    </tr>\n",
       "  </tbody>\n",
       "</table>\n",
       "</div>"
      ],
      "text/plain": [
       "   gender   age  hypertension  heart_disease  Residence_type  \\\n",
       "0       1  67.0             0              1               1   \n",
       "2       1  80.0             0              1               0   \n",
       "3       0  49.0             0              0               1   \n",
       "4       0  79.0             1              0               0   \n",
       "5       1  81.0             0              0               1   \n",
       "\n",
       "   avg_glucose_level   bmi  stroke  work_type_Govt_job  \\\n",
       "0             228.69  36.6       1                   0   \n",
       "2             105.92  32.5       1                   0   \n",
       "3             171.23  34.4       1                   0   \n",
       "4             174.12  24.0       1                   0   \n",
       "5             186.21  29.0       1                   0   \n",
       "\n",
       "   work_type_Never_worked  work_type_Private  work_type_Self-employed  \\\n",
       "0                       0                  1                        0   \n",
       "2                       0                  1                        0   \n",
       "3                       0                  1                        0   \n",
       "4                       0                  0                        1   \n",
       "5                       0                  1                        0   \n",
       "\n",
       "   work_type_children  \n",
       "0                   0  \n",
       "2                   0  \n",
       "3                   0  \n",
       "4                   0  \n",
       "5                   0  "
      ]
     },
     "execution_count": 197,
     "metadata": {},
     "output_type": "execute_result"
    }
   ],
   "source": [
    "df_transf.head()"
   ]
  },
  {
   "cell_type": "markdown",
   "id": "1d50c1d8-ba78-4638-a15b-d9a1ae339ed7",
   "metadata": {},
   "source": [
    "## 2.5 Standardise the numerical values\n",
    "\n",
    "As we are using a model to later do the feature selection, we are going to standardise the continuous variables: **age** and the **avg_glucose_level** to improve the model learning.\n",
    "\n",
    "**REMEMBER:** we have to split the dataset **before doing the data transformation** as we are going to normalise according to the mean and the standard deviation: \n",
    "\n",
    " $x_{norm} = (x - \\bar{x})/\\sigma$"
   ]
  },
  {
   "cell_type": "code",
   "execution_count": 198,
   "id": "9c82aeb2-1f17-41c2-9812-1ca5d3e5f3c7",
   "metadata": {},
   "outputs": [],
   "source": [
    "df_transf_train = df_transf.copy()"
   ]
  },
  {
   "cell_type": "code",
   "execution_count": 199,
   "id": "a9a0ddcd-86c0-45f0-9723-dfcf1d43234b",
   "metadata": {},
   "outputs": [
    {
     "name": "stdout",
     "output_type": "stream",
     "text": [
      "Age_mean: -2.027757370544258e-16\n",
      "Age_std: 0.9999999999999999\n"
     ]
    }
   ],
   "source": [
    "df_transf_train.age = (X_train.age - X_train.age.mean())/X_train.age.std()\n",
    "print(f\"Age_mean: {df_transf_train.age.mean()}\")\n",
    "print(f\"Age_std: {df_transf_train.age.std()}\")"
   ]
  },
  {
   "cell_type": "code",
   "execution_count": 200,
   "id": "a831649d-17e9-43c4-8647-1534226136a9",
   "metadata": {},
   "outputs": [
    {
     "name": "stdout",
     "output_type": "stream",
     "text": [
      "AGL_mean: 9.104216765708913e-17\n",
      "AGL_std: 1.0\n"
     ]
    }
   ],
   "source": [
    "df_transf_train.avg_glucose_level = (X_train.avg_glucose_level - X_train.avg_glucose_level.mean())/X_train.avg_glucose_level.std()\n",
    "print(f\"AGL_mean: {df_transf_train.avg_glucose_level.mean()}\")\n",
    "print(f\"AGL_std: {df_transf_train.avg_glucose_level.std()}\")\n"
   ]
  },
  {
   "cell_type": "code",
   "execution_count": 201,
   "id": "459f02b9-b01c-442e-8eff-a17f81d60c48",
   "metadata": {},
   "outputs": [
    {
     "name": "stdout",
     "output_type": "stream",
     "text": [
      "BMI_mean: 8.897302748306438e-17\n",
      "BMI_std: 1.0\n"
     ]
    }
   ],
   "source": [
    "df_transf_train.bmi = (X_train.bmi - X_train.bmi.mean())/X_train.bmi.std()\n",
    "print(f\"BMI_mean: {df_transf_train.bmi.mean()}\")\n",
    "print(f\"BMI_std: {df_transf_train.bmi.std()}\")\n"
   ]
  },
  {
   "cell_type": "code",
   "execution_count": 202,
   "id": "20b6679b-49f4-4fb3-814b-0083fde4e75c",
   "metadata": {},
   "outputs": [
    {
     "name": "stdout",
     "output_type": "stream",
     "text": [
      "<class 'pandas.core.frame.DataFrame'>\n",
      "Index: 4908 entries, 0 to 5109\n",
      "Data columns (total 13 columns):\n",
      " #   Column                   Non-Null Count  Dtype  \n",
      "---  ------                   --------------  -----  \n",
      " 0   gender                   4908 non-null   int32  \n",
      " 1   age                      3434 non-null   float64\n",
      " 2   hypertension             4908 non-null   int32  \n",
      " 3   heart_disease            4908 non-null   int32  \n",
      " 4   Residence_type           4908 non-null   int32  \n",
      " 5   avg_glucose_level        3434 non-null   float64\n",
      " 6   bmi                      3434 non-null   float64\n",
      " 7   stroke                   4908 non-null   int32  \n",
      " 8   work_type_Govt_job       4908 non-null   int32  \n",
      " 9   work_type_Never_worked   4908 non-null   int32  \n",
      " 10  work_type_Private        4908 non-null   int32  \n",
      " 11  work_type_Self-employed  4908 non-null   int32  \n",
      " 12  work_type_children       4908 non-null   int32  \n",
      "dtypes: float64(3), int32(10)\n",
      "memory usage: 345.1 KB\n"
     ]
    }
   ],
   "source": [
    "df_transf_train.info()"
   ]
  },
  {
   "cell_type": "markdown",
   "id": "e0d97e9d-bae8-4c20-8f20-74d7551bb5b6",
   "metadata": {},
   "source": [
    "## 2.6 Create a pipeline for treating the numerical and non-numerical variables\n",
    "\n",
    "The transformations done in chapters 2.4 and 2.5 were done manually. In this section we are going to start automatisation by creating a pipeline with the dataset after the *Data Cleaning*. In our case, the *Data cleaning* has been done in chapters 2.1, 2.2 and 2.3.\n",
    "\n",
    "As we have to do the transformation for both the training and the test sets, is better to create an automatic procedure in a *Pipeline* to apply the same transformation (by using a fucntion) to any new generated dataset. "
   ]
  },
  {
   "cell_type": "code",
   "execution_count": 203,
   "id": "be341341-7e53-44d1-b736-ba1f5ef59d7e",
   "metadata": {},
   "outputs": [
    {
     "name": "stdout",
     "output_type": "stream",
     "text": [
      "<class 'pandas.core.frame.DataFrame'>\n",
      "Index: 4908 entries, 0 to 5109\n",
      "Data columns (total 9 columns):\n",
      " #   Column             Non-Null Count  Dtype  \n",
      "---  ------             --------------  -----  \n",
      " 0   gender             4908 non-null   object \n",
      " 1   age                4908 non-null   float64\n",
      " 2   hypertension       4908 non-null   bool   \n",
      " 3   heart_disease      4908 non-null   bool   \n",
      " 4   work_type          4908 non-null   object \n",
      " 5   Residence_type     4908 non-null   object \n",
      " 6   avg_glucose_level  4908 non-null   float64\n",
      " 7   bmi                4908 non-null   float64\n",
      " 8   stroke             4908 non-null   int64  \n",
      "dtypes: bool(2), float64(3), int64(1), object(3)\n",
      "memory usage: 316.3+ KB\n"
     ]
    }
   ],
   "source": [
    "df_proc.info()  "
   ]
  },
  {
   "cell_type": "markdown",
   "id": "417df40d-5fa5-4f33-b36e-528d78018b4b",
   "metadata": {},
   "source": [
    "Remember that we have **bool** that are already transformed as *One-hot encoding* so we should take it out of the column selection.\n",
    "\n",
    "We should apply:\n",
    "- **One-hot encoding** to the *object* dtypes.\n",
    "- **Standardisation** ONLY to the numerical types that are not *bool* (remember that we have bool types for *hypertension*, *bmi* and *heart_disease*)."
   ]
  },
  {
   "cell_type": "code",
   "execution_count": 204,
   "id": "5a111629-d0bc-4017-934e-e8b50dbe6021",
   "metadata": {},
   "outputs": [],
   "source": [
    "from sklearn.compose import make_column_selector\n",
    "\n",
    "# a function for getting the columns by dtype\n",
    "def get_categorical_columns(df):\n",
    "    \"\"\" categorical columns \"\"\"\n",
    "    categorical_columns_selector = make_column_selector(dtype_include= ['object'])\n",
    "    categorical_columns = categorical_columns_selector(df)\n",
    "    return categorical_columns\n",
    "\n",
    "\n",
    "def get_numerical_columns(df):\n",
    "    \"\"\" numerical columns. In our data set they are only of type float\"\"\"\n",
    "    numerical_columns_selector = make_column_selector(dtype_exclude=['object','bool'])  # include only float (continous) variables\n",
    "    numerical_columns = numerical_columns_selector(df)\n",
    "    return numerical_columns\n",
    "\n",
    "\n",
    "def get_binary_columns(df):\n",
    "    \"\"\" columns that are already one hot encoded in the data set\"\"\"\n",
    "    one_hot_columns_selector = make_column_selector(dtype_include= ['bool'])\n",
    "    one_hot_columns = one_hot_columns_selector(df)\n",
    "    return one_hot_columns\n",
    "    "
   ]
  },
  {
   "cell_type": "code",
   "execution_count": 205,
   "id": "438e9eea-9bdc-4343-b231-e2be9e686789",
   "metadata": {},
   "outputs": [],
   "source": [
    "from sklearn.preprocessing import OneHotEncoder, StandardScaler\n",
    "from sklearn.preprocessing import FunctionTransformer\n",
    "from sklearn.pipeline import Pipeline\n",
    "from sklearn.compose import ColumnTransformer"
   ]
  },
  {
   "cell_type": "code",
   "execution_count": 886,
   "id": "bbf77c30-9635-485c-a4df-3f7dab7b885f",
   "metadata": {},
   "outputs": [],
   "source": [
    "def transform_to_int(df):\n",
    "    return df.astype(int)\n",
    "\n",
    "def one_hot_and_std_transformation(df):\n",
    "    \"\"\" A function that transforms a pre-cleaned data set by using:\n",
    "        One Hot Encoding on the categorical variables\n",
    "        Standardisation  on the numerical variables\n",
    "        The already Hot econded variables are passed through with the remainder=\"passthrough\" argument.\n",
    "    \"\"\"\n",
    "    df = df.copy()\n",
    "    \n",
    "    numerical_columns = get_numerical_columns(df)\n",
    "    nominal_columns = get_categorical_columns(df)\n",
    "    \n",
    "    numerical_pipeline = Pipeline([('scaler', StandardScaler())])\n",
    "    nominal_pipeline = Pipeline([('hot_encoder', OneHotEncoder(drop=\"if_binary\", dtype=np.int64, handle_unknown='ignore'))]) # , sparse_output=False\n",
    "    \n",
    "    preprocessor = ColumnTransformer([\n",
    "        ('numerical_transformer', numerical_pipeline, numerical_columns),\n",
    "        ('nominal_transformer', nominal_pipeline, nominal_columns),\n",
    "    ], remainder=\"passthrough\")\n",
    "    \n",
    "    preprocessor.fit(df)\n",
    "    \n",
    "    return preprocessor\n",
    "\n",
    "def get_preprocessor_col_names(preprocessor):\n",
    "    return [x.split(\"__\")[1] for x in preprocessor.get_feature_names_out()]\n",
    "\n",
    "\n",
    "def get_preprocessor_cat_names(preprocessor):\n",
    "    cat_names = []\n",
    "    for x in preprocessor.get_feature_names_out():\n",
    "        if x.split(\"__\")[0] == \"nominal_transformer\":\n",
    "            cat_names.append(x.split(\"__\")[1])\n",
    "    return cat_names\n"
   ]
  },
  {
   "cell_type": "code",
   "execution_count": 887,
   "id": "09870c67-45ae-4ccc-8995-0d9f4adef335",
   "metadata": {},
   "outputs": [
    {
     "data": {
      "text/html": [
       "<style>#sk-container-id-32 {\n",
       "  /* Definition of color scheme common for light and dark mode */\n",
       "  --sklearn-color-text: black;\n",
       "  --sklearn-color-line: gray;\n",
       "  /* Definition of color scheme for unfitted estimators */\n",
       "  --sklearn-color-unfitted-level-0: #fff5e6;\n",
       "  --sklearn-color-unfitted-level-1: #f6e4d2;\n",
       "  --sklearn-color-unfitted-level-2: #ffe0b3;\n",
       "  --sklearn-color-unfitted-level-3: chocolate;\n",
       "  /* Definition of color scheme for fitted estimators */\n",
       "  --sklearn-color-fitted-level-0: #f0f8ff;\n",
       "  --sklearn-color-fitted-level-1: #d4ebff;\n",
       "  --sklearn-color-fitted-level-2: #b3dbfd;\n",
       "  --sklearn-color-fitted-level-3: cornflowerblue;\n",
       "\n",
       "  /* Specific color for light theme */\n",
       "  --sklearn-color-text-on-default-background: var(--sg-text-color, var(--theme-code-foreground, var(--jp-content-font-color1, black)));\n",
       "  --sklearn-color-background: var(--sg-background-color, var(--theme-background, var(--jp-layout-color0, white)));\n",
       "  --sklearn-color-border-box: var(--sg-text-color, var(--theme-code-foreground, var(--jp-content-font-color1, black)));\n",
       "  --sklearn-color-icon: #696969;\n",
       "\n",
       "  @media (prefers-color-scheme: dark) {\n",
       "    /* Redefinition of color scheme for dark theme */\n",
       "    --sklearn-color-text-on-default-background: var(--sg-text-color, var(--theme-code-foreground, var(--jp-content-font-color1, white)));\n",
       "    --sklearn-color-background: var(--sg-background-color, var(--theme-background, var(--jp-layout-color0, #111)));\n",
       "    --sklearn-color-border-box: var(--sg-text-color, var(--theme-code-foreground, var(--jp-content-font-color1, white)));\n",
       "    --sklearn-color-icon: #878787;\n",
       "  }\n",
       "}\n",
       "\n",
       "#sk-container-id-32 {\n",
       "  color: var(--sklearn-color-text);\n",
       "}\n",
       "\n",
       "#sk-container-id-32 pre {\n",
       "  padding: 0;\n",
       "}\n",
       "\n",
       "#sk-container-id-32 input.sk-hidden--visually {\n",
       "  border: 0;\n",
       "  clip: rect(1px 1px 1px 1px);\n",
       "  clip: rect(1px, 1px, 1px, 1px);\n",
       "  height: 1px;\n",
       "  margin: -1px;\n",
       "  overflow: hidden;\n",
       "  padding: 0;\n",
       "  position: absolute;\n",
       "  width: 1px;\n",
       "}\n",
       "\n",
       "#sk-container-id-32 div.sk-dashed-wrapped {\n",
       "  border: 1px dashed var(--sklearn-color-line);\n",
       "  margin: 0 0.4em 0.5em 0.4em;\n",
       "  box-sizing: border-box;\n",
       "  padding-bottom: 0.4em;\n",
       "  background-color: var(--sklearn-color-background);\n",
       "}\n",
       "\n",
       "#sk-container-id-32 div.sk-container {\n",
       "  /* jupyter's `normalize.less` sets `[hidden] { display: none; }`\n",
       "     but bootstrap.min.css set `[hidden] { display: none !important; }`\n",
       "     so we also need the `!important` here to be able to override the\n",
       "     default hidden behavior on the sphinx rendered scikit-learn.org.\n",
       "     See: https://github.com/scikit-learn/scikit-learn/issues/21755 */\n",
       "  display: inline-block !important;\n",
       "  position: relative;\n",
       "}\n",
       "\n",
       "#sk-container-id-32 div.sk-text-repr-fallback {\n",
       "  display: none;\n",
       "}\n",
       "\n",
       "div.sk-parallel-item,\n",
       "div.sk-serial,\n",
       "div.sk-item {\n",
       "  /* draw centered vertical line to link estimators */\n",
       "  background-image: linear-gradient(var(--sklearn-color-text-on-default-background), var(--sklearn-color-text-on-default-background));\n",
       "  background-size: 2px 100%;\n",
       "  background-repeat: no-repeat;\n",
       "  background-position: center center;\n",
       "}\n",
       "\n",
       "/* Parallel-specific style estimator block */\n",
       "\n",
       "#sk-container-id-32 div.sk-parallel-item::after {\n",
       "  content: \"\";\n",
       "  width: 100%;\n",
       "  border-bottom: 2px solid var(--sklearn-color-text-on-default-background);\n",
       "  flex-grow: 1;\n",
       "}\n",
       "\n",
       "#sk-container-id-32 div.sk-parallel {\n",
       "  display: flex;\n",
       "  align-items: stretch;\n",
       "  justify-content: center;\n",
       "  background-color: var(--sklearn-color-background);\n",
       "  position: relative;\n",
       "}\n",
       "\n",
       "#sk-container-id-32 div.sk-parallel-item {\n",
       "  display: flex;\n",
       "  flex-direction: column;\n",
       "}\n",
       "\n",
       "#sk-container-id-32 div.sk-parallel-item:first-child::after {\n",
       "  align-self: flex-end;\n",
       "  width: 50%;\n",
       "}\n",
       "\n",
       "#sk-container-id-32 div.sk-parallel-item:last-child::after {\n",
       "  align-self: flex-start;\n",
       "  width: 50%;\n",
       "}\n",
       "\n",
       "#sk-container-id-32 div.sk-parallel-item:only-child::after {\n",
       "  width: 0;\n",
       "}\n",
       "\n",
       "/* Serial-specific style estimator block */\n",
       "\n",
       "#sk-container-id-32 div.sk-serial {\n",
       "  display: flex;\n",
       "  flex-direction: column;\n",
       "  align-items: center;\n",
       "  background-color: var(--sklearn-color-background);\n",
       "  padding-right: 1em;\n",
       "  padding-left: 1em;\n",
       "}\n",
       "\n",
       "\n",
       "/* Toggleable style: style used for estimator/Pipeline/ColumnTransformer box that is\n",
       "clickable and can be expanded/collapsed.\n",
       "- Pipeline and ColumnTransformer use this feature and define the default style\n",
       "- Estimators will overwrite some part of the style using the `sk-estimator` class\n",
       "*/\n",
       "\n",
       "/* Pipeline and ColumnTransformer style (default) */\n",
       "\n",
       "#sk-container-id-32 div.sk-toggleable {\n",
       "  /* Default theme specific background. It is overwritten whether we have a\n",
       "  specific estimator or a Pipeline/ColumnTransformer */\n",
       "  background-color: var(--sklearn-color-background);\n",
       "}\n",
       "\n",
       "/* Toggleable label */\n",
       "#sk-container-id-32 label.sk-toggleable__label {\n",
       "  cursor: pointer;\n",
       "  display: block;\n",
       "  width: 100%;\n",
       "  margin-bottom: 0;\n",
       "  padding: 0.5em;\n",
       "  box-sizing: border-box;\n",
       "  text-align: center;\n",
       "}\n",
       "\n",
       "#sk-container-id-32 label.sk-toggleable__label-arrow:before {\n",
       "  /* Arrow on the left of the label */\n",
       "  content: \"▸\";\n",
       "  float: left;\n",
       "  margin-right: 0.25em;\n",
       "  color: var(--sklearn-color-icon);\n",
       "}\n",
       "\n",
       "#sk-container-id-32 label.sk-toggleable__label-arrow:hover:before {\n",
       "  color: var(--sklearn-color-text);\n",
       "}\n",
       "\n",
       "/* Toggleable content - dropdown */\n",
       "\n",
       "#sk-container-id-32 div.sk-toggleable__content {\n",
       "  max-height: 0;\n",
       "  max-width: 0;\n",
       "  overflow: hidden;\n",
       "  text-align: left;\n",
       "  /* unfitted */\n",
       "  background-color: var(--sklearn-color-unfitted-level-0);\n",
       "}\n",
       "\n",
       "#sk-container-id-32 div.sk-toggleable__content.fitted {\n",
       "  /* fitted */\n",
       "  background-color: var(--sklearn-color-fitted-level-0);\n",
       "}\n",
       "\n",
       "#sk-container-id-32 div.sk-toggleable__content pre {\n",
       "  margin: 0.2em;\n",
       "  border-radius: 0.25em;\n",
       "  color: var(--sklearn-color-text);\n",
       "  /* unfitted */\n",
       "  background-color: var(--sklearn-color-unfitted-level-0);\n",
       "}\n",
       "\n",
       "#sk-container-id-32 div.sk-toggleable__content.fitted pre {\n",
       "  /* unfitted */\n",
       "  background-color: var(--sklearn-color-fitted-level-0);\n",
       "}\n",
       "\n",
       "#sk-container-id-32 input.sk-toggleable__control:checked~div.sk-toggleable__content {\n",
       "  /* Expand drop-down */\n",
       "  max-height: 200px;\n",
       "  max-width: 100%;\n",
       "  overflow: auto;\n",
       "}\n",
       "\n",
       "#sk-container-id-32 input.sk-toggleable__control:checked~label.sk-toggleable__label-arrow:before {\n",
       "  content: \"▾\";\n",
       "}\n",
       "\n",
       "/* Pipeline/ColumnTransformer-specific style */\n",
       "\n",
       "#sk-container-id-32 div.sk-label input.sk-toggleable__control:checked~label.sk-toggleable__label {\n",
       "  color: var(--sklearn-color-text);\n",
       "  background-color: var(--sklearn-color-unfitted-level-2);\n",
       "}\n",
       "\n",
       "#sk-container-id-32 div.sk-label.fitted input.sk-toggleable__control:checked~label.sk-toggleable__label {\n",
       "  background-color: var(--sklearn-color-fitted-level-2);\n",
       "}\n",
       "\n",
       "/* Estimator-specific style */\n",
       "\n",
       "/* Colorize estimator box */\n",
       "#sk-container-id-32 div.sk-estimator input.sk-toggleable__control:checked~label.sk-toggleable__label {\n",
       "  /* unfitted */\n",
       "  background-color: var(--sklearn-color-unfitted-level-2);\n",
       "}\n",
       "\n",
       "#sk-container-id-32 div.sk-estimator.fitted input.sk-toggleable__control:checked~label.sk-toggleable__label {\n",
       "  /* fitted */\n",
       "  background-color: var(--sklearn-color-fitted-level-2);\n",
       "}\n",
       "\n",
       "#sk-container-id-32 div.sk-label label.sk-toggleable__label,\n",
       "#sk-container-id-32 div.sk-label label {\n",
       "  /* The background is the default theme color */\n",
       "  color: var(--sklearn-color-text-on-default-background);\n",
       "}\n",
       "\n",
       "/* On hover, darken the color of the background */\n",
       "#sk-container-id-32 div.sk-label:hover label.sk-toggleable__label {\n",
       "  color: var(--sklearn-color-text);\n",
       "  background-color: var(--sklearn-color-unfitted-level-2);\n",
       "}\n",
       "\n",
       "/* Label box, darken color on hover, fitted */\n",
       "#sk-container-id-32 div.sk-label.fitted:hover label.sk-toggleable__label.fitted {\n",
       "  color: var(--sklearn-color-text);\n",
       "  background-color: var(--sklearn-color-fitted-level-2);\n",
       "}\n",
       "\n",
       "/* Estimator label */\n",
       "\n",
       "#sk-container-id-32 div.sk-label label {\n",
       "  font-family: monospace;\n",
       "  font-weight: bold;\n",
       "  display: inline-block;\n",
       "  line-height: 1.2em;\n",
       "}\n",
       "\n",
       "#sk-container-id-32 div.sk-label-container {\n",
       "  text-align: center;\n",
       "}\n",
       "\n",
       "/* Estimator-specific */\n",
       "#sk-container-id-32 div.sk-estimator {\n",
       "  font-family: monospace;\n",
       "  border: 1px dotted var(--sklearn-color-border-box);\n",
       "  border-radius: 0.25em;\n",
       "  box-sizing: border-box;\n",
       "  margin-bottom: 0.5em;\n",
       "  /* unfitted */\n",
       "  background-color: var(--sklearn-color-unfitted-level-0);\n",
       "}\n",
       "\n",
       "#sk-container-id-32 div.sk-estimator.fitted {\n",
       "  /* fitted */\n",
       "  background-color: var(--sklearn-color-fitted-level-0);\n",
       "}\n",
       "\n",
       "/* on hover */\n",
       "#sk-container-id-32 div.sk-estimator:hover {\n",
       "  /* unfitted */\n",
       "  background-color: var(--sklearn-color-unfitted-level-2);\n",
       "}\n",
       "\n",
       "#sk-container-id-32 div.sk-estimator.fitted:hover {\n",
       "  /* fitted */\n",
       "  background-color: var(--sklearn-color-fitted-level-2);\n",
       "}\n",
       "\n",
       "/* Specification for estimator info (e.g. \"i\" and \"?\") */\n",
       "\n",
       "/* Common style for \"i\" and \"?\" */\n",
       "\n",
       ".sk-estimator-doc-link,\n",
       "a:link.sk-estimator-doc-link,\n",
       "a:visited.sk-estimator-doc-link {\n",
       "  float: right;\n",
       "  font-size: smaller;\n",
       "  line-height: 1em;\n",
       "  font-family: monospace;\n",
       "  background-color: var(--sklearn-color-background);\n",
       "  border-radius: 1em;\n",
       "  height: 1em;\n",
       "  width: 1em;\n",
       "  text-decoration: none !important;\n",
       "  margin-left: 1ex;\n",
       "  /* unfitted */\n",
       "  border: var(--sklearn-color-unfitted-level-1) 1pt solid;\n",
       "  color: var(--sklearn-color-unfitted-level-1);\n",
       "}\n",
       "\n",
       ".sk-estimator-doc-link.fitted,\n",
       "a:link.sk-estimator-doc-link.fitted,\n",
       "a:visited.sk-estimator-doc-link.fitted {\n",
       "  /* fitted */\n",
       "  border: var(--sklearn-color-fitted-level-1) 1pt solid;\n",
       "  color: var(--sklearn-color-fitted-level-1);\n",
       "}\n",
       "\n",
       "/* On hover */\n",
       "div.sk-estimator:hover .sk-estimator-doc-link:hover,\n",
       ".sk-estimator-doc-link:hover,\n",
       "div.sk-label-container:hover .sk-estimator-doc-link:hover,\n",
       ".sk-estimator-doc-link:hover {\n",
       "  /* unfitted */\n",
       "  background-color: var(--sklearn-color-unfitted-level-3);\n",
       "  color: var(--sklearn-color-background);\n",
       "  text-decoration: none;\n",
       "}\n",
       "\n",
       "div.sk-estimator.fitted:hover .sk-estimator-doc-link.fitted:hover,\n",
       ".sk-estimator-doc-link.fitted:hover,\n",
       "div.sk-label-container:hover .sk-estimator-doc-link.fitted:hover,\n",
       ".sk-estimator-doc-link.fitted:hover {\n",
       "  /* fitted */\n",
       "  background-color: var(--sklearn-color-fitted-level-3);\n",
       "  color: var(--sklearn-color-background);\n",
       "  text-decoration: none;\n",
       "}\n",
       "\n",
       "/* Span, style for the box shown on hovering the info icon */\n",
       ".sk-estimator-doc-link span {\n",
       "  display: none;\n",
       "  z-index: 9999;\n",
       "  position: relative;\n",
       "  font-weight: normal;\n",
       "  right: .2ex;\n",
       "  padding: .5ex;\n",
       "  margin: .5ex;\n",
       "  width: min-content;\n",
       "  min-width: 20ex;\n",
       "  max-width: 50ex;\n",
       "  color: var(--sklearn-color-text);\n",
       "  box-shadow: 2pt 2pt 4pt #999;\n",
       "  /* unfitted */\n",
       "  background: var(--sklearn-color-unfitted-level-0);\n",
       "  border: .5pt solid var(--sklearn-color-unfitted-level-3);\n",
       "}\n",
       "\n",
       ".sk-estimator-doc-link.fitted span {\n",
       "  /* fitted */\n",
       "  background: var(--sklearn-color-fitted-level-0);\n",
       "  border: var(--sklearn-color-fitted-level-3);\n",
       "}\n",
       "\n",
       ".sk-estimator-doc-link:hover span {\n",
       "  display: block;\n",
       "}\n",
       "\n",
       "/* \"?\"-specific style due to the `<a>` HTML tag */\n",
       "\n",
       "#sk-container-id-32 a.estimator_doc_link {\n",
       "  float: right;\n",
       "  font-size: 1rem;\n",
       "  line-height: 1em;\n",
       "  font-family: monospace;\n",
       "  background-color: var(--sklearn-color-background);\n",
       "  border-radius: 1rem;\n",
       "  height: 1rem;\n",
       "  width: 1rem;\n",
       "  text-decoration: none;\n",
       "  /* unfitted */\n",
       "  color: var(--sklearn-color-unfitted-level-1);\n",
       "  border: var(--sklearn-color-unfitted-level-1) 1pt solid;\n",
       "}\n",
       "\n",
       "#sk-container-id-32 a.estimator_doc_link.fitted {\n",
       "  /* fitted */\n",
       "  border: var(--sklearn-color-fitted-level-1) 1pt solid;\n",
       "  color: var(--sklearn-color-fitted-level-1);\n",
       "}\n",
       "\n",
       "/* On hover */\n",
       "#sk-container-id-32 a.estimator_doc_link:hover {\n",
       "  /* unfitted */\n",
       "  background-color: var(--sklearn-color-unfitted-level-3);\n",
       "  color: var(--sklearn-color-background);\n",
       "  text-decoration: none;\n",
       "}\n",
       "\n",
       "#sk-container-id-32 a.estimator_doc_link.fitted:hover {\n",
       "  /* fitted */\n",
       "  background-color: var(--sklearn-color-fitted-level-3);\n",
       "}\n",
       "</style><div id=\"sk-container-id-32\" class=\"sk-top-container\"><div class=\"sk-text-repr-fallback\"><pre>ColumnTransformer(remainder=&#x27;passthrough&#x27;,\n",
       "                  transformers=[(&#x27;numerical_transformer&#x27;,\n",
       "                                 Pipeline(steps=[(&#x27;scaler&#x27;, StandardScaler())]),\n",
       "                                 [&#x27;age&#x27;, &#x27;avg_glucose_level&#x27;, &#x27;bmi&#x27;]),\n",
       "                                (&#x27;nominal_transformer&#x27;,\n",
       "                                 Pipeline(steps=[(&#x27;hot_encoder&#x27;,\n",
       "                                                  OneHotEncoder(drop=&#x27;if_binary&#x27;,\n",
       "                                                                dtype=&lt;class &#x27;numpy.int64&#x27;&gt;,\n",
       "                                                                handle_unknown=&#x27;ignore&#x27;))]),\n",
       "                                 [&#x27;gender&#x27;, &#x27;work_type&#x27;, &#x27;Residence_type&#x27;])])</pre><b>In a Jupyter environment, please rerun this cell to show the HTML representation or trust the notebook. <br />On GitHub, the HTML representation is unable to render, please try loading this page with nbviewer.org.</b></div><div class=\"sk-container\" hidden><div class=\"sk-item sk-dashed-wrapped\"><div class=\"sk-label-container\"><div class=\"sk-label fitted sk-toggleable\"><input class=\"sk-toggleable__control sk-hidden--visually\" id=\"sk-estimator-id-188\" type=\"checkbox\" ><label for=\"sk-estimator-id-188\" class=\"sk-toggleable__label fitted sk-toggleable__label-arrow fitted\">&nbsp;&nbsp;ColumnTransformer<a class=\"sk-estimator-doc-link fitted\" rel=\"noreferrer\" target=\"_blank\" href=\"https://scikit-learn.org/1.4/modules/generated/sklearn.compose.ColumnTransformer.html\">?<span>Documentation for ColumnTransformer</span></a><span class=\"sk-estimator-doc-link fitted\">i<span>Fitted</span></span></label><div class=\"sk-toggleable__content fitted\"><pre>ColumnTransformer(remainder=&#x27;passthrough&#x27;,\n",
       "                  transformers=[(&#x27;numerical_transformer&#x27;,\n",
       "                                 Pipeline(steps=[(&#x27;scaler&#x27;, StandardScaler())]),\n",
       "                                 [&#x27;age&#x27;, &#x27;avg_glucose_level&#x27;, &#x27;bmi&#x27;]),\n",
       "                                (&#x27;nominal_transformer&#x27;,\n",
       "                                 Pipeline(steps=[(&#x27;hot_encoder&#x27;,\n",
       "                                                  OneHotEncoder(drop=&#x27;if_binary&#x27;,\n",
       "                                                                dtype=&lt;class &#x27;numpy.int64&#x27;&gt;,\n",
       "                                                                handle_unknown=&#x27;ignore&#x27;))]),\n",
       "                                 [&#x27;gender&#x27;, &#x27;work_type&#x27;, &#x27;Residence_type&#x27;])])</pre></div> </div></div><div class=\"sk-parallel\"><div class=\"sk-parallel-item\"><div class=\"sk-item\"><div class=\"sk-label-container\"><div class=\"sk-label fitted sk-toggleable\"><input class=\"sk-toggleable__control sk-hidden--visually\" id=\"sk-estimator-id-189\" type=\"checkbox\" ><label for=\"sk-estimator-id-189\" class=\"sk-toggleable__label fitted sk-toggleable__label-arrow fitted\">numerical_transformer</label><div class=\"sk-toggleable__content fitted\"><pre>[&#x27;age&#x27;, &#x27;avg_glucose_level&#x27;, &#x27;bmi&#x27;]</pre></div> </div></div><div class=\"sk-serial\"><div class=\"sk-item\"><div class=\"sk-serial\"><div class=\"sk-item\"><div class=\"sk-estimator fitted sk-toggleable\"><input class=\"sk-toggleable__control sk-hidden--visually\" id=\"sk-estimator-id-190\" type=\"checkbox\" ><label for=\"sk-estimator-id-190\" class=\"sk-toggleable__label fitted sk-toggleable__label-arrow fitted\">&nbsp;StandardScaler<a class=\"sk-estimator-doc-link fitted\" rel=\"noreferrer\" target=\"_blank\" href=\"https://scikit-learn.org/1.4/modules/generated/sklearn.preprocessing.StandardScaler.html\">?<span>Documentation for StandardScaler</span></a></label><div class=\"sk-toggleable__content fitted\"><pre>StandardScaler()</pre></div> </div></div></div></div></div></div></div><div class=\"sk-parallel-item\"><div class=\"sk-item\"><div class=\"sk-label-container\"><div class=\"sk-label fitted sk-toggleable\"><input class=\"sk-toggleable__control sk-hidden--visually\" id=\"sk-estimator-id-191\" type=\"checkbox\" ><label for=\"sk-estimator-id-191\" class=\"sk-toggleable__label fitted sk-toggleable__label-arrow fitted\">nominal_transformer</label><div class=\"sk-toggleable__content fitted\"><pre>[&#x27;gender&#x27;, &#x27;work_type&#x27;, &#x27;Residence_type&#x27;]</pre></div> </div></div><div class=\"sk-serial\"><div class=\"sk-item\"><div class=\"sk-serial\"><div class=\"sk-item\"><div class=\"sk-estimator fitted sk-toggleable\"><input class=\"sk-toggleable__control sk-hidden--visually\" id=\"sk-estimator-id-192\" type=\"checkbox\" ><label for=\"sk-estimator-id-192\" class=\"sk-toggleable__label fitted sk-toggleable__label-arrow fitted\">&nbsp;OneHotEncoder<a class=\"sk-estimator-doc-link fitted\" rel=\"noreferrer\" target=\"_blank\" href=\"https://scikit-learn.org/1.4/modules/generated/sklearn.preprocessing.OneHotEncoder.html\">?<span>Documentation for OneHotEncoder</span></a></label><div class=\"sk-toggleable__content fitted\"><pre>OneHotEncoder(drop=&#x27;if_binary&#x27;, dtype=&lt;class &#x27;numpy.int64&#x27;&gt;,\n",
       "              handle_unknown=&#x27;ignore&#x27;)</pre></div> </div></div></div></div></div></div></div><div class=\"sk-parallel-item\"><div class=\"sk-item\"><div class=\"sk-label-container\"><div class=\"sk-label fitted sk-toggleable\"><input class=\"sk-toggleable__control sk-hidden--visually\" id=\"sk-estimator-id-193\" type=\"checkbox\" ><label for=\"sk-estimator-id-193\" class=\"sk-toggleable__label fitted sk-toggleable__label-arrow fitted\">remainder</label><div class=\"sk-toggleable__content fitted\"><pre>[&#x27;hypertension&#x27;, &#x27;heart_disease&#x27;]</pre></div> </div></div><div class=\"sk-serial\"><div class=\"sk-item\"><div class=\"sk-estimator fitted sk-toggleable\"><input class=\"sk-toggleable__control sk-hidden--visually\" id=\"sk-estimator-id-194\" type=\"checkbox\" ><label for=\"sk-estimator-id-194\" class=\"sk-toggleable__label fitted sk-toggleable__label-arrow fitted\">passthrough</label><div class=\"sk-toggleable__content fitted\"><pre>passthrough</pre></div> </div></div></div></div></div></div></div></div></div>"
      ],
      "text/plain": [
       "ColumnTransformer(remainder='passthrough',\n",
       "                  transformers=[('numerical_transformer',\n",
       "                                 Pipeline(steps=[('scaler', StandardScaler())]),\n",
       "                                 ['age', 'avg_glucose_level', 'bmi']),\n",
       "                                ('nominal_transformer',\n",
       "                                 Pipeline(steps=[('hot_encoder',\n",
       "                                                  OneHotEncoder(drop='if_binary',\n",
       "                                                                dtype=<class 'numpy.int64'>,\n",
       "                                                                handle_unknown='ignore'))]),\n",
       "                                 ['gender', 'work_type', 'Residence_type'])])"
      ]
     },
     "execution_count": 887,
     "metadata": {},
     "output_type": "execute_result"
    }
   ],
   "source": [
    "preprocessor_train = one_hot_and_std_transformation(X_train)\n",
    "preprocessor_test = one_hot_and_std_transformation(X_test)\n",
    "preprocessor_val = one_hot_and_std_transformation(X_val)\n",
    "preprocessor_train"
   ]
  },
  {
   "cell_type": "code",
   "execution_count": 888,
   "id": "4eb8b80d-8572-44bc-a66b-87ecae74514e",
   "metadata": {},
   "outputs": [],
   "source": [
    "X_train_preproc = preprocessor_train.transform(X_train)\n",
    "X_test_preproc = preprocessor_test.transform(X_test)\n",
    "X_val_preproc = preprocessor_test.transform(X_val)"
   ]
  },
  {
   "cell_type": "markdown",
   "id": "186955b2-2038-4287-8808-a72e236436e8",
   "metadata": {},
   "source": [
    "We check that the obtained data is well transformed. Observe that now the dtypes are all float64"
   ]
  },
  {
   "cell_type": "code",
   "execution_count": 889,
   "id": "d395cbc2-da46-41ea-a273-fcb3d8ee6933",
   "metadata": {},
   "outputs": [
    {
     "name": "stdout",
     "output_type": "stream",
     "text": [
      "<class 'pandas.core.frame.DataFrame'>\n",
      "RangeIndex: 3434 entries, 0 to 3433\n",
      "Data columns (total 12 columns):\n",
      " #   Column                   Non-Null Count  Dtype  \n",
      "---  ------                   --------------  -----  \n",
      " 0   age                      3434 non-null   float64\n",
      " 1   avg_glucose_level        3434 non-null   float64\n",
      " 2   bmi                      3434 non-null   float64\n",
      " 3   gender_Male              3434 non-null   float64\n",
      " 4   work_type_Govt_job       3434 non-null   float64\n",
      " 5   work_type_Never_worked   3434 non-null   float64\n",
      " 6   work_type_Private        3434 non-null   float64\n",
      " 7   work_type_Self-employed  3434 non-null   float64\n",
      " 8   work_type_children       3434 non-null   float64\n",
      " 9   Residence_type_Urban     3434 non-null   float64\n",
      " 10  hypertension             3434 non-null   float64\n",
      " 11  heart_disease            3434 non-null   float64\n",
      "dtypes: float64(12)\n",
      "memory usage: 322.1 KB\n"
     ]
    }
   ],
   "source": [
    "var_cols = get_preprocessor_col_names(preprocessor_train)\n",
    "cat_names = get_preprocessor_cat_names(preprocessor_train)\n",
    "df_transf_x_train = pd.DataFrame(X_train_preproc, columns=var_cols)\n",
    "df_transf_x_test = pd.DataFrame(X_test_preproc, columns=var_cols)\n",
    "df_transf_x_val = pd.DataFrame(X_val_preproc, columns=var_cols)\n",
    "df_transf_x_train.info()"
   ]
  },
  {
   "cell_type": "code",
   "execution_count": 890,
   "id": "6a578b50-f04f-4370-bba4-d4cc5bdaa151",
   "metadata": {},
   "outputs": [
    {
     "data": {
      "text/html": [
       "<div>\n",
       "<style scoped>\n",
       "    .dataframe tbody tr th:only-of-type {\n",
       "        vertical-align: middle;\n",
       "    }\n",
       "\n",
       "    .dataframe tbody tr th {\n",
       "        vertical-align: top;\n",
       "    }\n",
       "\n",
       "    .dataframe thead th {\n",
       "        text-align: right;\n",
       "    }\n",
       "</style>\n",
       "<table border=\"1\" class=\"dataframe\">\n",
       "  <thead>\n",
       "    <tr style=\"text-align: right;\">\n",
       "      <th></th>\n",
       "      <th>age</th>\n",
       "      <th>avg_glucose_level</th>\n",
       "      <th>bmi</th>\n",
       "      <th>gender_Male</th>\n",
       "      <th>work_type_Govt_job</th>\n",
       "      <th>work_type_Never_worked</th>\n",
       "      <th>work_type_Private</th>\n",
       "      <th>work_type_Self-employed</th>\n",
       "      <th>work_type_children</th>\n",
       "      <th>Residence_type_Urban</th>\n",
       "      <th>hypertension</th>\n",
       "      <th>heart_disease</th>\n",
       "    </tr>\n",
       "  </thead>\n",
       "  <tbody>\n",
       "    <tr>\n",
       "      <th>0</th>\n",
       "      <td>0.141063</td>\n",
       "      <td>-0.323311</td>\n",
       "      <td>-0.165491</td>\n",
       "      <td>1.0</td>\n",
       "      <td>0.0</td>\n",
       "      <td>0.0</td>\n",
       "      <td>1.0</td>\n",
       "      <td>0.0</td>\n",
       "      <td>0.0</td>\n",
       "      <td>1.0</td>\n",
       "      <td>0.0</td>\n",
       "      <td>0.0</td>\n",
       "    </tr>\n",
       "    <tr>\n",
       "      <th>1</th>\n",
       "      <td>-0.260807</td>\n",
       "      <td>0.149629</td>\n",
       "      <td>0.010803</td>\n",
       "      <td>0.0</td>\n",
       "      <td>0.0</td>\n",
       "      <td>0.0</td>\n",
       "      <td>1.0</td>\n",
       "      <td>0.0</td>\n",
       "      <td>0.0</td>\n",
       "      <td>0.0</td>\n",
       "      <td>0.0</td>\n",
       "      <td>0.0</td>\n",
       "    </tr>\n",
       "    <tr>\n",
       "      <th>2</th>\n",
       "      <td>-0.350112</td>\n",
       "      <td>-0.284012</td>\n",
       "      <td>-0.052159</td>\n",
       "      <td>1.0</td>\n",
       "      <td>0.0</td>\n",
       "      <td>0.0</td>\n",
       "      <td>1.0</td>\n",
       "      <td>0.0</td>\n",
       "      <td>0.0</td>\n",
       "      <td>0.0</td>\n",
       "      <td>0.0</td>\n",
       "      <td>0.0</td>\n",
       "    </tr>\n",
       "    <tr>\n",
       "      <th>3</th>\n",
       "      <td>0.364325</td>\n",
       "      <td>-0.266847</td>\n",
       "      <td>0.778941</td>\n",
       "      <td>1.0</td>\n",
       "      <td>0.0</td>\n",
       "      <td>0.0</td>\n",
       "      <td>0.0</td>\n",
       "      <td>1.0</td>\n",
       "      <td>0.0</td>\n",
       "      <td>0.0</td>\n",
       "      <td>0.0</td>\n",
       "      <td>0.0</td>\n",
       "    </tr>\n",
       "    <tr>\n",
       "      <th>4</th>\n",
       "      <td>-0.796634</td>\n",
       "      <td>-0.103329</td>\n",
       "      <td>0.363391</td>\n",
       "      <td>0.0</td>\n",
       "      <td>0.0</td>\n",
       "      <td>0.0</td>\n",
       "      <td>1.0</td>\n",
       "      <td>0.0</td>\n",
       "      <td>0.0</td>\n",
       "      <td>0.0</td>\n",
       "      <td>0.0</td>\n",
       "      <td>0.0</td>\n",
       "    </tr>\n",
       "  </tbody>\n",
       "</table>\n",
       "</div>"
      ],
      "text/plain": [
       "        age  avg_glucose_level       bmi  gender_Male  work_type_Govt_job  \\\n",
       "0  0.141063          -0.323311 -0.165491          1.0                 0.0   \n",
       "1 -0.260807           0.149629  0.010803          0.0                 0.0   \n",
       "2 -0.350112          -0.284012 -0.052159          1.0                 0.0   \n",
       "3  0.364325          -0.266847  0.778941          1.0                 0.0   \n",
       "4 -0.796634          -0.103329  0.363391          0.0                 0.0   \n",
       "\n",
       "   work_type_Never_worked  work_type_Private  work_type_Self-employed  \\\n",
       "0                     0.0                1.0                      0.0   \n",
       "1                     0.0                1.0                      0.0   \n",
       "2                     0.0                1.0                      0.0   \n",
       "3                     0.0                0.0                      1.0   \n",
       "4                     0.0                1.0                      0.0   \n",
       "\n",
       "   work_type_children  Residence_type_Urban  hypertension  heart_disease  \n",
       "0                 0.0                   1.0           0.0            0.0  \n",
       "1                 0.0                   0.0           0.0            0.0  \n",
       "2                 0.0                   0.0           0.0            0.0  \n",
       "3                 0.0                   0.0           0.0            0.0  \n",
       "4                 0.0                   0.0           0.0            0.0  "
      ]
     },
     "execution_count": 890,
     "metadata": {},
     "output_type": "execute_result"
    }
   ],
   "source": [
    "df_transf_x_train.head(5)"
   ]
  },
  {
   "cell_type": "markdown",
   "id": "4ec8ee84-ba86-41ad-b0fb-ab822efa5530",
   "metadata": {},
   "source": [
    "## 2.7.0 Justification of using SMOTE\n",
    "On the following code, we observe that for three different classifiers the accuracy is very high but it does not change even if we erase all features and we select only the *age* columns.\n",
    "\n",
    "This leads to think that, as the data set is imbalanced, the training of any model will tend to overfit and give a high score but that is not true.\n",
    "\n",
    "This invites to using SMOTE to balance the training data (next step)"
   ]
  },
  {
   "cell_type": "code",
   "execution_count": 913,
   "id": "1cda22b9-4e9f-4a92-ad35-ecb83ce86074",
   "metadata": {},
   "outputs": [
    {
     "name": "stdout",
     "output_type": "stream",
     "text": [
      "LogisticRegression without SMOTE, SCORE: 0.9579375848032564\n",
      "Random Forest Classifier without SMOTE, SCORE: 0.9538670284938942\n",
      "SVC without SMOTE, SCORE: 0.9579375848032564\n",
      "\n",
      "RESULTS with only the AGE column:\n",
      "LogisticRegression without SMOTE, and age only, SCORE: 0.9579375848032564\n",
      "Random Forest Classifier without SMOTE,and age only, SCORE: 0.9579375848032564\n",
      "SVC without SMOTE,and age only, SCORE: 0.9579375848032564\n"
     ]
    }
   ],
   "source": [
    "lr_m = LogisticRegression()\n",
    "lr_m.fit(df_transf_x_train, y_train)\n",
    "\n",
    "print(f\"LogisticRegression without SMOTE, SCORE: {lr_m.score(df_transf_x_test, y_test)}\")\n",
    "\n",
    "rfc_m = RandomForestClassifier(random_state=0)\n",
    "rfc_m.fit(df_transf_x_train, y_train)\n",
    "\n",
    "print(f\"Random Forest Classifier without SMOTE, SCORE: {rfc_m.score(df_transf_x_test, y_test)}\")\n",
    "\n",
    "svc_m = SVC(C=0.1)\n",
    "svc_m.fit(df_transf_x_train, y_train)\n",
    "\n",
    "print(f\"SVC without SMOTE, SCORE: {svc_m.score(df_transf_x_test, y_test)}\")\n",
    "\n",
    "# Taking only the AGE column, results are the same. Non-sense!\n",
    "df_x_train_age_only = df_transf_x_train.loc[:, [\"age\"]]\n",
    "df_x_test_age_only = df_transf_x_test.loc[:, [\"age\"]]\n",
    "\n",
    "lr_m2 = LogisticRegression()\n",
    "lr_m2.fit(df_x_train_age_only, y_train)\n",
    "\n",
    "print(\"\\nRESULTS with only the AGE column:\")\n",
    "print(f\"LogisticRegression without SMOTE, and age only, SCORE: {lr_m2.score(df_x_test_age_only, y_test)}\")\n",
    "\n",
    "rfc_m2 = RandomForestClassifier(random_state=0)\n",
    "rfc_m2.fit(df_x_train_age_only, y_train)\n",
    "\n",
    "print(f\"Random Forest Classifier without SMOTE,and age only, SCORE: {rfc_m2.score(df_x_test_age_only, y_test)}\")\n",
    "\n",
    "svc_m2 = SVC(C=0.1)\n",
    "svc_m2.fit(df_x_train_age_only, y_train)\n",
    "\n",
    "print(f\"SVC without SMOTE,and age only, SCORE: {svc_m2.score(df_x_test_age_only, y_test)}\")"
   ]
  },
  {
   "cell_type": "markdown",
   "id": "98009114-bc44-464e-a993-8eaafbcac953",
   "metadata": {},
   "source": [
    "## 2.7 Data balancing with SMOTENC\n",
    "\n",
    "As we have observed, the dataset is imbalanced, in our case, there are more negative values of the target variable than positive values (strokes). \n",
    "\n",
    "Note that SMOTENC is specific for data sets with categorical features.\n",
    "\n",
    "Balancing the data permits us to have a better model performance, also reduces overfitting as we had observed before using SMOTE. However, one of its disadvantages is that it focuses on the minority classes and thus ignores the majority class.\n",
    "\n",
    "**NOTA:** We have decided to do SMOTE as we have observed that without SMOTE, the model gave us a high accuracy but without any change when tuning parameters or even choosing between several models. This had let me think that the lack of balance in the data tends to create overfitted models.\n",
    "\n",
    "To avoid the overfitting and for the sake of having a tuning and more coherent model selection, we have used SMOTENC on the **training set** and isolated a **validation set** and a final **testing set** that we leave untoached until the end of our model testing."
   ]
  },
  {
   "cell_type": "code",
   "execution_count": 312,
   "id": "3cd6b78a-b068-4f06-a0ea-69d913380d35",
   "metadata": {},
   "outputs": [
    {
     "name": "stdout",
     "output_type": "stream",
     "text": [
      "X_train before SMOTE (3434, 12)\n",
      "y_train before SMOTE stroke\n",
      "0    3287\n",
      "1     147\n",
      "Name: count, dtype: int64\n",
      "X_train after SMOTE (6574, 12)\n",
      "y_train after SMOTE (6574,)\n"
     ]
    },
    {
     "data": {
      "text/plain": [
       "stroke\n",
       "0    3287\n",
       "1    3287\n",
       "Name: count, dtype: int64"
      ]
     },
     "execution_count": 312,
     "metadata": {},
     "output_type": "execute_result"
    }
   ],
   "source": [
    "from imblearn.over_sampling import SMOTENC\n",
    "\n",
    "# Use SMOTENC with categorical features\n",
    "smote = SMOTENC(categorical_features=[3, 4, 5, 6, 7, 8, 9, 10, 11], sampling_strategy=\"minority\", random_state=0)\n",
    "print(f\"X_train before SMOTE {df_transf_x_train.shape}\")\n",
    "print(f\"y_train before SMOTE {y_train.value_counts()}\")\n",
    "X_train_smote, y_train_smote = smote.fit_resample(df_transf_x_train, y_train)\n",
    "print(f\"X_train after SMOTE {X_train_smote.shape}\")\n",
    "print(f\"y_train after SMOTE {y_train_smote.shape}\")\n",
    "y_train_smote.value_counts()"
   ]
  },
  {
   "cell_type": "markdown",
   "id": "bcbc583a-1892-454d-b5ed-03384ec79d66",
   "metadata": {},
   "source": [
    "# 3. Feature Selection\n",
    "In this section we are going to do the feature selection without the need of training a model:\n",
    "1) Correlation matrix\n",
    "2) Mutual Information\n",
    "\n",
    "When using feature selection with a given model, we need to do a pre-selection of models. \n",
    "\n",
    "We are going to compare the following **models** for *classification* during the **variable selection**:\n",
    "- Logistic Regression and RandomForest with a Sequential Feature Selection using a forward step-wise approach. [SFS](https://scikit-learn.org/stable/modules/generated/sklearn.feature_selection.SequentialFeatureSelector.html#sklearn.feature_selection.SequentialFeatureSelector) \n",
    "     \n",
    "## 3.1 Linear correlation\n",
    "To start, we are going to evaluate the stroke column on the correation matrix.\n"
   ]
  },
  {
   "cell_type": "code",
   "execution_count": 688,
   "id": "063f1ab3-6cb4-44c8-ad3c-d3674d359992",
   "metadata": {},
   "outputs": [
    {
     "data": {
      "text/plain": [
       "stroke                     1.000000\n",
       "age                        0.232313\n",
       "hypertension               0.142503\n",
       "avg_glucose_level          0.138984\n",
       "heart_disease              0.137929\n",
       "work_type_Self-employed    0.055338\n",
       "bmi                        0.042341\n",
       "work_type_Private          0.014972\n",
       "gender                     0.006904\n",
       "Residence_type             0.005988\n",
       "work_type_Govt_job         0.003537\n",
       "work_type_Never_worked    -0.014152\n",
       "work_type_children        -0.080990\n",
       "Name: stroke, dtype: float64"
      ]
     },
     "execution_count": 688,
     "metadata": {},
     "output_type": "execute_result"
    }
   ],
   "source": [
    "stroke_corr = df_transf.corr().loc[:, \"stroke\"].sort_values(ascending=False)\n",
    "stroke_corr"
   ]
  },
  {
   "cell_type": "markdown",
   "id": "873bc13e-1909-4f6f-b440-999aeb0b99a5",
   "metadata": {},
   "source": [
    "After the pre-processing we have the following correlations.\n",
    "\n",
    "The higher positive correlated variables are:\n",
    "1) **age** with 0.24\n",
    "2) **heart_disease**, **avg_glucose_lvl** with 0.13\n",
    "3) **hypertension** with 0.12\n",
    "4) **ever_married** with 0.10\n",
    "5) **WorkType__Self-employed** with 0.05\n",
    "\n",
    "The higher negative related variables is **WorkType__children** with -0.08\n"
   ]
  },
  {
   "cell_type": "markdown",
   "id": "34d72518-4f03-4bc5-bb37-19dc15c4ddee",
   "metadata": {},
   "source": [
    "## 3.2 Feature Selection with Mutual Info Classification"
   ]
  },
  {
   "cell_type": "code",
   "execution_count": 281,
   "id": "2fa623fb-65a8-4370-841d-ff3ac448a19b",
   "metadata": {},
   "outputs": [
    {
     "data": {
      "text/plain": [
       "Index(['age', 'avg_glucose_level', 'bmi', 'gender_Male', 'work_type_Govt_job',\n",
       "       'work_type_Never_worked', 'work_type_Private',\n",
       "       'work_type_Self-employed', 'work_type_children', 'Residence_type_Urban',\n",
       "       'hypertension', 'heart_disease'],\n",
       "      dtype='object')"
      ]
     },
     "execution_count": 281,
     "metadata": {},
     "output_type": "execute_result"
    }
   ],
   "source": [
    "X_train_smote.columns"
   ]
  },
  {
   "cell_type": "code",
   "execution_count": 282,
   "id": "a0d6590a-5969-4b4e-bcee-7165c0b308fe",
   "metadata": {},
   "outputs": [
    {
     "data": {
      "text/plain": [
       "<Axes: xlabel='MI scores', ylabel='None'>"
      ]
     },
     "execution_count": 282,
     "metadata": {},
     "output_type": "execute_result"
    },
    {
     "data": {
      "image/png": "[encoded data removed]",
      "text/plain": [
       "<Figure size 640x480 with 1 Axes>"
      ]
     },
     "metadata": {},
     "output_type": "display_data"
    }
   ],
   "source": [
    "from sklearn.feature_selection import mutual_info_classif \n",
    "\n",
    "def get_MIC(X, y, discrete_features):\n",
    "    X = X.copy()\n",
    "    mi_scores = mutual_info_classif(X,y, discrete_features=discrete_features, random_state=0) \n",
    "    mi_scores = pd.Series(mi_scores, name=\"MI scores\", index=X.columns)\n",
    "    mi_scores = mi_scores.sort_values(ascending=False)\n",
    "    return mi_scores\n",
    "\n",
    "# Obtain the discrete features in the preprocessor\n",
    "discrete_names = get_preprocessor_cat_names(preprocessor_train)  # obtain from the preprocessor object the names of the categorical features\n",
    "discrete_features = [X_train_smote.columns.get_loc(c) for c in discrete_names]\n",
    "\n",
    "mic_scores = get_MIC(X_train_smote, y_train_smote, discrete_features)\n",
    "sns.barplot(y=mic_scores.index, x=mic_scores, hue=mic_scores.index)"
   ]
  },
  {
   "cell_type": "code",
   "execution_count": 283,
   "id": "00d9e0e7-1df1-497d-a96d-55bad009f342",
   "metadata": {},
   "outputs": [
    {
     "data": {
      "text/plain": [
       "age    0.541620\n",
       "bmi    0.418507\n",
       "Name: MI scores, dtype: float64"
      ]
     },
     "execution_count": 283,
     "metadata": {},
     "output_type": "execute_result"
    }
   ],
   "source": [
    "threshold = mic_scores.min() + mic_scores.std()  # Taking a 1-SE selection criteria\n",
    "mic_scores[mic_scores > threshold]"
   ]
  },
  {
   "cell_type": "markdown",
   "id": "16ec57e4-0577-4751-a72e-90f0db479fcf",
   "metadata": {},
   "source": [
    "However with this method, we obtain a different list depending on the *random_state* seed. We have set it to 0 for reproducibility.\n",
    "\n",
    "Also the mutual information does not give an idea of the performance of the selected variables. Moreover, if we want to automate it in a pipeline, we must find a method to select the features that does not depend on the random seed.\n"
   ]
  },
  {
   "cell_type": "markdown",
   "id": "60d83f36-27f7-4696-a4e2-e8d2d7d63899",
   "metadata": {},
   "source": [
    "## 3.3 Feature Selection with Logistic Regression"
   ]
  },
  {
   "cell_type": "code",
   "execution_count": 284,
   "id": "71a3376a-d787-44ab-a6f1-1e06204fc4dd",
   "metadata": {},
   "outputs": [
    {
     "data": {
      "text/plain": [
       "<Axes: xlabel='coefficient', ylabel='None'>"
      ]
     },
     "execution_count": 284,
     "metadata": {},
     "output_type": "execute_result"
    },
    {
     "data": {
      "image/png": "[encoded data removed]",
      "text/plain": [
       "<Figure size 640x480 with 1 Axes>"
      ]
     },
     "metadata": {},
     "output_type": "display_data"
    }
   ],
   "source": [
    "from sklearn.linear_model import LogisticRegression\n",
    "\n",
    "lr_model = LogisticRegression(penalty=\"l1\", solver='liblinear')\n",
    "lr_model.fit(X_train_smote, y_train_smote)\n",
    "\n",
    "coefs=pd.DataFrame({'coefficient':lr_model.coef_[0]}, index = X_train_smote.columns)\n",
    "\n",
    "coefs.sort_values('coefficient', key=abs, ascending=False, inplace=True)\n",
    "\n",
    "sns.barplot(y=coefs.index, x=coefs['coefficient'], hue=coefs.index)"
   ]
  },
  {
   "cell_type": "markdown",
   "id": "89537c32-2e28-4ad5-b414-48a0cb43c9c2",
   "metadata": {},
   "source": [
    "With this method we can have an idea on the weight of each variable, however we can not generalize it into an automatic method, as the coefficients do not give an idea of the impact of using each variable inside the model, neither of the performance associated to this variable selection."
   ]
  },
  {
   "cell_type": "markdown",
   "id": "0028ee20-56d7-4d4b-8ab3-edafdd35d467",
   "metadata": {},
   "source": [
    "## 3.3 Feature Selection with Random Forest\n",
    "\n",
    "By using Random Forest, in this part, we are going to check its **variable importance** with Mean Decrease Impurity (Gini Index)"
   ]
  },
  {
   "cell_type": "code",
   "execution_count": 285,
   "id": "d7c2a85d-de12-43a2-b91b-4e7fbe0ef901",
   "metadata": {},
   "outputs": [
    {
     "data": {
      "text/html": [
       "<style>#sk-container-id-12 {\n",
       "  /* Definition of color scheme common for light and dark mode */\n",
       "  --sklearn-color-text: black;\n",
       "  --sklearn-color-line: gray;\n",
       "  /* Definition of color scheme for unfitted estimators */\n",
       "  --sklearn-color-unfitted-level-0: #fff5e6;\n",
       "  --sklearn-color-unfitted-level-1: #f6e4d2;\n",
       "  --sklearn-color-unfitted-level-2: #ffe0b3;\n",
       "  --sklearn-color-unfitted-level-3: chocolate;\n",
       "  /* Definition of color scheme for fitted estimators */\n",
       "  --sklearn-color-fitted-level-0: #f0f8ff;\n",
       "  --sklearn-color-fitted-level-1: #d4ebff;\n",
       "  --sklearn-color-fitted-level-2: #b3dbfd;\n",
       "  --sklearn-color-fitted-level-3: cornflowerblue;\n",
       "\n",
       "  /* Specific color for light theme */\n",
       "  --sklearn-color-text-on-default-background: var(--sg-text-color, var(--theme-code-foreground, var(--jp-content-font-color1, black)));\n",
       "  --sklearn-color-background: var(--sg-background-color, var(--theme-background, var(--jp-layout-color0, white)));\n",
       "  --sklearn-color-border-box: var(--sg-text-color, var(--theme-code-foreground, var(--jp-content-font-color1, black)));\n",
       "  --sklearn-color-icon: #696969;\n",
       "\n",
       "  @media (prefers-color-scheme: dark) {\n",
       "    /* Redefinition of color scheme for dark theme */\n",
       "    --sklearn-color-text-on-default-background: var(--sg-text-color, var(--theme-code-foreground, var(--jp-content-font-color1, white)));\n",
       "    --sklearn-color-background: var(--sg-background-color, var(--theme-background, var(--jp-layout-color0, #111)));\n",
       "    --sklearn-color-border-box: var(--sg-text-color, var(--theme-code-foreground, var(--jp-content-font-color1, white)));\n",
       "    --sklearn-color-icon: #878787;\n",
       "  }\n",
       "}\n",
       "\n",
       "#sk-container-id-12 {\n",
       "  color: var(--sklearn-color-text);\n",
       "}\n",
       "\n",
       "#sk-container-id-12 pre {\n",
       "  padding: 0;\n",
       "}\n",
       "\n",
       "#sk-container-id-12 input.sk-hidden--visually {\n",
       "  border: 0;\n",
       "  clip: rect(1px 1px 1px 1px);\n",
       "  clip: rect(1px, 1px, 1px, 1px);\n",
       "  height: 1px;\n",
       "  margin: -1px;\n",
       "  overflow: hidden;\n",
       "  padding: 0;\n",
       "  position: absolute;\n",
       "  width: 1px;\n",
       "}\n",
       "\n",
       "#sk-container-id-12 div.sk-dashed-wrapped {\n",
       "  border: 1px dashed var(--sklearn-color-line);\n",
       "  margin: 0 0.4em 0.5em 0.4em;\n",
       "  box-sizing: border-box;\n",
       "  padding-bottom: 0.4em;\n",
       "  background-color: var(--sklearn-color-background);\n",
       "}\n",
       "\n",
       "#sk-container-id-12 div.sk-container {\n",
       "  /* jupyter's `normalize.less` sets `[hidden] { display: none; }`\n",
       "     but bootstrap.min.css set `[hidden] { display: none !important; }`\n",
       "     so we also need the `!important` here to be able to override the\n",
       "     default hidden behavior on the sphinx rendered scikit-learn.org.\n",
       "     See: https://github.com/scikit-learn/scikit-learn/issues/21755 */\n",
       "  display: inline-block !important;\n",
       "  position: relative;\n",
       "}\n",
       "\n",
       "#sk-container-id-12 div.sk-text-repr-fallback {\n",
       "  display: none;\n",
       "}\n",
       "\n",
       "div.sk-parallel-item,\n",
       "div.sk-serial,\n",
       "div.sk-item {\n",
       "  /* draw centered vertical line to link estimators */\n",
       "  background-image: linear-gradient(var(--sklearn-color-text-on-default-background), var(--sklearn-color-text-on-default-background));\n",
       "  background-size: 2px 100%;\n",
       "  background-repeat: no-repeat;\n",
       "  background-position: center center;\n",
       "}\n",
       "\n",
       "/* Parallel-specific style estimator block */\n",
       "\n",
       "#sk-container-id-12 div.sk-parallel-item::after {\n",
       "  content: \"\";\n",
       "  width: 100%;\n",
       "  border-bottom: 2px solid var(--sklearn-color-text-on-default-background);\n",
       "  flex-grow: 1;\n",
       "}\n",
       "\n",
       "#sk-container-id-12 div.sk-parallel {\n",
       "  display: flex;\n",
       "  align-items: stretch;\n",
       "  justify-content: center;\n",
       "  background-color: var(--sklearn-color-background);\n",
       "  position: relative;\n",
       "}\n",
       "\n",
       "#sk-container-id-12 div.sk-parallel-item {\n",
       "  display: flex;\n",
       "  flex-direction: column;\n",
       "}\n",
       "\n",
       "#sk-container-id-12 div.sk-parallel-item:first-child::after {\n",
       "  align-self: flex-end;\n",
       "  width: 50%;\n",
       "}\n",
       "\n",
       "#sk-container-id-12 div.sk-parallel-item:last-child::after {\n",
       "  align-self: flex-start;\n",
       "  width: 50%;\n",
       "}\n",
       "\n",
       "#sk-container-id-12 div.sk-parallel-item:only-child::after {\n",
       "  width: 0;\n",
       "}\n",
       "\n",
       "/* Serial-specific style estimator block */\n",
       "\n",
       "#sk-container-id-12 div.sk-serial {\n",
       "  display: flex;\n",
       "  flex-direction: column;\n",
       "  align-items: center;\n",
       "  background-color: var(--sklearn-color-background);\n",
       "  padding-right: 1em;\n",
       "  padding-left: 1em;\n",
       "}\n",
       "\n",
       "\n",
       "/* Toggleable style: style used for estimator/Pipeline/ColumnTransformer box that is\n",
       "clickable and can be expanded/collapsed.\n",
       "- Pipeline and ColumnTransformer use this feature and define the default style\n",
       "- Estimators will overwrite some part of the style using the `sk-estimator` class\n",
       "*/\n",
       "\n",
       "/* Pipeline and ColumnTransformer style (default) */\n",
       "\n",
       "#sk-container-id-12 div.sk-toggleable {\n",
       "  /* Default theme specific background. It is overwritten whether we have a\n",
       "  specific estimator or a Pipeline/ColumnTransformer */\n",
       "  background-color: var(--sklearn-color-background);\n",
       "}\n",
       "\n",
       "/* Toggleable label */\n",
       "#sk-container-id-12 label.sk-toggleable__label {\n",
       "  cursor: pointer;\n",
       "  display: block;\n",
       "  width: 100%;\n",
       "  margin-bottom: 0;\n",
       "  padding: 0.5em;\n",
       "  box-sizing: border-box;\n",
       "  text-align: center;\n",
       "}\n",
       "\n",
       "#sk-container-id-12 label.sk-toggleable__label-arrow:before {\n",
       "  /* Arrow on the left of the label */\n",
       "  content: \"▸\";\n",
       "  float: left;\n",
       "  margin-right: 0.25em;\n",
       "  color: var(--sklearn-color-icon);\n",
       "}\n",
       "\n",
       "#sk-container-id-12 label.sk-toggleable__label-arrow:hover:before {\n",
       "  color: var(--sklearn-color-text);\n",
       "}\n",
       "\n",
       "/* Toggleable content - dropdown */\n",
       "\n",
       "#sk-container-id-12 div.sk-toggleable__content {\n",
       "  max-height: 0;\n",
       "  max-width: 0;\n",
       "  overflow: hidden;\n",
       "  text-align: left;\n",
       "  /* unfitted */\n",
       "  background-color: var(--sklearn-color-unfitted-level-0);\n",
       "}\n",
       "\n",
       "#sk-container-id-12 div.sk-toggleable__content.fitted {\n",
       "  /* fitted */\n",
       "  background-color: var(--sklearn-color-fitted-level-0);\n",
       "}\n",
       "\n",
       "#sk-container-id-12 div.sk-toggleable__content pre {\n",
       "  margin: 0.2em;\n",
       "  border-radius: 0.25em;\n",
       "  color: var(--sklearn-color-text);\n",
       "  /* unfitted */\n",
       "  background-color: var(--sklearn-color-unfitted-level-0);\n",
       "}\n",
       "\n",
       "#sk-container-id-12 div.sk-toggleable__content.fitted pre {\n",
       "  /* unfitted */\n",
       "  background-color: var(--sklearn-color-fitted-level-0);\n",
       "}\n",
       "\n",
       "#sk-container-id-12 input.sk-toggleable__control:checked~div.sk-toggleable__content {\n",
       "  /* Expand drop-down */\n",
       "  max-height: 200px;\n",
       "  max-width: 100%;\n",
       "  overflow: auto;\n",
       "}\n",
       "\n",
       "#sk-container-id-12 input.sk-toggleable__control:checked~label.sk-toggleable__label-arrow:before {\n",
       "  content: \"▾\";\n",
       "}\n",
       "\n",
       "/* Pipeline/ColumnTransformer-specific style */\n",
       "\n",
       "#sk-container-id-12 div.sk-label input.sk-toggleable__control:checked~label.sk-toggleable__label {\n",
       "  color: var(--sklearn-color-text);\n",
       "  background-color: var(--sklearn-color-unfitted-level-2);\n",
       "}\n",
       "\n",
       "#sk-container-id-12 div.sk-label.fitted input.sk-toggleable__control:checked~label.sk-toggleable__label {\n",
       "  background-color: var(--sklearn-color-fitted-level-2);\n",
       "}\n",
       "\n",
       "/* Estimator-specific style */\n",
       "\n",
       "/* Colorize estimator box */\n",
       "#sk-container-id-12 div.sk-estimator input.sk-toggleable__control:checked~label.sk-toggleable__label {\n",
       "  /* unfitted */\n",
       "  background-color: var(--sklearn-color-unfitted-level-2);\n",
       "}\n",
       "\n",
       "#sk-container-id-12 div.sk-estimator.fitted input.sk-toggleable__control:checked~label.sk-toggleable__label {\n",
       "  /* fitted */\n",
       "  background-color: var(--sklearn-color-fitted-level-2);\n",
       "}\n",
       "\n",
       "#sk-container-id-12 div.sk-label label.sk-toggleable__label,\n",
       "#sk-container-id-12 div.sk-label label {\n",
       "  /* The background is the default theme color */\n",
       "  color: var(--sklearn-color-text-on-default-background);\n",
       "}\n",
       "\n",
       "/* On hover, darken the color of the background */\n",
       "#sk-container-id-12 div.sk-label:hover label.sk-toggleable__label {\n",
       "  color: var(--sklearn-color-text);\n",
       "  background-color: var(--sklearn-color-unfitted-level-2);\n",
       "}\n",
       "\n",
       "/* Label box, darken color on hover, fitted */\n",
       "#sk-container-id-12 div.sk-label.fitted:hover label.sk-toggleable__label.fitted {\n",
       "  color: var(--sklearn-color-text);\n",
       "  background-color: var(--sklearn-color-fitted-level-2);\n",
       "}\n",
       "\n",
       "/* Estimator label */\n",
       "\n",
       "#sk-container-id-12 div.sk-label label {\n",
       "  font-family: monospace;\n",
       "  font-weight: bold;\n",
       "  display: inline-block;\n",
       "  line-height: 1.2em;\n",
       "}\n",
       "\n",
       "#sk-container-id-12 div.sk-label-container {\n",
       "  text-align: center;\n",
       "}\n",
       "\n",
       "/* Estimator-specific */\n",
       "#sk-container-id-12 div.sk-estimator {\n",
       "  font-family: monospace;\n",
       "  border: 1px dotted var(--sklearn-color-border-box);\n",
       "  border-radius: 0.25em;\n",
       "  box-sizing: border-box;\n",
       "  margin-bottom: 0.5em;\n",
       "  /* unfitted */\n",
       "  background-color: var(--sklearn-color-unfitted-level-0);\n",
       "}\n",
       "\n",
       "#sk-container-id-12 div.sk-estimator.fitted {\n",
       "  /* fitted */\n",
       "  background-color: var(--sklearn-color-fitted-level-0);\n",
       "}\n",
       "\n",
       "/* on hover */\n",
       "#sk-container-id-12 div.sk-estimator:hover {\n",
       "  /* unfitted */\n",
       "  background-color: var(--sklearn-color-unfitted-level-2);\n",
       "}\n",
       "\n",
       "#sk-container-id-12 div.sk-estimator.fitted:hover {\n",
       "  /* fitted */\n",
       "  background-color: var(--sklearn-color-fitted-level-2);\n",
       "}\n",
       "\n",
       "/* Specification for estimator info (e.g. \"i\" and \"?\") */\n",
       "\n",
       "/* Common style for \"i\" and \"?\" */\n",
       "\n",
       ".sk-estimator-doc-link,\n",
       "a:link.sk-estimator-doc-link,\n",
       "a:visited.sk-estimator-doc-link {\n",
       "  float: right;\n",
       "  font-size: smaller;\n",
       "  line-height: 1em;\n",
       "  font-family: monospace;\n",
       "  background-color: var(--sklearn-color-background);\n",
       "  border-radius: 1em;\n",
       "  height: 1em;\n",
       "  width: 1em;\n",
       "  text-decoration: none !important;\n",
       "  margin-left: 1ex;\n",
       "  /* unfitted */\n",
       "  border: var(--sklearn-color-unfitted-level-1) 1pt solid;\n",
       "  color: var(--sklearn-color-unfitted-level-1);\n",
       "}\n",
       "\n",
       ".sk-estimator-doc-link.fitted,\n",
       "a:link.sk-estimator-doc-link.fitted,\n",
       "a:visited.sk-estimator-doc-link.fitted {\n",
       "  /* fitted */\n",
       "  border: var(--sklearn-color-fitted-level-1) 1pt solid;\n",
       "  color: var(--sklearn-color-fitted-level-1);\n",
       "}\n",
       "\n",
       "/* On hover */\n",
       "div.sk-estimator:hover .sk-estimator-doc-link:hover,\n",
       ".sk-estimator-doc-link:hover,\n",
       "div.sk-label-container:hover .sk-estimator-doc-link:hover,\n",
       ".sk-estimator-doc-link:hover {\n",
       "  /* unfitted */\n",
       "  background-color: var(--sklearn-color-unfitted-level-3);\n",
       "  color: var(--sklearn-color-background);\n",
       "  text-decoration: none;\n",
       "}\n",
       "\n",
       "div.sk-estimator.fitted:hover .sk-estimator-doc-link.fitted:hover,\n",
       ".sk-estimator-doc-link.fitted:hover,\n",
       "div.sk-label-container:hover .sk-estimator-doc-link.fitted:hover,\n",
       ".sk-estimator-doc-link.fitted:hover {\n",
       "  /* fitted */\n",
       "  background-color: var(--sklearn-color-fitted-level-3);\n",
       "  color: var(--sklearn-color-background);\n",
       "  text-decoration: none;\n",
       "}\n",
       "\n",
       "/* Span, style for the box shown on hovering the info icon */\n",
       ".sk-estimator-doc-link span {\n",
       "  display: none;\n",
       "  z-index: 9999;\n",
       "  position: relative;\n",
       "  font-weight: normal;\n",
       "  right: .2ex;\n",
       "  padding: .5ex;\n",
       "  margin: .5ex;\n",
       "  width: min-content;\n",
       "  min-width: 20ex;\n",
       "  max-width: 50ex;\n",
       "  color: var(--sklearn-color-text);\n",
       "  box-shadow: 2pt 2pt 4pt #999;\n",
       "  /* unfitted */\n",
       "  background: var(--sklearn-color-unfitted-level-0);\n",
       "  border: .5pt solid var(--sklearn-color-unfitted-level-3);\n",
       "}\n",
       "\n",
       ".sk-estimator-doc-link.fitted span {\n",
       "  /* fitted */\n",
       "  background: var(--sklearn-color-fitted-level-0);\n",
       "  border: var(--sklearn-color-fitted-level-3);\n",
       "}\n",
       "\n",
       ".sk-estimator-doc-link:hover span {\n",
       "  display: block;\n",
       "}\n",
       "\n",
       "/* \"?\"-specific style due to the `<a>` HTML tag */\n",
       "\n",
       "#sk-container-id-12 a.estimator_doc_link {\n",
       "  float: right;\n",
       "  font-size: 1rem;\n",
       "  line-height: 1em;\n",
       "  font-family: monospace;\n",
       "  background-color: var(--sklearn-color-background);\n",
       "  border-radius: 1rem;\n",
       "  height: 1rem;\n",
       "  width: 1rem;\n",
       "  text-decoration: none;\n",
       "  /* unfitted */\n",
       "  color: var(--sklearn-color-unfitted-level-1);\n",
       "  border: var(--sklearn-color-unfitted-level-1) 1pt solid;\n",
       "}\n",
       "\n",
       "#sk-container-id-12 a.estimator_doc_link.fitted {\n",
       "  /* fitted */\n",
       "  border: var(--sklearn-color-fitted-level-1) 1pt solid;\n",
       "  color: var(--sklearn-color-fitted-level-1);\n",
       "}\n",
       "\n",
       "/* On hover */\n",
       "#sk-container-id-12 a.estimator_doc_link:hover {\n",
       "  /* unfitted */\n",
       "  background-color: var(--sklearn-color-unfitted-level-3);\n",
       "  color: var(--sklearn-color-background);\n",
       "  text-decoration: none;\n",
       "}\n",
       "\n",
       "#sk-container-id-12 a.estimator_doc_link.fitted:hover {\n",
       "  /* fitted */\n",
       "  background-color: var(--sklearn-color-fitted-level-3);\n",
       "}\n",
       "</style><div id=\"sk-container-id-12\" class=\"sk-top-container\"><div class=\"sk-text-repr-fallback\"><pre>RandomForestClassifier(random_state=0)</pre><b>In a Jupyter environment, please rerun this cell to show the HTML representation or trust the notebook. <br />On GitHub, the HTML representation is unable to render, please try loading this page with nbviewer.org.</b></div><div class=\"sk-container\" hidden><div class=\"sk-item\"><div class=\"sk-estimator fitted sk-toggleable\"><input class=\"sk-toggleable__control sk-hidden--visually\" id=\"sk-estimator-id-41\" type=\"checkbox\" checked><label for=\"sk-estimator-id-41\" class=\"sk-toggleable__label fitted sk-toggleable__label-arrow fitted\">&nbsp;&nbsp;RandomForestClassifier<a class=\"sk-estimator-doc-link fitted\" rel=\"noreferrer\" target=\"_blank\" href=\"https://scikit-learn.org/1.4/modules/generated/sklearn.ensemble.RandomForestClassifier.html\">?<span>Documentation for RandomForestClassifier</span></a><span class=\"sk-estimator-doc-link fitted\">i<span>Fitted</span></span></label><div class=\"sk-toggleable__content fitted\"><pre>RandomForestClassifier(random_state=0)</pre></div> </div></div></div></div>"
      ],
      "text/plain": [
       "RandomForestClassifier(random_state=0)"
      ]
     },
     "execution_count": 285,
     "metadata": {},
     "output_type": "execute_result"
    }
   ],
   "source": [
    "from sklearn.ensemble import RandomForestClassifier\n",
    "\n",
    "feature_names = X_train_smote.columns\n",
    "rfc = RandomForestClassifier(random_state=0) \n",
    "\n",
    "rfc.fit(X_train_smote, y_train_smote)"
   ]
  },
  {
   "cell_type": "code",
   "execution_count": 286,
   "id": "9f81d194-a565-49c7-8675-e2a3aeb9e403",
   "metadata": {},
   "outputs": [
    {
     "data": {
      "text/plain": [
       "age                        0.461441\n",
       "avg_glucose_level          0.209802\n",
       "bmi                        0.185921\n",
       "hypertension               0.025462\n",
       "gender_Male                0.020910\n",
       "Residence_type_Urban       0.020592\n",
       "work_type_children         0.020093\n",
       "work_type_Self-employed    0.017251\n",
       "work_type_Private          0.014523\n",
       "heart_disease              0.013101\n",
       "work_type_Govt_job         0.010581\n",
       "work_type_Never_worked     0.000324\n",
       "dtype: float64"
      ]
     },
     "execution_count": 286,
     "metadata": {},
     "output_type": "execute_result"
    }
   ],
   "source": [
    "importances = rfc.feature_importances_\n",
    "rfc_importances = pd.Series(importances, index=feature_names).sort_values(ascending=False)\n",
    "rfc_std = np.std([tree.feature_importances_ for tree in rfc.estimators_], axis=0)  # Standard deviation of each feature on all the calculated trees\n",
    "rfc_importances"
   ]
  },
  {
   "cell_type": "code",
   "execution_count": 287,
   "id": "33e3027f-9ca7-4f20-8e0d-116bc6f00c84",
   "metadata": {},
   "outputs": [
    {
     "data": {
      "text/plain": [
       "Text(0, 0.5, 'Mean decrease in impurity')"
      ]
     },
     "execution_count": 287,
     "metadata": {},
     "output_type": "execute_result"
    },
    {
     "data": {
      "image/png": "[encoded data removed]",
      "text/plain": [
       "<Figure size 640x480 with 1 Axes>"
      ]
     },
     "metadata": {},
     "output_type": "display_data"
    }
   ],
   "source": [
    "fig, ax = plt.subplots()\n",
    "rfc_importances.plot.bar(yerr=rfc_std, ax=ax)\n",
    "threshold = rfc_importances.min() + rfc_std.mean()\n",
    "ax.axhline(y = threshold, color = 'r', linestyle = '-') \n",
    "ax.set_title(\"Feature importances using MDI\")\n",
    "ax.set_ylabel(\"Mean decrease in impurity\")"
   ]
  },
  {
   "cell_type": "code",
   "execution_count": 803,
   "id": "ddb256b0-b9a3-4090-bd6a-b697dcd6fb5c",
   "metadata": {},
   "outputs": [
    {
     "data": {
      "text/plain": [
       "array([ True,  True,  True,  True, False, False, False,  True,  True,\n",
       "        True,  True, False])"
      ]
     },
     "execution_count": 803,
     "metadata": {},
     "output_type": "execute_result"
    }
   ],
   "source": [
    "\n"
   ]
  },
  {
   "cell_type": "code",
   "execution_count": 288,
   "id": "9f7a5502-7132-479b-b03b-336485dc7ea5",
   "metadata": {},
   "outputs": [
    {
     "name": "stdout",
     "output_type": "stream",
     "text": [
      "age                        0.461441\n",
      "avg_glucose_level          0.209802\n",
      "bmi                        0.185921\n",
      "hypertension               0.025462\n",
      "gender_Male                0.020910\n",
      "Residence_type_Urban       0.020592\n",
      "work_type_children         0.020093\n",
      "work_type_Self-employed    0.017251\n",
      "dtype: float64\n",
      "['age', 'avg_glucose_level', 'bmi', 'hypertension', 'gender_Male', 'Residence_type_Urban', 'work_type_children', 'work_type_Self-employed']\n"
     ]
    }
   ],
   "source": [
    "threshold = rfc_importances.min() + rfc_std.mean()\n",
    "rfc_imp_filtered = rfc_importances[rfc_importances > threshold]\n",
    "print(rfc_imp_filtered)\n",
    "rfc_importances_sel = rfc_imp_filtered.index.to_list()\n",
    "print(rfc_importances_sel)"
   ]
  },
  {
   "cell_type": "markdown",
   "id": "0203a756-2cc9-4098-b22b-5499c180d2b3",
   "metadata": {},
   "source": [
    "We have set a threshold to select the variables above 1 standard deviation from the minimum value:\n",
    "\n",
    "$threshold = x_{min} + x_{std}$\n",
    "\n",
    "The variable importance using Random Forest returns:\n",
    "1) That the **age**, **bmi** and **average glucose level** are the most important variables.\n",
    "2) **Gender_male**, **work_type_children**, **work_type_Self-employed**, **hypertension** and **Residence_type_Urban** are also important but on a second level."
   ]
  },
  {
   "cell_type": "markdown",
   "id": "a66988f8-a3da-410e-b4d3-c380c069f81a",
   "metadata": {},
   "source": [
    "## 3.5 Variable selection with SFS and Cross-validation\n",
    "\n",
    "SFS with Cross-validation will select the best scored features accross the Kfolds.\n",
    "\n",
    "**NOTA: If we do not use SMOTE.** It is very important to note that we have an imbalanced data set for our target variable *stroke* (more negatives than positives). Therefore, if SMOTE is not used, we must use a **stratified K-fold for compensating this imbalance when dividing the train and test set during Cross-Validation**.\n"
   ]
  },
  {
   "cell_type": "code",
   "execution_count": 289,
   "id": "bb40e690-8859-4826-bd36-8bb741201adc",
   "metadata": {},
   "outputs": [],
   "source": [
    "from sklearn.ensemble import RandomForestClassifier\n",
    "from sklearn.linear_model import LogisticRegression\n",
    "from sklearn.svm import SVC\n",
    "from sklearn.neural_network import MLPClassifier\n",
    "from sklearn.model_selection import StratifiedKFold\n",
    "\n",
    "from sklearn.feature_selection import SequentialFeatureSelector\n",
    "from sklearn.pipeline import make_pipeline"
   ]
  },
  {
   "cell_type": "markdown",
   "id": "747b8521-2f7e-4f12-8c90-553deb15d9c4",
   "metadata": {},
   "source": [
    "## 3.5.1 SFS with Logistic Regression"
   ]
  },
  {
   "cell_type": "code",
   "execution_count": 314,
   "id": "22ae14cc-ed2a-425c-a068-a78f24f6133c",
   "metadata": {},
   "outputs": [
    {
     "name": "stdout",
     "output_type": "stream",
     "text": [
      "train -  [2191 2191]   |   test -  [1096 1096]\n",
      "train -  [2191 2192]   |   test -  [1096 1095]\n",
      "train -  [2192 2191]   |   test -  [1095 1096]\n"
     ]
    }
   ],
   "source": [
    "# We check that stratified 3-fold is balanced\n",
    "\n",
    "cv_strat = StratifiedKFold(n_splits=3)  # We take 3 folds, as it normally gives good results\n",
    "for train, test in cv_strat.split(X_train_smote, y_train_smote):\n",
    "    print('train -  {}   |   test -  {}'.format(\n",
    "    np.bincount(y_train_smote.iloc[train]), np.bincount(y_train_smote.iloc[test])))\n",
    "\n",
    "# For each fold (train and test) we have the same amount of strokes"
   ]
  },
  {
   "cell_type": "markdown",
   "id": "676c61d5-8a13-4071-9943-947f600c9ee5",
   "metadata": {},
   "source": [
    "Use a forward step strategy on the **Logistic Regression** model"
   ]
  },
  {
   "cell_type": "code",
   "execution_count": 291,
   "id": "1a117330-c432-4fa7-b3cb-da32e07868fa",
   "metadata": {},
   "outputs": [
    {
     "name": "stdout",
     "output_type": "stream",
     "text": [
      "['age' 'avg_glucose_level' 'gender_Male' 'work_type_children']\n",
      "0.7530529172320217\n"
     ]
    }
   ],
   "source": [
    "sfs_lr = SequentialFeatureSelector(estimator=lr_model,\n",
    "                                   direction=\"forward\",\n",
    "                                   tol=1e-5,\n",
    "                                   cv=cv_strat,\n",
    "                                   scoring=\"accuracy\")\n",
    "sfs_lr.fit(X_train_smote, y_train_smote)\n",
    "print(sfs_lr.get_feature_names_out())\n",
    "lr_model.fit(X_train_smote, y_train_smote)\n",
    "print(lr_model.score(df_transf_x_val, y_val))"
   ]
  },
  {
   "cell_type": "markdown",
   "id": "1def9cf0-9d94-405c-a57c-934895e14aaf",
   "metadata": {},
   "source": [
    "For the logistic regression, when we select 4 variable we obtain the best mean accuracy. \n",
    "\n",
    "These variables are **age, work_type_children, avg_glucose_level** and **gender_Male** \n"
   ]
  },
  {
   "cell_type": "markdown",
   "id": "3488c46e-f791-4daf-a674-4e1bf579b93e",
   "metadata": {},
   "source": [
    "## 3.5.2 SFS with Random Forest Classifier\n",
    "\n",
    "We use a forward step strategy on the **RandomForest** model"
   ]
  },
  {
   "cell_type": "code",
   "execution_count": 43,
   "id": "d1c9738b-3d6d-4613-8d41-d44f32f4f96b",
   "metadata": {},
   "outputs": [
    {
     "name": "stdout",
     "output_type": "stream",
     "text": [
      "n_features_to_select: 1\n",
      "Features selected: Index(['age'], dtype='object')\n",
      "Accuracy in TRAININING data set: 0.813964101003955\n",
      "Accuracy in VALIDATION data set: 0.6933514246947082\n",
      "n_features_to_select: 2\n",
      "Features selected: Index(['age', 'avg_glucose_level'], dtype='object')\n",
      "Accuracy in TRAININING data set: 0.8313051414663827\n",
      "Accuracy in VALIDATION data set: 0.7435549525101763\n",
      "n_features_to_select: 3\n",
      "Features selected: Index(['age', 'avg_glucose_level', 'gender_Male'], dtype='object')\n",
      "Accuracy in TRAININING data set: 0.8303924551262549\n",
      "Accuracy in VALIDATION data set: 0.7530529172320217\n",
      "n_features_to_select: 4\n",
      "Features selected: Index(['age', 'avg_glucose_level', 'gender_Male', 'work_type_Govt_job'], dtype='object')\n",
      "Accuracy in TRAININING data set: 0.8369333738971707\n",
      "Accuracy in VALIDATION data set: 0.7815468113975577\n",
      "n_features_to_select: 5\n",
      "Features selected: Index(['age', 'avg_glucose_level', 'bmi', 'gender_Male', 'work_type_Govt_job'], dtype='object')\n",
      "Accuracy in TRAININING data set: 0.8326741709765744\n",
      "Accuracy in VALIDATION data set: 0.7639077340569878\n",
      "n_features_to_select: 6\n",
      "Features selected: Index(['age', 'avg_glucose_level', 'bmi', 'gender_Male', 'work_type_Govt_job',\n",
      "       'Residence_type_Urban'],\n",
      "      dtype='object')\n",
      "Accuracy in TRAININING data set: 0.8316093702464253\n",
      "Accuracy in VALIDATION data set: 0.7544097693351425\n",
      "n_features_to_select: 7\n",
      "Features selected: Index(['age', 'avg_glucose_level', 'bmi', 'gender_Male', 'work_type_Govt_job',\n",
      "       'work_type_Self-employed', 'Residence_type_Urban'],\n",
      "      dtype='object')\n",
      "Accuracy in TRAININING data set: 0.8275022817158503\n",
      "Accuracy in VALIDATION data set: 0.7557666214382632\n",
      "n_features_to_select: 8\n",
      "Features selected: Index(['age', 'avg_glucose_level', 'bmi', 'gender_Male', 'work_type_Govt_job',\n",
      "       'work_type_Self-employed', 'Residence_type_Urban', 'hypertension'],\n",
      "      dtype='object')\n",
      "Accuracy in TRAININING data set: 0.8310009126863401\n",
      "Accuracy in VALIDATION data set: 0.7598371777476255\n",
      "n_features_to_select: 9\n",
      "Features selected: Index(['age', 'avg_glucose_level', 'bmi', 'gender_Male', 'work_type_Govt_job',\n",
      "       'work_type_Private', 'work_type_Self-employed', 'Residence_type_Urban',\n",
      "       'hypertension'],\n",
      "      dtype='object')\n",
      "Accuracy in TRAININING data set: 0.8369333738971707\n",
      "Accuracy in VALIDATION data set: 0.7706919945725916\n",
      "n_features_to_select: 10\n",
      "Features selected: Index(['age', 'avg_glucose_level', 'bmi', 'gender_Male', 'work_type_Govt_job',\n",
      "       'work_type_Never_worked', 'work_type_Private',\n",
      "       'work_type_Self-employed', 'Residence_type_Urban', 'hypertension'],\n",
      "      dtype='object')\n",
      "Accuracy in TRAININING data set: 0.8338910860967448\n",
      "Accuracy in VALIDATION data set: 0.7639077340569878\n",
      "n_features_to_select: 11\n",
      "Features selected: Index(['age', 'avg_glucose_level', 'bmi', 'gender_Male', 'work_type_Govt_job',\n",
      "       'work_type_Never_worked', 'work_type_Private',\n",
      "       'work_type_Self-employed', 'Residence_type_Urban', 'hypertension',\n",
      "       'heart_disease'],\n",
      "      dtype='object')\n",
      "Accuracy in TRAININING data set: 0.8334347429266808\n",
      "Accuracy in VALIDATION data set: 0.76797829036635\n"
     ]
    }
   ],
   "source": [
    "rfc_model = RandomForestClassifier(max_depth=5, random_state=0) # max_depth = 5 permits to avoid overfitting \n",
    "feature_names = df_transf_x_train.columns\n",
    "train_scores = np.array([])\n",
    "val_scores = np.array([])\n",
    "features_sel = []\n",
    "for n_features_to_select in range(1, len(feature_names)):\n",
    "    sfs_rfc = SequentialFeatureSelector(estimator=rfc_model,\n",
    "                                    direction=\"forward\",\n",
    "                                    n_features_to_select=n_features_to_select,\n",
    "                                    cv=cv_strat,\n",
    "                                    scoring=\"accuracy\")\n",
    "    rfc_sel = make_pipeline(sfs_rfc, rfc_model)\n",
    "    rfc_sel.fit(X_train_smote, y_train_smote)\n",
    "    print(f\"n_features_to_select: {n_features_to_select}\")\n",
    "    print(f\"Features selected: {feature_names[sfs_rfc.get_support()]}\")\n",
    "    print(f\"Accuracy in TRAININING data set: {rfc_sel.score(X_train_smote, y_train_smote)}\")\n",
    "    print(f\"Accuracy in VALIDATION data set: {rfc_sel.score(df_transf_x_val, y_val)}\")\n",
    "    features_sel.append(feature_names[sfs_rfc.get_support()])\n",
    "    train_scores = np.append(train_scores, rfc_sel.score(X_train_smote, y_train_smote))\n",
    "    val_scores = np.append(val_scores, rfc_sel.score(df_transf_x_val, y_val))\n",
    "    "
   ]
  },
  {
   "cell_type": "code",
   "execution_count": 54,
   "id": "d2176952-9264-4988-a358-dc49e6d31993",
   "metadata": {},
   "outputs": [
    {
     "data": {
      "text/plain": [
       "Index(['age', 'avg_glucose_level', 'gender_Male', 'work_type_Govt_job'], dtype='object')"
      ]
     },
     "execution_count": 54,
     "metadata": {},
     "output_type": "execute_result"
    }
   ],
   "source": [
    "idx = np.argmax(train_scores)  # Select the first max score. As the order is ascending, we select the less amount of features\n",
    "feats_sfs_rfc = features_sel[idx]\n",
    "feats_sfs_rfc"
   ]
  },
  {
   "cell_type": "markdown",
   "id": "96ec2971-007f-464e-a876-41d28755e464",
   "metadata": {},
   "source": [
    "Using a forward step strategy for both **LogistcRegression** and **RandomForest**, the results differ only on *work_type_Govt_job*. Also remember that we have used a parameter *max_depth=5* in *RandomForest* to avoid overfitting, by changing this parameter the variables selected will differ.\n"
   ]
  },
  {
   "cell_type": "markdown",
   "id": "631b3676-b34a-4842-956d-0587a6092782",
   "metadata": {},
   "source": [
    "## 3.5.3 Choose between several feature selection strategies\n",
    "\n",
    "Here under we are going to compare three feature selection strategies on several models:\n",
    "\n",
    "1) Forward step (SFS) using a linear regression model (*df_x_train_sel_sfs*)\n",
    "2) Variable importance with RandomForest with a 1-SE criteria (*df_x_train_sel_rf_importance*)\n",
    "3) A manual selection (*df_x_train_sel_manual*). This manual selection was done according to the linear correlation and the analytical study.\n",
    "\n"
   ]
  },
  {
   "cell_type": "markdown",
   "id": "196cae38-c6b0-448a-81f3-3baacde305ff",
   "metadata": {},
   "source": [
    "**NB:** Using only one validating set with a training set (pre-defined)\n",
    "[source](https://stackoverflow.com/questions/31948879/using-explicit-predefined-validation-set-for-grid-search-with-sklearn)"
   ]
  },
  {
   "cell_type": "code",
   "execution_count": 292,
   "id": "a45f264a-f206-4463-abbd-ca0e234cb547",
   "metadata": {},
   "outputs": [
    {
     "name": "stdout",
     "output_type": "stream",
     "text": [
      "['age' 'avg_glucose_level' 'gender_Male' 'work_type_children']\n"
     ]
    }
   ],
   "source": [
    "# SFS on linear regression\n",
    "print(sfs_lr.get_feature_names_out())\n",
    "df_x_train_sel_sfs = X_train_smote[sfs_lr.get_feature_names_out()]\n",
    "df_x_val_sel_sfs = df_transf_x_val[sfs_lr.get_feature_names_out()]"
   ]
  },
  {
   "cell_type": "code",
   "execution_count": 293,
   "id": "dcc44857-129f-4e9f-8815-d3dd56aae66d",
   "metadata": {},
   "outputs": [
    {
     "name": "stdout",
     "output_type": "stream",
     "text": [
      "['age', 'avg_glucose_level', 'bmi', 'hypertension', 'gender_Male', 'Residence_type_Urban', 'work_type_children', 'work_type_Self-employed']\n"
     ]
    }
   ],
   "source": [
    "# Using variable importance on Random Forest with a 1-SE criteria\n",
    "print(rfc_importances_sel)\n",
    "df_x_train_sel_rf_importance = X_train_smote[rfc_importances_sel] \n",
    "df_x_val_sel_rf_importance = df_transf_x_val[rfc_importances_sel]\n",
    "df_x_test_sel_rf_importance = df_transf_x_test[rfc_importances_sel]"
   ]
  },
  {
   "cell_type": "code",
   "execution_count": 294,
   "id": "27f23c85-f2d6-4747-b0b5-cf1b3120a0a9",
   "metadata": {},
   "outputs": [
    {
     "data": {
      "text/plain": [
       "Index(['age', 'heart_disease', 'bmi', 'hypertension', 'avg_glucose_level',\n",
       "       'work_type_Self-employed'],\n",
       "      dtype='object')"
      ]
     },
     "execution_count": 294,
     "metadata": {},
     "output_type": "execute_result"
    }
   ],
   "source": [
    "# Manual selection\n",
    "feature_selection = [\"age\",\"heart_disease\",\"bmi\",\"hypertension\", \"avg_glucose_level\", \"work_type_Self-employed\"]\n",
    "df_x_train_sel_manual = X_train_smote[feature_selection] \n",
    "df_x_val_sel_manual = df_transf_x_val[feature_selection]\n",
    "df_x_test_sel_manual = df_transf_x_test[feature_selection]\n",
    "df_x_train_sel_manual.columns "
   ]
  },
  {
   "cell_type": "markdown",
   "id": "7dba90d6-a6b6-4b39-8948-0f385b7a8d03",
   "metadata": {},
   "source": [
    "### 3.5.3.1 Comparing the three feature selection strategies\n",
    "In this part we are going to use the **training set** with all three variable selection strategies.\n",
    "\n",
    "For the tuning, instead of doing K-fold cross-validation, the idea is to create a single Cross-Validation set made up of our **Validation set**. By this way, we are going to tune our parameters with respect to a controlled and isolated set, i.e. our **Validation set**.\n",
    "We can do this by creating this cross-validation set by giving -1 indexes to the lines corresponding to the **training set** and 0 index for the lines correspending to the **Validation set**. Then the split is done in the *PredefinedSplit* function."
   ]
  },
  {
   "cell_type": "code",
   "execution_count": 300,
   "id": "e1d77f0b-2ad3-4e5c-9f13-17aaace6e5df",
   "metadata": {},
   "outputs": [],
   "source": [
    "from sklearn.model_selection import PredefinedSplit, GridSearchCV\n",
    "\n",
    "def create_tuning_split(X_train, X_val, y_train, y_val):\n",
    "    \"\"\" A tuning split created with train and val sets\n",
    "    @return:\n",
    "        X_tuning: X set for tuning\n",
    "        y_tuning: y set for tuning\n",
    "        cv_tuning: is the split used with GridSearchCV, it contains -1 (train set) or 0 (val set) as indexes  \n",
    "    \"\"\"\n",
    "    X_tuning = np.concatenate((X_train, X_val), axis=0)\n",
    "    y_tuning = np.concatenate((y_train, y_val), axis=0)\n",
    "    split_index = [-1]*len(X_train) + [0]*len(X_val)\n",
    "    cv_tuning = PredefinedSplit(test_fold=split_index)\n",
    "    return X_tuning, y_tuning, cv_tuning"
   ]
  },
  {
   "cell_type": "code",
   "execution_count": 301,
   "id": "f9fb64ee-47ed-4b6c-b492-dc5fd3564413",
   "metadata": {},
   "outputs": [],
   "source": [
    "# Create the filtered train and validation sets according to variable selection \n",
    "X_tuning_sfs, y_tuning_sfs, cv_tuning_sfs = create_tuning_split(df_x_train_sel_sfs, df_x_val_sel_sfs, y_train_smote, y_val)\n",
    "X_tuning_rf_imp, y_tuning_rf_imp, cv_tuning_rf_imp = create_tuning_split(df_x_train_sel_rf_importance, df_x_val_sel_rf_importance, y_train_smote, y_val)\n",
    "X_tuning_manual, y_tuning_manual, cv_tuning_manual = create_tuning_split(df_x_train_sel_manual, df_x_val_sel_manual, y_train_smote, y_val)\n",
    "\n",
    "feature_sel_modes = [\"Forward strategy on LR model\",\n",
    "                    \"RandomForest Importance + 1SE\",\n",
    "                    \"Manual feature selection\"]\n",
    "\n",
    "xy_tuning_sets = [(X_tuning_sfs, y_tuning_sfs),  # Forward strategy\n",
    "                  (X_tuning_rf_imp, y_tuning_rf_imp),  # RandomForest Importance + 1SE\n",
    "                  (X_tuning_manual, y_tuning_manual)]  # Manual feature selection\n",
    "\n",
    "cv_tuning_splits = [cv_tuning_sfs,\n",
    "                   cv_tuning_rf_imp,\n",
    "                   cv_tuning_manual]"
   ]
  },
  {
   "cell_type": "code",
   "execution_count": 302,
   "id": "cca53dca-e5b8-4163-9583-12610ccf1182",
   "metadata": {},
   "outputs": [],
   "source": [
    "def gs_find_best_feature_strategy(feature_sel_modes, xy_tuning_sets, cv_tuning_splits, pipe, hyper_param):\n",
    "    \"\"\" A function to compare all the feature selection modes in xy_tuning_sets\"\"\"\n",
    "    params = []\n",
    "    scores = []\n",
    "\n",
    "    print(f\"Hyper Parameters: {hyper_param}\")\n",
    "    for i in range(0, len(feature_sel_modes)):\n",
    "        gs = GridSearchCV(estimator=pipe,\n",
    "                          param_grid=hyper_param,\n",
    "                          cv = cv_tuning_splits[i],\n",
    "                          scoring=\"accuracy\" \n",
    "                         )\n",
    "        \n",
    "        X_tuning = xy_tuning_sets[i][0]\n",
    "        y_tuning = xy_tuning_sets[i][1]\n",
    "        gs.fit(X_tuning, y_tuning)\n",
    "    \n",
    "        print(f\"\\n**** BEST TUNING with {feature_sel_mode[i]} as VARIABLE SELECTION ****\")\n",
    "        print(gs.best_params_)\n",
    "        params.append(gs.best_params_)\n",
    "        print(gs.best_score_)\n",
    "        scores.append(gs.best_score_)\n",
    "    \n",
    "    return params, scores"
   ]
  },
  {
   "cell_type": "code",
   "execution_count": 303,
   "id": "89dc6822-570d-4b62-a174-7ca95c229b5a",
   "metadata": {},
   "outputs": [],
   "source": [
    "# Generic classification model pipeline \n",
    "pipe = Pipeline(\n",
    "    [\n",
    "        (\"clf\", \"passthrough\") # Classifier model\n",
    "    ]\n",
    ")"
   ]
  },
  {
   "cell_type": "markdown",
   "id": "15eaf1a1-81be-4e28-8fd5-feb2e3854a01",
   "metadata": {},
   "source": [
    "# 4.Model selection, tuning and evaluation\n",
    "Once we have done the best feature selection, now, we are going to compare the following **models** for *classification*:\n",
    "1) Logistic Regression\n",
    "2) RandomForest\n",
    "3) SVC\n",
    "4) MLPclassifier\n",
    "\n",
    "At the same of selecting the model, we are going to select the best feature strategy:\n",
    "1) Select a model\n",
    "2) Train the model against the validation set\n",
    "3) Select the best scored strategy in validation set between the proposed feature selection strategies.\n",
    "\n",
    "For the **parameter tuning** we are going to use **GridSearchCV**. For the purpose of *tuning the models*, we are going to use a **pre-defined Split** that it is the union of:\n",
    "1) The SMOTE data as a training set. This set is used for training the models.\n",
    "2) The Validation Set that we had separated previously. We are going to tune the parameters and select the ones associated to the best score on this set.\n",
    "\n",
    "Finally, we are going to evaluate the results with respect to our testing data set."
   ]
  },
  {
   "cell_type": "markdown",
   "id": "8694dbd6-7605-4fc1-996b-8e1c8554eef7",
   "metadata": {},
   "source": [
    "## 4.1 Best feature selections\n",
    "\n",
    "We observe that **Random Forest Importance + 1SE** is the best feature selection for:\n",
    "1) Random Forest\n",
    "2) MLP Classifier\n",
    "\n",
    "We observe that **Manual feature selection** (*age, heart_disease, bmi, hypertension, avg_glucose_level, work_type_Self-employed*) is the best feature selection for:\n",
    "1) Logistic Regression\n",
    "2) SVC"
   ]
  },
  {
   "cell_type": "code",
   "execution_count": 307,
   "id": "93152e05-ef1b-4819-b5f9-a31ac24e4454",
   "metadata": {},
   "outputs": [
    {
     "name": "stdout",
     "output_type": "stream",
     "text": [
      "Hyper Parameters: [{'clf': [RandomForestClassifier(random_state=0)], 'clf__n_estimators': [5, 10, 30, 50, 100], 'clf__min_samples_leaf': [1, 2, 3, 4, 5, 10, 15], 'clf__max_depth': [3, 5, 7, 10, 12, 15, 20, 30, 40]}]\n",
      "\n",
      "**** BEST TUNING with Forward strategy with LR as VARIABLE SELECTION ****\n",
      "{'clf': RandomForestClassifier(random_state=0), 'clf__max_depth': 5, 'clf__min_samples_leaf': 2, 'clf__n_estimators': 50}\n",
      "0.7774762550881954\n",
      "\n",
      "**** BEST TUNING with RandomForest Importance + 1SE as VARIABLE SELECTION ****\n",
      "{'clf': RandomForestClassifier(random_state=0), 'clf__max_depth': 30, 'clf__min_samples_leaf': 2, 'clf__n_estimators': 50}\n",
      "0.8466757123473542\n",
      "\n",
      "**** BEST TUNING with Manual feature selection as VARIABLE SELECTION ****\n",
      "{'clf': RandomForestClassifier(random_state=0), 'clf__max_depth': 30, 'clf__min_samples_leaf': 1, 'clf__n_estimators': 10}\n",
      "0.8439620081411127\n"
     ]
    }
   ],
   "source": [
    "n_estimators = [5, 10, 30, 50, 100]\n",
    "min_samples_leaf = [1, 2, 3, 4, 5, 10, 15]\n",
    "max_depths = [3, 5, 7, 10, 12, 15, 20, 30, 40]\n",
    "\n",
    "hyper_param_rf = [\n",
    "        {   \"clf\": [RandomForestClassifier(random_state=0)], \n",
    "        \"clf__n_estimators\": n_estimators, \n",
    "        \"clf__min_samples_leaf\": min_samples_leaf,\n",
    "        \"clf__max_depth\": max_depths\n",
    "    }]\n",
    "\n",
    "params_rf, scores_rf = gs_find_best_feature_strategy(feature_sel_modes, xy_tuning_sets, cv_tuning_splits, pipe, hyper_param_rf)"
   ]
  },
  {
   "cell_type": "code",
   "execution_count": 308,
   "id": "b6f1ba07-78e6-4c4d-bb03-621c244a4fe7",
   "metadata": {},
   "outputs": [
    {
     "name": "stdout",
     "output_type": "stream",
     "text": [
      "Hyper Parameters: [{'clf': [MLPClassifier(random_state=0)], 'clf__tol': [0.01, 0.001, 0.0001], 'clf__max_iter': [5000, 7000, 10000], 'clf__solver': ['lbfgs', 'sgd', 'adam'], 'clf__learning_rate': ['constant', 'invscaling', 'adaptive']}]\n"
     ]
    },
    {
     "name": "stderr",
     "output_type": "stream",
     "text": [
      "C:\\Users\\MATIAS\\.conda\\envs\\py310_ml_strokes\\lib\\site-packages\\sklearn\\neural_network\\_multilayer_perceptron.py:546: ConvergenceWarning: lbfgs failed to converge (status=1):\n",
      "STOP: TOTAL NO. of ITERATIONS REACHED LIMIT.\n",
      "\n",
      "Increase the number of iterations (max_iter) or scale the data as shown in:\n",
      "    https://scikit-learn.org/stable/modules/preprocessing.html\n",
      "  self.n_iter_ = _check_optimize_result(\"lbfgs\", opt_res, self.max_iter)\n",
      "C:\\Users\\MATIAS\\.conda\\envs\\py310_ml_strokes\\lib\\site-packages\\sklearn\\neural_network\\_multilayer_perceptron.py:546: ConvergenceWarning: lbfgs failed to converge (status=1):\n",
      "STOP: TOTAL NO. of ITERATIONS REACHED LIMIT.\n",
      "\n",
      "Increase the number of iterations (max_iter) or scale the data as shown in:\n",
      "    https://scikit-learn.org/stable/modules/preprocessing.html\n",
      "  self.n_iter_ = _check_optimize_result(\"lbfgs\", opt_res, self.max_iter)\n",
      "C:\\Users\\MATIAS\\.conda\\envs\\py310_ml_strokes\\lib\\site-packages\\sklearn\\neural_network\\_multilayer_perceptron.py:546: ConvergenceWarning: lbfgs failed to converge (status=1):\n",
      "STOP: TOTAL NO. of ITERATIONS REACHED LIMIT.\n",
      "\n",
      "Increase the number of iterations (max_iter) or scale the data as shown in:\n",
      "    https://scikit-learn.org/stable/modules/preprocessing.html\n",
      "  self.n_iter_ = _check_optimize_result(\"lbfgs\", opt_res, self.max_iter)\n",
      "C:\\Users\\MATIAS\\.conda\\envs\\py310_ml_strokes\\lib\\site-packages\\sklearn\\neural_network\\_multilayer_perceptron.py:546: ConvergenceWarning: lbfgs failed to converge (status=1):\n",
      "STOP: TOTAL NO. of ITERATIONS REACHED LIMIT.\n",
      "\n",
      "Increase the number of iterations (max_iter) or scale the data as shown in:\n",
      "    https://scikit-learn.org/stable/modules/preprocessing.html\n",
      "  self.n_iter_ = _check_optimize_result(\"lbfgs\", opt_res, self.max_iter)\n",
      "C:\\Users\\MATIAS\\.conda\\envs\\py310_ml_strokes\\lib\\site-packages\\sklearn\\neural_network\\_multilayer_perceptron.py:546: ConvergenceWarning: lbfgs failed to converge (status=1):\n",
      "STOP: TOTAL NO. of ITERATIONS REACHED LIMIT.\n",
      "\n",
      "Increase the number of iterations (max_iter) or scale the data as shown in:\n",
      "    https://scikit-learn.org/stable/modules/preprocessing.html\n",
      "  self.n_iter_ = _check_optimize_result(\"lbfgs\", opt_res, self.max_iter)\n",
      "C:\\Users\\MATIAS\\.conda\\envs\\py310_ml_strokes\\lib\\site-packages\\sklearn\\neural_network\\_multilayer_perceptron.py:546: ConvergenceWarning: lbfgs failed to converge (status=1):\n",
      "STOP: TOTAL NO. of ITERATIONS REACHED LIMIT.\n",
      "\n",
      "Increase the number of iterations (max_iter) or scale the data as shown in:\n",
      "    https://scikit-learn.org/stable/modules/preprocessing.html\n",
      "  self.n_iter_ = _check_optimize_result(\"lbfgs\", opt_res, self.max_iter)\n"
     ]
    },
    {
     "name": "stdout",
     "output_type": "stream",
     "text": [
      "\n",
      "**** BEST TUNING with Forward strategy with LR as VARIABLE SELECTION ****\n",
      "{'clf': MLPClassifier(random_state=0), 'clf__learning_rate': 'invscaling', 'clf__max_iter': 5000, 'clf__solver': 'sgd', 'clf__tol': 0.01}\n",
      "0.7978290366350068\n"
     ]
    },
    {
     "name": "stderr",
     "output_type": "stream",
     "text": [
      "C:\\Users\\MATIAS\\.conda\\envs\\py310_ml_strokes\\lib\\site-packages\\sklearn\\neural_network\\_multilayer_perceptron.py:546: ConvergenceWarning: lbfgs failed to converge (status=1):\n",
      "STOP: TOTAL NO. of ITERATIONS REACHED LIMIT.\n",
      "\n",
      "Increase the number of iterations (max_iter) or scale the data as shown in:\n",
      "    https://scikit-learn.org/stable/modules/preprocessing.html\n",
      "  self.n_iter_ = _check_optimize_result(\"lbfgs\", opt_res, self.max_iter)\n",
      "C:\\Users\\MATIAS\\.conda\\envs\\py310_ml_strokes\\lib\\site-packages\\sklearn\\neural_network\\_multilayer_perceptron.py:546: ConvergenceWarning: lbfgs failed to converge (status=1):\n",
      "STOP: TOTAL NO. of ITERATIONS REACHED LIMIT.\n",
      "\n",
      "Increase the number of iterations (max_iter) or scale the data as shown in:\n",
      "    https://scikit-learn.org/stable/modules/preprocessing.html\n",
      "  self.n_iter_ = _check_optimize_result(\"lbfgs\", opt_res, self.max_iter)\n",
      "C:\\Users\\MATIAS\\.conda\\envs\\py310_ml_strokes\\lib\\site-packages\\sklearn\\neural_network\\_multilayer_perceptron.py:546: ConvergenceWarning: lbfgs failed to converge (status=1):\n",
      "STOP: TOTAL NO. of ITERATIONS REACHED LIMIT.\n",
      "\n",
      "Increase the number of iterations (max_iter) or scale the data as shown in:\n",
      "    https://scikit-learn.org/stable/modules/preprocessing.html\n",
      "  self.n_iter_ = _check_optimize_result(\"lbfgs\", opt_res, self.max_iter)\n",
      "C:\\Users\\MATIAS\\.conda\\envs\\py310_ml_strokes\\lib\\site-packages\\sklearn\\neural_network\\_multilayer_perceptron.py:546: ConvergenceWarning: lbfgs failed to converge (status=1):\n",
      "STOP: TOTAL NO. of ITERATIONS REACHED LIMIT.\n",
      "\n",
      "Increase the number of iterations (max_iter) or scale the data as shown in:\n",
      "    https://scikit-learn.org/stable/modules/preprocessing.html\n",
      "  self.n_iter_ = _check_optimize_result(\"lbfgs\", opt_res, self.max_iter)\n",
      "C:\\Users\\MATIAS\\.conda\\envs\\py310_ml_strokes\\lib\\site-packages\\sklearn\\neural_network\\_multilayer_perceptron.py:546: ConvergenceWarning: lbfgs failed to converge (status=1):\n",
      "STOP: TOTAL NO. of ITERATIONS REACHED LIMIT.\n",
      "\n",
      "Increase the number of iterations (max_iter) or scale the data as shown in:\n",
      "    https://scikit-learn.org/stable/modules/preprocessing.html\n",
      "  self.n_iter_ = _check_optimize_result(\"lbfgs\", opt_res, self.max_iter)\n",
      "C:\\Users\\MATIAS\\.conda\\envs\\py310_ml_strokes\\lib\\site-packages\\sklearn\\neural_network\\_multilayer_perceptron.py:546: ConvergenceWarning: lbfgs failed to converge (status=1):\n",
      "STOP: TOTAL NO. of ITERATIONS REACHED LIMIT.\n",
      "\n",
      "Increase the number of iterations (max_iter) or scale the data as shown in:\n",
      "    https://scikit-learn.org/stable/modules/preprocessing.html\n",
      "  self.n_iter_ = _check_optimize_result(\"lbfgs\", opt_res, self.max_iter)\n",
      "C:\\Users\\MATIAS\\.conda\\envs\\py310_ml_strokes\\lib\\site-packages\\sklearn\\neural_network\\_multilayer_perceptron.py:546: ConvergenceWarning: lbfgs failed to converge (status=1):\n",
      "STOP: TOTAL NO. of ITERATIONS REACHED LIMIT.\n",
      "\n",
      "Increase the number of iterations (max_iter) or scale the data as shown in:\n",
      "    https://scikit-learn.org/stable/modules/preprocessing.html\n",
      "  self.n_iter_ = _check_optimize_result(\"lbfgs\", opt_res, self.max_iter)\n",
      "C:\\Users\\MATIAS\\.conda\\envs\\py310_ml_strokes\\lib\\site-packages\\sklearn\\neural_network\\_multilayer_perceptron.py:546: ConvergenceWarning: lbfgs failed to converge (status=1):\n",
      "STOP: TOTAL NO. of ITERATIONS REACHED LIMIT.\n",
      "\n",
      "Increase the number of iterations (max_iter) or scale the data as shown in:\n",
      "    https://scikit-learn.org/stable/modules/preprocessing.html\n",
      "  self.n_iter_ = _check_optimize_result(\"lbfgs\", opt_res, self.max_iter)\n",
      "C:\\Users\\MATIAS\\.conda\\envs\\py310_ml_strokes\\lib\\site-packages\\sklearn\\neural_network\\_multilayer_perceptron.py:546: ConvergenceWarning: lbfgs failed to converge (status=1):\n",
      "STOP: TOTAL NO. of ITERATIONS REACHED LIMIT.\n",
      "\n",
      "Increase the number of iterations (max_iter) or scale the data as shown in:\n",
      "    https://scikit-learn.org/stable/modules/preprocessing.html\n",
      "  self.n_iter_ = _check_optimize_result(\"lbfgs\", opt_res, self.max_iter)\n",
      "C:\\Users\\MATIAS\\.conda\\envs\\py310_ml_strokes\\lib\\site-packages\\sklearn\\neural_network\\_multilayer_perceptron.py:546: ConvergenceWarning: lbfgs failed to converge (status=1):\n",
      "STOP: TOTAL NO. of ITERATIONS REACHED LIMIT.\n",
      "\n",
      "Increase the number of iterations (max_iter) or scale the data as shown in:\n",
      "    https://scikit-learn.org/stable/modules/preprocessing.html\n",
      "  self.n_iter_ = _check_optimize_result(\"lbfgs\", opt_res, self.max_iter)\n",
      "C:\\Users\\MATIAS\\.conda\\envs\\py310_ml_strokes\\lib\\site-packages\\sklearn\\neural_network\\_multilayer_perceptron.py:546: ConvergenceWarning: lbfgs failed to converge (status=1):\n",
      "STOP: TOTAL NO. of ITERATIONS REACHED LIMIT.\n",
      "\n",
      "Increase the number of iterations (max_iter) or scale the data as shown in:\n",
      "    https://scikit-learn.org/stable/modules/preprocessing.html\n",
      "  self.n_iter_ = _check_optimize_result(\"lbfgs\", opt_res, self.max_iter)\n",
      "C:\\Users\\MATIAS\\.conda\\envs\\py310_ml_strokes\\lib\\site-packages\\sklearn\\neural_network\\_multilayer_perceptron.py:546: ConvergenceWarning: lbfgs failed to converge (status=1):\n",
      "STOP: TOTAL NO. of ITERATIONS REACHED LIMIT.\n",
      "\n",
      "Increase the number of iterations (max_iter) or scale the data as shown in:\n",
      "    https://scikit-learn.org/stable/modules/preprocessing.html\n",
      "  self.n_iter_ = _check_optimize_result(\"lbfgs\", opt_res, self.max_iter)\n",
      "C:\\Users\\MATIAS\\.conda\\envs\\py310_ml_strokes\\lib\\site-packages\\sklearn\\neural_network\\_multilayer_perceptron.py:546: ConvergenceWarning: lbfgs failed to converge (status=1):\n",
      "STOP: TOTAL NO. of ITERATIONS REACHED LIMIT.\n",
      "\n",
      "Increase the number of iterations (max_iter) or scale the data as shown in:\n",
      "    https://scikit-learn.org/stable/modules/preprocessing.html\n",
      "  self.n_iter_ = _check_optimize_result(\"lbfgs\", opt_res, self.max_iter)\n",
      "C:\\Users\\MATIAS\\.conda\\envs\\py310_ml_strokes\\lib\\site-packages\\sklearn\\neural_network\\_multilayer_perceptron.py:546: ConvergenceWarning: lbfgs failed to converge (status=1):\n",
      "STOP: TOTAL NO. of ITERATIONS REACHED LIMIT.\n",
      "\n",
      "Increase the number of iterations (max_iter) or scale the data as shown in:\n",
      "    https://scikit-learn.org/stable/modules/preprocessing.html\n",
      "  self.n_iter_ = _check_optimize_result(\"lbfgs\", opt_res, self.max_iter)\n",
      "C:\\Users\\MATIAS\\.conda\\envs\\py310_ml_strokes\\lib\\site-packages\\sklearn\\neural_network\\_multilayer_perceptron.py:546: ConvergenceWarning: lbfgs failed to converge (status=1):\n",
      "STOP: TOTAL NO. of ITERATIONS REACHED LIMIT.\n",
      "\n",
      "Increase the number of iterations (max_iter) or scale the data as shown in:\n",
      "    https://scikit-learn.org/stable/modules/preprocessing.html\n",
      "  self.n_iter_ = _check_optimize_result(\"lbfgs\", opt_res, self.max_iter)\n",
      "C:\\Users\\MATIAS\\.conda\\envs\\py310_ml_strokes\\lib\\site-packages\\sklearn\\neural_network\\_multilayer_perceptron.py:546: ConvergenceWarning: lbfgs failed to converge (status=1):\n",
      "STOP: TOTAL NO. of ITERATIONS REACHED LIMIT.\n",
      "\n",
      "Increase the number of iterations (max_iter) or scale the data as shown in:\n",
      "    https://scikit-learn.org/stable/modules/preprocessing.html\n",
      "  self.n_iter_ = _check_optimize_result(\"lbfgs\", opt_res, self.max_iter)\n",
      "C:\\Users\\MATIAS\\.conda\\envs\\py310_ml_strokes\\lib\\site-packages\\sklearn\\neural_network\\_multilayer_perceptron.py:546: ConvergenceWarning: lbfgs failed to converge (status=1):\n",
      "STOP: TOTAL NO. of ITERATIONS REACHED LIMIT.\n",
      "\n",
      "Increase the number of iterations (max_iter) or scale the data as shown in:\n",
      "    https://scikit-learn.org/stable/modules/preprocessing.html\n",
      "  self.n_iter_ = _check_optimize_result(\"lbfgs\", opt_res, self.max_iter)\n",
      "C:\\Users\\MATIAS\\.conda\\envs\\py310_ml_strokes\\lib\\site-packages\\sklearn\\neural_network\\_multilayer_perceptron.py:546: ConvergenceWarning: lbfgs failed to converge (status=1):\n",
      "STOP: TOTAL NO. of ITERATIONS REACHED LIMIT.\n",
      "\n",
      "Increase the number of iterations (max_iter) or scale the data as shown in:\n",
      "    https://scikit-learn.org/stable/modules/preprocessing.html\n",
      "  self.n_iter_ = _check_optimize_result(\"lbfgs\", opt_res, self.max_iter)\n",
      "C:\\Users\\MATIAS\\.conda\\envs\\py310_ml_strokes\\lib\\site-packages\\sklearn\\neural_network\\_multilayer_perceptron.py:546: ConvergenceWarning: lbfgs failed to converge (status=1):\n",
      "STOP: TOTAL NO. of ITERATIONS REACHED LIMIT.\n",
      "\n",
      "Increase the number of iterations (max_iter) or scale the data as shown in:\n",
      "    https://scikit-learn.org/stable/modules/preprocessing.html\n",
      "  self.n_iter_ = _check_optimize_result(\"lbfgs\", opt_res, self.max_iter)\n"
     ]
    },
    {
     "name": "stdout",
     "output_type": "stream",
     "text": [
      "\n",
      "**** BEST TUNING with RandomForest Importance + 1SE as VARIABLE SELECTION ****\n",
      "{'clf': MLPClassifier(random_state=0), 'clf__learning_rate': 'constant', 'clf__max_iter': 10000, 'clf__solver': 'lbfgs', 'clf__tol': 0.001}\n",
      "0.8507462686567164\n"
     ]
    },
    {
     "name": "stderr",
     "output_type": "stream",
     "text": [
      "C:\\Users\\MATIAS\\.conda\\envs\\py310_ml_strokes\\lib\\site-packages\\sklearn\\neural_network\\_multilayer_perceptron.py:546: ConvergenceWarning: lbfgs failed to converge (status=1):\n",
      "STOP: TOTAL NO. of ITERATIONS REACHED LIMIT.\n",
      "\n",
      "Increase the number of iterations (max_iter) or scale the data as shown in:\n",
      "    https://scikit-learn.org/stable/modules/preprocessing.html\n",
      "  self.n_iter_ = _check_optimize_result(\"lbfgs\", opt_res, self.max_iter)\n",
      "C:\\Users\\MATIAS\\.conda\\envs\\py310_ml_strokes\\lib\\site-packages\\sklearn\\neural_network\\_multilayer_perceptron.py:546: ConvergenceWarning: lbfgs failed to converge (status=1):\n",
      "STOP: TOTAL NO. of ITERATIONS REACHED LIMIT.\n",
      "\n",
      "Increase the number of iterations (max_iter) or scale the data as shown in:\n",
      "    https://scikit-learn.org/stable/modules/preprocessing.html\n",
      "  self.n_iter_ = _check_optimize_result(\"lbfgs\", opt_res, self.max_iter)\n",
      "C:\\Users\\MATIAS\\.conda\\envs\\py310_ml_strokes\\lib\\site-packages\\sklearn\\neural_network\\_multilayer_perceptron.py:546: ConvergenceWarning: lbfgs failed to converge (status=1):\n",
      "STOP: TOTAL NO. of ITERATIONS REACHED LIMIT.\n",
      "\n",
      "Increase the number of iterations (max_iter) or scale the data as shown in:\n",
      "    https://scikit-learn.org/stable/modules/preprocessing.html\n",
      "  self.n_iter_ = _check_optimize_result(\"lbfgs\", opt_res, self.max_iter)\n",
      "C:\\Users\\MATIAS\\.conda\\envs\\py310_ml_strokes\\lib\\site-packages\\sklearn\\neural_network\\_multilayer_perceptron.py:546: ConvergenceWarning: lbfgs failed to converge (status=1):\n",
      "STOP: TOTAL NO. of ITERATIONS REACHED LIMIT.\n",
      "\n",
      "Increase the number of iterations (max_iter) or scale the data as shown in:\n",
      "    https://scikit-learn.org/stable/modules/preprocessing.html\n",
      "  self.n_iter_ = _check_optimize_result(\"lbfgs\", opt_res, self.max_iter)\n",
      "C:\\Users\\MATIAS\\.conda\\envs\\py310_ml_strokes\\lib\\site-packages\\sklearn\\neural_network\\_multilayer_perceptron.py:546: ConvergenceWarning: lbfgs failed to converge (status=1):\n",
      "STOP: TOTAL NO. of ITERATIONS REACHED LIMIT.\n",
      "\n",
      "Increase the number of iterations (max_iter) or scale the data as shown in:\n",
      "    https://scikit-learn.org/stable/modules/preprocessing.html\n",
      "  self.n_iter_ = _check_optimize_result(\"lbfgs\", opt_res, self.max_iter)\n",
      "C:\\Users\\MATIAS\\.conda\\envs\\py310_ml_strokes\\lib\\site-packages\\sklearn\\neural_network\\_multilayer_perceptron.py:546: ConvergenceWarning: lbfgs failed to converge (status=1):\n",
      "STOP: TOTAL NO. of ITERATIONS REACHED LIMIT.\n",
      "\n",
      "Increase the number of iterations (max_iter) or scale the data as shown in:\n",
      "    https://scikit-learn.org/stable/modules/preprocessing.html\n",
      "  self.n_iter_ = _check_optimize_result(\"lbfgs\", opt_res, self.max_iter)\n"
     ]
    },
    {
     "name": "stdout",
     "output_type": "stream",
     "text": [
      "\n",
      "**** BEST TUNING with Manual feature selection as VARIABLE SELECTION ****\n",
      "{'clf': MLPClassifier(random_state=0), 'clf__learning_rate': 'constant', 'clf__max_iter': 10000, 'clf__solver': 'lbfgs', 'clf__tol': 0.0001}\n",
      "0.8371777476255088\n"
     ]
    }
   ],
   "source": [
    "hyper_param_mlp = [\n",
    "    {   \"clf\": [MLPClassifier(random_state=0)],\n",
    "        \"clf__tol\": [1e-2, 1e-3, 1e-4],\n",
    "        \"clf__max_iter\": [5000, 7000, 10000],\n",
    "        \"clf__solver\": [\"lbfgs\", \"sgd\", \"adam\"],\n",
    "        \"clf__learning_rate\": [\"constant\", \"invscaling\", \"adaptive\"],\n",
    "    }\n",
    "] \n",
    "\n",
    "params_mlp, scores_mlp = gs_find_best_feature_strategy(feature_sel_modes, xy_tuning_sets, cv_tuning_splits, pipe, hyper_param_mlp)"
   ]
  },
  {
   "cell_type": "markdown",
   "id": "96b15acb-72ef-4cd5-ae41-4378c943acab",
   "metadata": {},
   "source": [
    "Hyper Parameters: [{'clf': [MLPClassifier(random_state=0)], 'clf__tol': [0.01, 0.001, 0.0001], 'clf__max_iter': [5000, 7000, 10000], 'clf__solver': ['lbfgs', 'sgd', 'adam'], 'clf__learning_rate': ['constant', 'invscaling', 'adaptive']}]\n",
    "\n",
    "**** BEST TUNING with Forward strategy with LR as VARIABLE SELECTION ****\n",
    "{'clf': MLPClassifier(random_state=0), 'clf__learning_rate': 'invscaling', 'clf__max_iter': 5000, 'clf__solver': 'sgd', 'clf__tol': 0.01}\n",
    "0.7978290366350068\n",
    "\n",
    "**** BEST TUNING with RandomForest Importance + 1SE as VARIABLE SELECTION ****\n",
    "{'clf': MLPClassifier(random_state=0), 'clf__learning_rate': 'constant', 'clf__max_iter': 10000, 'clf__solver': 'lbfgs', 'clf__tol': 0.001}\n",
    "0.8507462686567164\n",
    "\n",
    "**** BEST TUNING with Manual feature selection as VARIABLE SELECTION ****\n",
    "{'clf': MLPClassifier(random_state=0), 'clf__learning_rate': 'constant', 'clf__max_iter': 10000, 'clf__solver': 'lbfgs', 'clf__tol': 0.0001}\n",
    "0.8371777476255088"
   ]
  },
  {
   "cell_type": "code",
   "execution_count": 309,
   "id": "1239ed6e-4d2f-46c3-bdce-235e8982a7a4",
   "metadata": {},
   "outputs": [
    {
     "name": "stdout",
     "output_type": "stream",
     "text": [
      "Hyper Parameters: [{'clf': [LogisticRegression()], 'clf__solver': ['lbfgs', 'saga'], 'clf__C': [0.01, 0.1, 0.2, 0.5, 1], 'clf__multi_class': ['ovr', 'multinomial']}]\n",
      "\n",
      "**** BEST TUNING with Forward strategy with LR as VARIABLE SELECTION ****\n",
      "{'clf': LogisticRegression(), 'clf__C': 0.1, 'clf__multi_class': 'ovr', 'clf__solver': 'lbfgs'}\n",
      "0.7503392130257802\n",
      "\n",
      "**** BEST TUNING with RandomForest Importance + 1SE as VARIABLE SELECTION ****\n",
      "{'clf': LogisticRegression(), 'clf__C': 0.1, 'clf__multi_class': 'ovr', 'clf__solver': 'lbfgs'}\n",
      "0.7503392130257802\n",
      "\n",
      "**** BEST TUNING with Manual feature selection as VARIABLE SELECTION ****\n",
      "{'clf': LogisticRegression(), 'clf__C': 0.1, 'clf__multi_class': 'ovr', 'clf__solver': 'lbfgs'}\n",
      "0.751696065128901\n"
     ]
    }
   ],
   "source": [
    "c_values_lr = [0.01, 0.1, 0.2, 0.5, 1]\n",
    "\n",
    "hyper_param_lr = [\n",
    "    {   \"clf\": [LogisticRegression()],\n",
    "        \"clf__solver\": [\"lbfgs\" , \"saga\"], #liblinear\", \"newton-cg\", \"newton-cholesky\",\"saga\"\n",
    "        \"clf__C\": c_values_lr,\n",
    "        \"clf__multi_class\":  [\"ovr\", \"multinomial\"]\n",
    "    }]\n",
    "\n",
    "params_lr, scores_lr = gs_find_best_feature_strategy(feature_sel_modes, xy_tuning_sets, cv_tuning_splits, pipe, hyper_param_lr)"
   ]
  },
  {
   "cell_type": "code",
   "execution_count": 310,
   "id": "05d00784-938d-440e-8003-74d7f7d6fd0a",
   "metadata": {},
   "outputs": [
    {
     "name": "stdout",
     "output_type": "stream",
     "text": [
      "Hyper Parameters: [{'clf': [SVC()], 'clf__C': [0.01, 0.1, 0.5, 1, 5, 10, 20], 'clf__kernel': ['linear', 'rbf', 'poly', 'sigmoid'], 'clf__decision_function_shape': ['ovo', 'ovr']}]\n",
      "\n",
      "**** BEST TUNING with Forward strategy with LR as VARIABLE SELECTION ****\n",
      "{'clf': SVC(), 'clf__C': 0.01, 'clf__decision_function_shape': 'ovo', 'clf__kernel': 'poly'}\n",
      "0.8127544097693351\n",
      "\n",
      "**** BEST TUNING with RandomForest Importance + 1SE as VARIABLE SELECTION ****\n",
      "{'clf': SVC(), 'clf__C': 1, 'clf__decision_function_shape': 'ovo', 'clf__kernel': 'poly'}\n",
      "0.841248303934871\n",
      "\n",
      "**** BEST TUNING with Manual feature selection as VARIABLE SELECTION ****\n",
      "{'clf': SVC(), 'clf__C': 5, 'clf__decision_function_shape': 'ovo', 'clf__kernel': 'poly'}\n",
      "0.8521031207598372\n"
     ]
    }
   ],
   "source": [
    "c_values_svc = [0.01, 0.1, 0.5, 1, 5, 10, 20]\n",
    "\n",
    "hyper_param_svc = [\n",
    "    {   \"clf\": [SVC()],\n",
    "        \"clf__C\": c_values_svc,\n",
    "        \"clf__kernel\": [\"linear\", \"rbf\", \"poly\", \"sigmoid\"],\n",
    "        \"clf__decision_function_shape\": [\"ovo\",\"ovr\"]\n",
    "    }\n",
    "] \n",
    "\n",
    "params_svc, scores_svc = gs_find_best_feature_strategy(feature_sel_modes, xy_tuning_sets, cv_tuning_splits, pipe, hyper_param_svc)"
   ]
  },
  {
   "cell_type": "markdown",
   "id": "31cd28b1-0e71-4cca-9952-b4bb202e2096",
   "metadata": {},
   "source": [
    "## 4.2 Comparing models vs Test Set\n",
    "\n",
    "Now, we are going to compare the 4 models with the optimized hyperparameters against the test set\n",
    "\n",
    "We have observed that the best model is:\n",
    "\n",
    "**Random Forest** with a score of **85.0 % accuracy**\n",
    "\n",
    "Followed by **MLP** and **SVC** with **84,9 % accuracy**"
   ]
  },
  {
   "cell_type": "code",
   "execution_count": 327,
   "id": "254d7b75-ad32-4d8f-9f00-b493f42d9650",
   "metadata": {},
   "outputs": [
    {
     "name": "stdout",
     "output_type": "stream",
     "text": [
      "RF VALIDATION score: 0.8439620081411127\n",
      "RF TEST score: 0.8507462686567164\n"
     ]
    }
   ],
   "source": [
    "# Random Forest\n",
    "rfc = RandomForestClassifier( n_estimators= 10, max_depth = 30, min_samples_leaf = 1, random_state=0)\n",
    "rfc.fit(df_x_train_sel_rf_importance, y_train_smote)\n",
    "print(f\"RF VALIDATION score: {rfc.score(df_x_val_sel_rf_importance, y_val)}\")\n",
    "print(f\"RF TEST score: {rfc.score(df_x_test_sel_rf_importance, y_test)}\")"
   ]
  },
  {
   "cell_type": "code",
   "execution_count": 331,
   "id": "e3ec9162-a273-4e18-a0ad-0093c63bb921",
   "metadata": {},
   "outputs": [
    {
     "name": "stdout",
     "output_type": "stream",
     "text": [
      "MLP VALIDATION score: 0.8507462686567164\n",
      "MLP TEST score: 0.8493894165535957\n"
     ]
    },
    {
     "name": "stderr",
     "output_type": "stream",
     "text": [
      "C:\\Users\\MATIAS\\.conda\\envs\\py310_ml_strokes\\lib\\site-packages\\sklearn\\neural_network\\_multilayer_perceptron.py:546: ConvergenceWarning: lbfgs failed to converge (status=1):\n",
      "STOP: TOTAL NO. of ITERATIONS REACHED LIMIT.\n",
      "\n",
      "Increase the number of iterations (max_iter) or scale the data as shown in:\n",
      "    https://scikit-learn.org/stable/modules/preprocessing.html\n",
      "  self.n_iter_ = _check_optimize_result(\"lbfgs\", opt_res, self.max_iter)\n"
     ]
    }
   ],
   "source": [
    "# MLP Classifier\n",
    "mlp = MLPClassifier(learning_rate= 'constant', max_iter = 10000, solver = 'lbfgs', tol = 0.0001, random_state=0)\n",
    "mlp.fit(df_x_train_sel_rf_importance, y_train_smote)\n",
    "print(f\"MLP VALIDATION score: {mlp.score(df_x_val_sel_rf_importance, y_val)}\")\n",
    "print(f\"MLP TEST score: {mlp.score(df_x_test_sel_rf_importance, y_test)}\")"
   ]
  },
  {
   "cell_type": "code",
   "execution_count": 332,
   "id": "a98de412-f9c2-4e3a-b963-a2cfd34a302f",
   "metadata": {},
   "outputs": [
    {
     "name": "stdout",
     "output_type": "stream",
     "text": [
      "LR VALIDATION score: 0.7503392130257802\n",
      "LR TEST score: 0.7299864314789688\n"
     ]
    }
   ],
   "source": [
    "# Logistic Regression\n",
    "lr = LogisticRegression(C=0.2, multi_class = \"multinomial\", solver = \"lbfgs\")\n",
    "lr.fit(df_x_train_sel_manual, y_train_smote)\n",
    "print(f\"LR VALIDATION score: {lr.score(df_x_val_sel_manual, y_val)}\")\n",
    "print(f\"LR TEST score: {lr.score(df_x_test_sel_manual, y_test)}\")"
   ]
  },
  {
   "cell_type": "code",
   "execution_count": 333,
   "id": "e60c4dce-eae0-4c19-900d-c10f6516422b",
   "metadata": {},
   "outputs": [
    {
     "name": "stdout",
     "output_type": "stream",
     "text": [
      "SVC VALIDATION score: 0.8493894165535957\n",
      "SVC TEST score: 0.8493894165535957\n"
     ]
    }
   ],
   "source": [
    "# SVC\n",
    "svc = SVC(C=1, decision_function_shape = \"ovo\", kernel = \"poly\")\n",
    "svc.fit(df_x_train_sel_manual, y_train_smote)\n",
    "print(f\"SVC VALIDATION score: {svc.score(df_x_val_sel_manual, y_val)}\")\n",
    "print(f\"SVC TEST score: {svc.score(df_x_test_sel_manual, y_test)}\")"
   ]
  },
  {
   "cell_type": "markdown",
   "id": "298a541c-f09c-4862-91d3-ea46d2f70190",
   "metadata": {},
   "source": [
    "## 4.2 Create a model selection pipeline\n",
    "\n",
    "Therefore, we choose the **Random Forest** model as it has the best performance.\n",
    "\n",
    "In this part, we are going to concentrate the model selection in one pipeline and train the selected model.\n",
    "\n",
    "Remember that we have chosen the feature selection **rf_importance + 1SE**. In order to include it in a pipeline we are going to create a Manual Feature Selector and use the selected variables.\n",
    "\n",
    "**NB:** Remember that the variables selected are:\n",
    "- Age\n",
    "- avg_glucose_level\n",
    "- bmi\n",
    "- hypertension\n",
    "- Residence_type_Urban\n",
    "- work_type_children\n",
    "- gender_Male\n",
    "- work_type_Self-employed"
   ]
  },
  {
   "cell_type": "code",
   "execution_count": 141,
   "id": "096bd67b-71cc-471d-9780-97da0a2c36a3",
   "metadata": {},
   "outputs": [
    {
     "data": {
      "text/plain": [
       "['age',\n",
       " 'avg_glucose_level',\n",
       " 'bmi',\n",
       " 'hypertension',\n",
       " 'Residence_type_Urban',\n",
       " 'work_type_children',\n",
       " 'gender_Male',\n",
       " 'work_type_Self-employed']"
      ]
     },
     "execution_count": 141,
     "metadata": {},
     "output_type": "execute_result"
    }
   ],
   "source": [
    "rfc_importances_sel # The selected variables with RF importance + 1SE"
   ]
  },
  {
   "cell_type": "markdown",
   "id": "74c540ca-90f3-4e05-9193-6463350b4ac8",
   "metadata": {},
   "source": [
    "### 4.2.1 Feature selector\n",
    "We take this feature selection as the input of our pipeline. \n",
    "\n",
    "In order to be included in a pipeline, we need to **create a class** that has the methods **fit** and **transform**.\n",
    "\n",
    "This class is the one below.\n",
    "Note that inherits from *BaseEstimator* and *TransformerMixin* objects. [source](https://towardsdatascience.com/custom-transformers-and-ml-data-pipelines-with-python-20ea2a7adb65)\n",
    "\n",
    "Inheriting from *TransformerMixin* ensures that all we need to do is write our **fit** and **transform** methods and we get **fit_transform** from the inheritance.\n",
    "\n",
    "Inheriting from *BaseEstimator* ensures we get **get_params** and **set_params** from the inheritance"
   ]
  },
  {
   "cell_type": "code",
   "execution_count": 158,
   "id": "12bf5a36-8785-46c6-81c9-8775e0f46033",
   "metadata": {},
   "outputs": [],
   "source": [
    "from sklearn.base import BaseEstimator, TransformerMixin\n",
    "\n",
    "class FeatureSelector( BaseEstimator, TransformerMixin ):\n",
    "\n",
    "    #Class Constructor \n",
    "    def __init__( self, feature_names ):\n",
    "        self.feature_names = feature_names \n",
    "\n",
    "    #Return self nothing else to do here    \n",
    "    def fit( self, X, y = None ):\n",
    "        return self \n",
    "\n",
    "    #Method that describes what we need this transformer to do\n",
    "    def transform( self, X, y = None ):\n",
    "        return X[self.feature_names]\n",
    "\n",
    "    def get_feature_names_out( self, X, y = None ):\n",
    "        return self.feature_names"
   ]
  },
  {
   "cell_type": "code",
   "execution_count": 657,
   "id": "74ee5671-9779-471e-89e6-8c943fa58432",
   "metadata": {},
   "outputs": [
    {
     "data": {
      "text/plain": [
       "['age',\n",
       " 'avg_glucose_level',\n",
       " 'bmi',\n",
       " 'gender_Male',\n",
       " 'work_type_Self-employed',\n",
       " 'work_type_children',\n",
       " 'Residence_type_Urban',\n",
       " 'hypertension']"
      ]
     },
     "execution_count": 657,
     "metadata": {},
     "output_type": "execute_result"
    }
   ],
   "source": [
    "manual_selector = FeatureSelector(feature_names=rfc_importances_sel)  # init the feature selector with the feature names\n",
    "\n",
    "feature_selection = Pipeline([(\"feature_sel\", manual_selector)])\n",
    "feature_selection.fit(X_train_smote, y_train_smote)    \n",
    "feature_selection.get_feature_names_out()"
   ]
  },
  {
   "cell_type": "code",
   "execution_count": 339,
   "id": "6e05c680-6a73-4355-aec7-215556daf54e",
   "metadata": {},
   "outputs": [
    {
     "name": "stdout",
     "output_type": "stream",
     "text": [
      "TEST SCORE: 0.8507462686567164\n",
      "VALIDATION SCORE: 0.8439620081411127\n"
     ]
    }
   ],
   "source": [
    "manual_feature_selector = FeatureSelector(feature_names=rfc_importances_sel)  # init the feature selector with the feature names\n",
    "rfc = RandomForestClassifier( n_estimators= 10, max_depth = 30, min_samples_leaf = 1, random_state=0)\n",
    "\n",
    "\n",
    "fs_and_model = Pipeline([(\"feature_sel\", manual_feature_selector),\n",
    "                             (\"rfc_model\", rfc)])\n",
    "\n",
    "fs_and_model.fit(X_train_smote, y_train_smote)    \n",
    "# fs_and_model.score(df_x_test_sel_rf_importance, y_test)\n",
    "print(f\"TEST SCORE: {fs_and_model.score(df_transf_x_test, y_test)}\")\n",
    "print(f\"VALIDATION SCORE: {fs_and_model.score(df_transf_x_val, y_val)}\")\n"
   ]
  },
  {
   "cell_type": "markdown",
   "id": "5e80a9c3-3dc2-47e8-ae0f-566346844ed2",
   "metadata": {},
   "source": [
    "## 5. Create the process Pipeline\n",
    "\n",
    "We are going to create a pipeline for automating the whole process:\n",
    "1) Data Transformation: *One Hot Encoding* of non-numerical variables and *Standardisation* of the numerical variables\n",
    "2) Use SMOTENC on the training set.\n",
    "3) Variable Selection: We have chosen the *Feature importance + 1SE*\n",
    "4) Model tuning and model selection: we are going to use *GridSearch* for the model selection and tuning. **NB:** In the pipeline we are not going to validate the training set against the validation set as we did before, but through K-fold cross-validation **on the training set only**. After that, we are going to use the validation and test sets.\n",
    "\n",
    "Remember that we have chosen a **Random Forest** with the best tuning parameters for *Feature importance + 1SE* variable selection\n",
    "\n",
    "The idea is to concatenate the pipelines that were created in the chapters  **§2.6** and **§4.2**"
   ]
  },
  {
   "cell_type": "markdown",
   "id": "01160788-8c24-4ae6-8956-cd34574c596d",
   "metadata": {},
   "source": [
    "### 5.0 Import libraries and generate functions and classes\n",
    "Remember that every process in the pipeline must be a class with the *fit* and *transform* methods. Moreover, we are going to inherit from the *BaseSearchCV* class in order to use the pipeline in side **GridSearch**.\n",
    "\n",
    "We are going to create one hand-made class to fit it into the pipeline containing the *fit* and *transform* methods.\n",
    "\n",
    "We are going to name it *SelectorVarImpRfC*, to do the Feature Selection *Feature importance + 1SE*"
   ]
  },
  {
   "cell_type": "code",
   "execution_count": 892,
   "id": "20b993a1-765c-4e2a-b734-9c63a349fbb1",
   "metadata": {
    "scrolled": true
   },
   "outputs": [],
   "source": [
    "from sklearn.model_selection import train_test_split\n",
    "\n",
    "from sklearn.preprocessing import OneHotEncoder, StandardScaler\n",
    "from sklearn.preprocessing import FunctionTransformer\n",
    "from sklearn.pipeline import Pipeline\n",
    "from sklearn.compose import ColumnTransformer\n",
    "from sklearn.compose import make_column_selector\n",
    "from sklearn.base import BaseEstimator, TransformerMixin\n",
    "from sklearn.model_selection._search import BaseSearchCV\n",
    "\n",
    "from imblearn.over_sampling import SMOTENC\n",
    "from imblearn.pipeline import Pipeline as ImbPipeline  # This pipeline is compatible with using SMOTE (the standard sklearn Pipeline is not compatible!)\n",
    "\n",
    "from sklearn.ensemble import RandomForestClassifier\n",
    "from sklearn.linear_model import LogisticRegression\n",
    "from sklearn.svm import SVC\n",
    "from sklearn.neural_network import MLPClassifier\n",
    "from sklearn.model_selection import StratifiedKFold"
   ]
  },
  {
   "cell_type": "code",
   "execution_count": 852,
   "id": "7eb833dd-8015-4094-b474-0908a0aa2667",
   "metadata": {},
   "outputs": [],
   "source": [
    "# These functions are used in the preProcessor\n",
    "# a function for getting the columns by dtype\n",
    "def get_categorical_columns(df):\n",
    "    \"\"\" categorical columns \"\"\"\n",
    "    categorical_columns_selector = make_column_selector(dtype_include= ['object'])\n",
    "    categorical_columns = categorical_columns_selector(df)\n",
    "    return categorical_columns\n",
    "\n",
    "\n",
    "def get_numerical_columns(df):\n",
    "    \"\"\" numerical columns. In our data set they are only of type float\"\"\"\n",
    "    numerical_columns_selector = make_column_selector(dtype_exclude=['object','bool'])  # include only float (continous) variables\n",
    "    numerical_columns = numerical_columns_selector(df)\n",
    "    return numerical_columns\n",
    "\n",
    "\n",
    "def get_binary_columns(df):\n",
    "    \"\"\" columns that are already one hot encoded in the data set\"\"\"\n",
    "    one_hot_columns_selector = make_column_selector(dtype_include= ['bool'])\n",
    "    one_hot_columns = one_hot_columns_selector(df)\n",
    "    return one_hot_columns"
   ]
  },
  {
   "cell_type": "code",
   "execution_count": 853,
   "id": "f89443a2-4156-477a-a40c-bcb6983cfb37",
   "metadata": {},
   "outputs": [],
   "source": [
    "class SelectorVarImpRfC( BaseSearchCV ):\n",
    "    \"\"\" This class selects the variables by using a RandomForestClassifier and a 1SE criteria. \n",
    "        It can be used in a pipeline\n",
    "    \"\"\"\n",
    "\n",
    "    #Class Constructor \n",
    "    def __init__( self ):\n",
    "        self.sel_features = None\n",
    "    \n",
    "    #Method that describes what we need this fitter to do\n",
    "    def fit( self, X, y = None ):\n",
    "        # Create a RF model for doing the variable selection\n",
    "        rfc = RandomForestClassifier(random_state=0) \n",
    "        rfc.fit(X, y)\n",
    "        importances = rfc.feature_importances_\n",
    "        rfc_std = np.std([tree.feature_importances_ for tree in rfc.estimators_], axis=0)  # Standard deviation of each feature on all the calculated trees\n",
    "        threshold = importances.min() + rfc_std.mean()\n",
    "        imp_sel = importances > threshold\n",
    "        self.sel_features = imp_sel # a boolean array with selected columns\n",
    "        return self\n",
    "\n",
    "    #Method that describes what we need this transformer to do\n",
    "    # In this case, we select the columns from the variable importance threshold (see fit method)\n",
    "    def transform( self, X, y = None ):\n",
    "        df_X = pd.DataFrame(X)\n",
    "        return df_X.loc[:, self.sel_features]  # The variable selection by columns\n",
    "\n",
    "    def get_feature_names_out( self, X, y = None ):\n",
    "        return self.sel_features"
   ]
  },
  {
   "cell_type": "markdown",
   "id": "8ff54515-3a68-47dd-8bdc-6ba32618d924",
   "metadata": {},
   "source": [
    "### 5.1 Pre-processing and splitting the sets\n",
    "\n",
    "Pre-processing and generating train, validate and test sets\n"
   ]
  },
  {
   "cell_type": "code",
   "execution_count": 878,
   "id": "b4f66f91-2773-4613-badc-eb77c2d99bfe",
   "metadata": {
    "scrolled": true
   },
   "outputs": [],
   "source": [
    "df_proc = df_raw.copy()\n",
    "# Pre-processing\n",
    "df_proc = df_proc.drop([\"id\"], axis = 1)\n",
    "df_proc = df_proc.drop([\"smoking_status\"], axis = 1)\n",
    "df_proc = df_proc.drop([\"ever_married\"], axis = 1)\n",
    "    # NA values on the BMI column\n",
    "df_proc = df_proc.dropna()\n",
    "    # Drop the Gender other\n",
    "idx = df_proc[df_proc.gender == \"Other\"].index\n",
    "df_proc = df_proc.drop(index=idx, axis = 0)\n",
    "    # The data that is already hot econded in the dataset\n",
    "df_proc.hypertension = df_proc.hypertension.astype(bool)\n",
    "df_proc.heart_disease = df_proc.heart_disease.astype(bool)\n",
    "\n",
    "# End of pre-processing\n",
    "\n",
    "X = df_proc.drop([\"stroke\"], axis = 1) ## Remember that df_proc is the data after cleaning, not yet transformed\n",
    "y = df_proc[\"stroke\"]\n",
    "\n",
    "# Define ratios, w.r.t. whole dataset.\n",
    "ratio_train = 0.7\n",
    "ratio_val = 0.15\n",
    "ratio_test = 0.15\n",
    "\n",
    "# Produce test split\n",
    "X_remaining, X_test, y_remaining, y_test = train_test_split(X, y, stratify=y, test_size=ratio_test, random_state=0) # We stratify the target variable as we do not have a balance data set\n",
    "\n",
    "# Adjusts val ratio, w.r.t. remaining dataset.\n",
    "ratio_remaining = 1 - ratio_test\n",
    "ratio_val_adjusted = ratio_val / ratio_remaining\n",
    "\n",
    "# Produces train and val splits.\n",
    "X_train, X_val, y_train, y_val = train_test_split(X_remaining, y_remaining, stratify=y_remaining, test_size=ratio_val_adjusted, random_state=0)\n"
   ]
  },
  {
   "cell_type": "markdown",
   "id": "48536bef-71a1-43e1-8f82-6b0071346c92",
   "metadata": {},
   "source": [
    "## 5.2 Pipeline\n",
    "On this part we are going to create the whole pipeline from **pre-processing to model selection and fine-tuning parameters**\n",
    "\n",
    "For a purpose of taking less time, we are going to remove the MPL model from the selections, and we are going to reduce the number of hyperparameters to test as we have already done it."
   ]
  },
  {
   "cell_type": "code",
   "execution_count": 877,
   "id": "f66eced7-5060-4358-8aa8-e7904222aa70",
   "metadata": {},
   "outputs": [
    {
     "name": "stderr",
     "output_type": "stream",
     "text": [
      "C:\\Users\\MATIAS\\.conda\\envs\\py310_ml_strokes\\lib\\site-packages\\sklearn\\linear_model\\_sag.py:350: ConvergenceWarning: The max_iter was reached which means the coef_ did not converge\n",
      "  warnings.warn(\n"
     ]
    },
    {
     "data": {
      "text/plain": [
       "0.8616010854816825"
      ]
     },
     "execution_count": 877,
     "metadata": {},
     "output_type": "execute_result"
    }
   ],
   "source": [
    "# Create a pre-processor\n",
    "numerical_columns = get_numerical_columns(X_train)\n",
    "nominal_columns = get_categorical_columns(X_train)\n",
    "        \n",
    "numerical_pipeline = Pipeline([('scaler', StandardScaler())])\n",
    "nominal_pipeline = Pipeline([('hot_encoder', OneHotEncoder(drop=\"if_binary\", dtype=np.int64, handle_unknown='ignore'))]) # , sparse_output=False\n",
    "        \n",
    "preproc = ColumnTransformer([\n",
    "            ('numerical_transformer', numerical_pipeline, numerical_columns),\n",
    "            ('nominal_transformer', nominal_pipeline, nominal_columns),\n",
    "        ], remainder=\"passthrough\")\n",
    "\n",
    "# Create a SMOTENC object\n",
    "smote_nc =  SMOTENC(categorical_features=[3, 4, 5, 6, 7, 8, 9, 10, 11], sampling_strategy=\"minority\", random_state=0)\n",
    "\n",
    "# Pre-process, smoting, variable selection and model pipelines\n",
    "mega_pipe = ImbPipeline(steps=[(\"preprocessor\", preproc),\n",
    "                               (\"smoting\", smote_nc),\n",
    "                               (\"selector\", SelectorVarImpRfC()),\n",
    "                               (\"clf\", LogisticRegression())   # virtual classifier model. All classifier models will be defined here\n",
    "                              ])\n",
    "\n",
    "# pipe_fitted = mega_pipe.fit(X_train, y_train)\n",
    "# my_pipe.score(X_val, y_val)\n",
    "\n",
    "# Grid Search Hyper-parameters\n",
    "    # SVC params\n",
    "c_values_svc = [0.01, 0.1, 0.5, 1, 5, 10, 20]\n",
    "    # Linear Regression params\n",
    "c_values_lr = [0.01, 0.1, 0.2, 0.5, 1]\n",
    "    # RandomForest Classifier params\n",
    "n_estimators = [5, 10, 30, 50, 100]\n",
    "min_samples_leaf = [1, 2, 5, 10]\n",
    "max_depths = [3, 5, 15, 30, 40]\n",
    "\n",
    "hyper_param_rf = {\"clf\": [RandomForestClassifier(random_state=0)], \n",
    "                  \"clf__n_estimators\": n_estimators, \n",
    "                  \"clf__min_samples_leaf\": min_samples_leaf,\n",
    "                  \"clf__max_depth\": max_depths\n",
    "                 }\n",
    "\n",
    "hyper_param_lr = {\"clf\": [LogisticRegression()],\n",
    "                  \"clf__solver\": [\"lbfgs\" , \"saga\"], #liblinear\", \"newton-cg\", \"newton-cholesky\",\"saga\"\n",
    "                  \"clf__C\": c_values_lr,\n",
    "                  \"clf__multi_class\":  [\"ovr\", \"multinomial\"]\n",
    "                 }\n",
    "\n",
    "hyper_param_svc = {\"clf\": [SVC()],\n",
    "                   \"clf__C\": c_values_svc,\n",
    "                   \"clf__kernel\": [\"poly\"], # \"linear\", \"rbf\", \"sigmoid\"\n",
    "                   \"clf__decision_function_shape\": [\"ovo\"] # ,\"ovr\"\n",
    "                  }\n",
    "\n",
    "# Using grid-search on the pipeline\n",
    "search_space =[hyper_param_rf,\n",
    "               hyper_param_lr,\n",
    "               hyper_param_svc]\n",
    "\n",
    "gs = GridSearchCV(estimator=mega_pipe, param_grid=search_space, cv=3, verbose=0, error_score='raise')\n",
    "gs_fitted = gs.fit(X_train, y_train)\n",
    "\n",
    "val_score = gs_fitted.best_estimator_.score(X_val, y_val)\n",
    "test_score = gs_fitted.best_estimator_.score(X_test, y_test)"
   ]
  },
  {
   "cell_type": "markdown",
   "id": "8dc649bb-519d-4f36-907c-0a8ffcdcb5df",
   "metadata": {},
   "source": [
    "## 5.3 Best estimator\n",
    "\n",
    "The best estimator is a **Random Forest Classifier** with parameters ***max_depth=30, n_estimators=10, random_state=0***\n",
    "\n",
    "**The model has an accuracy of *86%* on the test set**"
   ]
  },
  {
   "cell_type": "code",
   "execution_count": 884,
   "id": "f5b3c51c-e892-490a-a55f-f564f5f48fb5",
   "metadata": {},
   "outputs": [
    {
     "name": "stdout",
     "output_type": "stream",
     "text": [
      "TEST SCORE: 0.8616010854816825\n"
     ]
    }
   ],
   "source": [
    "val_score = gs_fitted.best_estimator_.score(X_val, y_val)\n",
    "test_score = gs_fitted.best_estimator_.score(X_test, y_test)\n",
    "print(f\"TEST SCORE: {test_score}\")"
   ]
  },
  {
   "cell_type": "code",
   "execution_count": 885,
   "id": "6771d0f2-3e94-49f7-af8d-3c0223eae84c",
   "metadata": {},
   "outputs": [
    {
     "data": {
      "text/html": [
       "<style>#sk-container-id-31 {\n",
       "  /* Definition of color scheme common for light and dark mode */\n",
       "  --sklearn-color-text: black;\n",
       "  --sklearn-color-line: gray;\n",
       "  /* Definition of color scheme for unfitted estimators */\n",
       "  --sklearn-color-unfitted-level-0: #fff5e6;\n",
       "  --sklearn-color-unfitted-level-1: #f6e4d2;\n",
       "  --sklearn-color-unfitted-level-2: #ffe0b3;\n",
       "  --sklearn-color-unfitted-level-3: chocolate;\n",
       "  /* Definition of color scheme for fitted estimators */\n",
       "  --sklearn-color-fitted-level-0: #f0f8ff;\n",
       "  --sklearn-color-fitted-level-1: #d4ebff;\n",
       "  --sklearn-color-fitted-level-2: #b3dbfd;\n",
       "  --sklearn-color-fitted-level-3: cornflowerblue;\n",
       "\n",
       "  /* Specific color for light theme */\n",
       "  --sklearn-color-text-on-default-background: var(--sg-text-color, var(--theme-code-foreground, var(--jp-content-font-color1, black)));\n",
       "  --sklearn-color-background: var(--sg-background-color, var(--theme-background, var(--jp-layout-color0, white)));\n",
       "  --sklearn-color-border-box: var(--sg-text-color, var(--theme-code-foreground, var(--jp-content-font-color1, black)));\n",
       "  --sklearn-color-icon: #696969;\n",
       "\n",
       "  @media (prefers-color-scheme: dark) {\n",
       "    /* Redefinition of color scheme for dark theme */\n",
       "    --sklearn-color-text-on-default-background: var(--sg-text-color, var(--theme-code-foreground, var(--jp-content-font-color1, white)));\n",
       "    --sklearn-color-background: var(--sg-background-color, var(--theme-background, var(--jp-layout-color0, #111)));\n",
       "    --sklearn-color-border-box: var(--sg-text-color, var(--theme-code-foreground, var(--jp-content-font-color1, white)));\n",
       "    --sklearn-color-icon: #878787;\n",
       "  }\n",
       "}\n",
       "\n",
       "#sk-container-id-31 {\n",
       "  color: var(--sklearn-color-text);\n",
       "}\n",
       "\n",
       "#sk-container-id-31 pre {\n",
       "  padding: 0;\n",
       "}\n",
       "\n",
       "#sk-container-id-31 input.sk-hidden--visually {\n",
       "  border: 0;\n",
       "  clip: rect(1px 1px 1px 1px);\n",
       "  clip: rect(1px, 1px, 1px, 1px);\n",
       "  height: 1px;\n",
       "  margin: -1px;\n",
       "  overflow: hidden;\n",
       "  padding: 0;\n",
       "  position: absolute;\n",
       "  width: 1px;\n",
       "}\n",
       "\n",
       "#sk-container-id-31 div.sk-dashed-wrapped {\n",
       "  border: 1px dashed var(--sklearn-color-line);\n",
       "  margin: 0 0.4em 0.5em 0.4em;\n",
       "  box-sizing: border-box;\n",
       "  padding-bottom: 0.4em;\n",
       "  background-color: var(--sklearn-color-background);\n",
       "}\n",
       "\n",
       "#sk-container-id-31 div.sk-container {\n",
       "  /* jupyter's `normalize.less` sets `[hidden] { display: none; }`\n",
       "     but bootstrap.min.css set `[hidden] { display: none !important; }`\n",
       "     so we also need the `!important` here to be able to override the\n",
       "     default hidden behavior on the sphinx rendered scikit-learn.org.\n",
       "     See: https://github.com/scikit-learn/scikit-learn/issues/21755 */\n",
       "  display: inline-block !important;\n",
       "  position: relative;\n",
       "}\n",
       "\n",
       "#sk-container-id-31 div.sk-text-repr-fallback {\n",
       "  display: none;\n",
       "}\n",
       "\n",
       "div.sk-parallel-item,\n",
       "div.sk-serial,\n",
       "div.sk-item {\n",
       "  /* draw centered vertical line to link estimators */\n",
       "  background-image: linear-gradient(var(--sklearn-color-text-on-default-background), var(--sklearn-color-text-on-default-background));\n",
       "  background-size: 2px 100%;\n",
       "  background-repeat: no-repeat;\n",
       "  background-position: center center;\n",
       "}\n",
       "\n",
       "/* Parallel-specific style estimator block */\n",
       "\n",
       "#sk-container-id-31 div.sk-parallel-item::after {\n",
       "  content: \"\";\n",
       "  width: 100%;\n",
       "  border-bottom: 2px solid var(--sklearn-color-text-on-default-background);\n",
       "  flex-grow: 1;\n",
       "}\n",
       "\n",
       "#sk-container-id-31 div.sk-parallel {\n",
       "  display: flex;\n",
       "  align-items: stretch;\n",
       "  justify-content: center;\n",
       "  background-color: var(--sklearn-color-background);\n",
       "  position: relative;\n",
       "}\n",
       "\n",
       "#sk-container-id-31 div.sk-parallel-item {\n",
       "  display: flex;\n",
       "  flex-direction: column;\n",
       "}\n",
       "\n",
       "#sk-container-id-31 div.sk-parallel-item:first-child::after {\n",
       "  align-self: flex-end;\n",
       "  width: 50%;\n",
       "}\n",
       "\n",
       "#sk-container-id-31 div.sk-parallel-item:last-child::after {\n",
       "  align-self: flex-start;\n",
       "  width: 50%;\n",
       "}\n",
       "\n",
       "#sk-container-id-31 div.sk-parallel-item:only-child::after {\n",
       "  width: 0;\n",
       "}\n",
       "\n",
       "/* Serial-specific style estimator block */\n",
       "\n",
       "#sk-container-id-31 div.sk-serial {\n",
       "  display: flex;\n",
       "  flex-direction: column;\n",
       "  align-items: center;\n",
       "  background-color: var(--sklearn-color-background);\n",
       "  padding-right: 1em;\n",
       "  padding-left: 1em;\n",
       "}\n",
       "\n",
       "\n",
       "/* Toggleable style: style used for estimator/Pipeline/ColumnTransformer box that is\n",
       "clickable and can be expanded/collapsed.\n",
       "- Pipeline and ColumnTransformer use this feature and define the default style\n",
       "- Estimators will overwrite some part of the style using the `sk-estimator` class\n",
       "*/\n",
       "\n",
       "/* Pipeline and ColumnTransformer style (default) */\n",
       "\n",
       "#sk-container-id-31 div.sk-toggleable {\n",
       "  /* Default theme specific background. It is overwritten whether we have a\n",
       "  specific estimator or a Pipeline/ColumnTransformer */\n",
       "  background-color: var(--sklearn-color-background);\n",
       "}\n",
       "\n",
       "/* Toggleable label */\n",
       "#sk-container-id-31 label.sk-toggleable__label {\n",
       "  cursor: pointer;\n",
       "  display: block;\n",
       "  width: 100%;\n",
       "  margin-bottom: 0;\n",
       "  padding: 0.5em;\n",
       "  box-sizing: border-box;\n",
       "  text-align: center;\n",
       "}\n",
       "\n",
       "#sk-container-id-31 label.sk-toggleable__label-arrow:before {\n",
       "  /* Arrow on the left of the label */\n",
       "  content: \"▸\";\n",
       "  float: left;\n",
       "  margin-right: 0.25em;\n",
       "  color: var(--sklearn-color-icon);\n",
       "}\n",
       "\n",
       "#sk-container-id-31 label.sk-toggleable__label-arrow:hover:before {\n",
       "  color: var(--sklearn-color-text);\n",
       "}\n",
       "\n",
       "/* Toggleable content - dropdown */\n",
       "\n",
       "#sk-container-id-31 div.sk-toggleable__content {\n",
       "  max-height: 0;\n",
       "  max-width: 0;\n",
       "  overflow: hidden;\n",
       "  text-align: left;\n",
       "  /* unfitted */\n",
       "  background-color: var(--sklearn-color-unfitted-level-0);\n",
       "}\n",
       "\n",
       "#sk-container-id-31 div.sk-toggleable__content.fitted {\n",
       "  /* fitted */\n",
       "  background-color: var(--sklearn-color-fitted-level-0);\n",
       "}\n",
       "\n",
       "#sk-container-id-31 div.sk-toggleable__content pre {\n",
       "  margin: 0.2em;\n",
       "  border-radius: 0.25em;\n",
       "  color: var(--sklearn-color-text);\n",
       "  /* unfitted */\n",
       "  background-color: var(--sklearn-color-unfitted-level-0);\n",
       "}\n",
       "\n",
       "#sk-container-id-31 div.sk-toggleable__content.fitted pre {\n",
       "  /* unfitted */\n",
       "  background-color: var(--sklearn-color-fitted-level-0);\n",
       "}\n",
       "\n",
       "#sk-container-id-31 input.sk-toggleable__control:checked~div.sk-toggleable__content {\n",
       "  /* Expand drop-down */\n",
       "  max-height: 200px;\n",
       "  max-width: 100%;\n",
       "  overflow: auto;\n",
       "}\n",
       "\n",
       "#sk-container-id-31 input.sk-toggleable__control:checked~label.sk-toggleable__label-arrow:before {\n",
       "  content: \"▾\";\n",
       "}\n",
       "\n",
       "/* Pipeline/ColumnTransformer-specific style */\n",
       "\n",
       "#sk-container-id-31 div.sk-label input.sk-toggleable__control:checked~label.sk-toggleable__label {\n",
       "  color: var(--sklearn-color-text);\n",
       "  background-color: var(--sklearn-color-unfitted-level-2);\n",
       "}\n",
       "\n",
       "#sk-container-id-31 div.sk-label.fitted input.sk-toggleable__control:checked~label.sk-toggleable__label {\n",
       "  background-color: var(--sklearn-color-fitted-level-2);\n",
       "}\n",
       "\n",
       "/* Estimator-specific style */\n",
       "\n",
       "/* Colorize estimator box */\n",
       "#sk-container-id-31 div.sk-estimator input.sk-toggleable__control:checked~label.sk-toggleable__label {\n",
       "  /* unfitted */\n",
       "  background-color: var(--sklearn-color-unfitted-level-2);\n",
       "}\n",
       "\n",
       "#sk-container-id-31 div.sk-estimator.fitted input.sk-toggleable__control:checked~label.sk-toggleable__label {\n",
       "  /* fitted */\n",
       "  background-color: var(--sklearn-color-fitted-level-2);\n",
       "}\n",
       "\n",
       "#sk-container-id-31 div.sk-label label.sk-toggleable__label,\n",
       "#sk-container-id-31 div.sk-label label {\n",
       "  /* The background is the default theme color */\n",
       "  color: var(--sklearn-color-text-on-default-background);\n",
       "}\n",
       "\n",
       "/* On hover, darken the color of the background */\n",
       "#sk-container-id-31 div.sk-label:hover label.sk-toggleable__label {\n",
       "  color: var(--sklearn-color-text);\n",
       "  background-color: var(--sklearn-color-unfitted-level-2);\n",
       "}\n",
       "\n",
       "/* Label box, darken color on hover, fitted */\n",
       "#sk-container-id-31 div.sk-label.fitted:hover label.sk-toggleable__label.fitted {\n",
       "  color: var(--sklearn-color-text);\n",
       "  background-color: var(--sklearn-color-fitted-level-2);\n",
       "}\n",
       "\n",
       "/* Estimator label */\n",
       "\n",
       "#sk-container-id-31 div.sk-label label {\n",
       "  font-family: monospace;\n",
       "  font-weight: bold;\n",
       "  display: inline-block;\n",
       "  line-height: 1.2em;\n",
       "}\n",
       "\n",
       "#sk-container-id-31 div.sk-label-container {\n",
       "  text-align: center;\n",
       "}\n",
       "\n",
       "/* Estimator-specific */\n",
       "#sk-container-id-31 div.sk-estimator {\n",
       "  font-family: monospace;\n",
       "  border: 1px dotted var(--sklearn-color-border-box);\n",
       "  border-radius: 0.25em;\n",
       "  box-sizing: border-box;\n",
       "  margin-bottom: 0.5em;\n",
       "  /* unfitted */\n",
       "  background-color: var(--sklearn-color-unfitted-level-0);\n",
       "}\n",
       "\n",
       "#sk-container-id-31 div.sk-estimator.fitted {\n",
       "  /* fitted */\n",
       "  background-color: var(--sklearn-color-fitted-level-0);\n",
       "}\n",
       "\n",
       "/* on hover */\n",
       "#sk-container-id-31 div.sk-estimator:hover {\n",
       "  /* unfitted */\n",
       "  background-color: var(--sklearn-color-unfitted-level-2);\n",
       "}\n",
       "\n",
       "#sk-container-id-31 div.sk-estimator.fitted:hover {\n",
       "  /* fitted */\n",
       "  background-color: var(--sklearn-color-fitted-level-2);\n",
       "}\n",
       "\n",
       "/* Specification for estimator info (e.g. \"i\" and \"?\") */\n",
       "\n",
       "/* Common style for \"i\" and \"?\" */\n",
       "\n",
       ".sk-estimator-doc-link,\n",
       "a:link.sk-estimator-doc-link,\n",
       "a:visited.sk-estimator-doc-link {\n",
       "  float: right;\n",
       "  font-size: smaller;\n",
       "  line-height: 1em;\n",
       "  font-family: monospace;\n",
       "  background-color: var(--sklearn-color-background);\n",
       "  border-radius: 1em;\n",
       "  height: 1em;\n",
       "  width: 1em;\n",
       "  text-decoration: none !important;\n",
       "  margin-left: 1ex;\n",
       "  /* unfitted */\n",
       "  border: var(--sklearn-color-unfitted-level-1) 1pt solid;\n",
       "  color: var(--sklearn-color-unfitted-level-1);\n",
       "}\n",
       "\n",
       ".sk-estimator-doc-link.fitted,\n",
       "a:link.sk-estimator-doc-link.fitted,\n",
       "a:visited.sk-estimator-doc-link.fitted {\n",
       "  /* fitted */\n",
       "  border: var(--sklearn-color-fitted-level-1) 1pt solid;\n",
       "  color: var(--sklearn-color-fitted-level-1);\n",
       "}\n",
       "\n",
       "/* On hover */\n",
       "div.sk-estimator:hover .sk-estimator-doc-link:hover,\n",
       ".sk-estimator-doc-link:hover,\n",
       "div.sk-label-container:hover .sk-estimator-doc-link:hover,\n",
       ".sk-estimator-doc-link:hover {\n",
       "  /* unfitted */\n",
       "  background-color: var(--sklearn-color-unfitted-level-3);\n",
       "  color: var(--sklearn-color-background);\n",
       "  text-decoration: none;\n",
       "}\n",
       "\n",
       "div.sk-estimator.fitted:hover .sk-estimator-doc-link.fitted:hover,\n",
       ".sk-estimator-doc-link.fitted:hover,\n",
       "div.sk-label-container:hover .sk-estimator-doc-link.fitted:hover,\n",
       ".sk-estimator-doc-link.fitted:hover {\n",
       "  /* fitted */\n",
       "  background-color: var(--sklearn-color-fitted-level-3);\n",
       "  color: var(--sklearn-color-background);\n",
       "  text-decoration: none;\n",
       "}\n",
       "\n",
       "/* Span, style for the box shown on hovering the info icon */\n",
       ".sk-estimator-doc-link span {\n",
       "  display: none;\n",
       "  z-index: 9999;\n",
       "  position: relative;\n",
       "  font-weight: normal;\n",
       "  right: .2ex;\n",
       "  padding: .5ex;\n",
       "  margin: .5ex;\n",
       "  width: min-content;\n",
       "  min-width: 20ex;\n",
       "  max-width: 50ex;\n",
       "  color: var(--sklearn-color-text);\n",
       "  box-shadow: 2pt 2pt 4pt #999;\n",
       "  /* unfitted */\n",
       "  background: var(--sklearn-color-unfitted-level-0);\n",
       "  border: .5pt solid var(--sklearn-color-unfitted-level-3);\n",
       "}\n",
       "\n",
       ".sk-estimator-doc-link.fitted span {\n",
       "  /* fitted */\n",
       "  background: var(--sklearn-color-fitted-level-0);\n",
       "  border: var(--sklearn-color-fitted-level-3);\n",
       "}\n",
       "\n",
       ".sk-estimator-doc-link:hover span {\n",
       "  display: block;\n",
       "}\n",
       "\n",
       "/* \"?\"-specific style due to the `<a>` HTML tag */\n",
       "\n",
       "#sk-container-id-31 a.estimator_doc_link {\n",
       "  float: right;\n",
       "  font-size: 1rem;\n",
       "  line-height: 1em;\n",
       "  font-family: monospace;\n",
       "  background-color: var(--sklearn-color-background);\n",
       "  border-radius: 1rem;\n",
       "  height: 1rem;\n",
       "  width: 1rem;\n",
       "  text-decoration: none;\n",
       "  /* unfitted */\n",
       "  color: var(--sklearn-color-unfitted-level-1);\n",
       "  border: var(--sklearn-color-unfitted-level-1) 1pt solid;\n",
       "}\n",
       "\n",
       "#sk-container-id-31 a.estimator_doc_link.fitted {\n",
       "  /* fitted */\n",
       "  border: var(--sklearn-color-fitted-level-1) 1pt solid;\n",
       "  color: var(--sklearn-color-fitted-level-1);\n",
       "}\n",
       "\n",
       "/* On hover */\n",
       "#sk-container-id-31 a.estimator_doc_link:hover {\n",
       "  /* unfitted */\n",
       "  background-color: var(--sklearn-color-unfitted-level-3);\n",
       "  color: var(--sklearn-color-background);\n",
       "  text-decoration: none;\n",
       "}\n",
       "\n",
       "#sk-container-id-31 a.estimator_doc_link.fitted:hover {\n",
       "  /* fitted */\n",
       "  background-color: var(--sklearn-color-fitted-level-3);\n",
       "}\n",
       "</style><div id=\"sk-container-id-31\" class=\"sk-top-container\"><div class=\"sk-text-repr-fallback\"><pre>Pipeline(steps=[(&#x27;preprocessor&#x27;,\n",
       "                 ColumnTransformer(remainder=&#x27;passthrough&#x27;,\n",
       "                                   transformers=[(&#x27;numerical_transformer&#x27;,\n",
       "                                                  Pipeline(steps=[(&#x27;scaler&#x27;,\n",
       "                                                                   StandardScaler())]),\n",
       "                                                  [&#x27;age&#x27;, &#x27;avg_glucose_level&#x27;,\n",
       "                                                   &#x27;bmi&#x27;]),\n",
       "                                                 (&#x27;nominal_transformer&#x27;,\n",
       "                                                  Pipeline(steps=[(&#x27;hot_encoder&#x27;,\n",
       "                                                                   OneHotEncoder(drop=&#x27;if_binary&#x27;,\n",
       "                                                                                 dtype=&lt;class &#x27;numpy.int64&#x27;&gt;,\n",
       "                                                                                 handle_unknown=&#x27;ignore&#x27;))]),\n",
       "                                                  [&#x27;gender&#x27;, &#x27;work_type&#x27;,\n",
       "                                                   &#x27;Residence_type&#x27;])])),\n",
       "                (&#x27;smoting&#x27;,\n",
       "                 SMOTENC(categorical_features=[3, 4, 5, 6, 7, 8, 9, 10, 11],\n",
       "                         random_state=0, sampling_strategy=&#x27;minority&#x27;)),\n",
       "                (&#x27;selector&#x27;, SelectorVarImpRfC()),\n",
       "                (&#x27;clf&#x27;,\n",
       "                 RandomForestClassifier(max_depth=30, n_estimators=10,\n",
       "                                        random_state=0))])</pre><b>In a Jupyter environment, please rerun this cell to show the HTML representation or trust the notebook. <br />On GitHub, the HTML representation is unable to render, please try loading this page with nbviewer.org.</b></div><div class=\"sk-container\" hidden><div class=\"sk-item sk-dashed-wrapped\"><div class=\"sk-label-container\"><div class=\"sk-label fitted sk-toggleable\"><input class=\"sk-toggleable__control sk-hidden--visually\" id=\"sk-estimator-id-177\" type=\"checkbox\" ><label for=\"sk-estimator-id-177\" class=\"sk-toggleable__label fitted sk-toggleable__label-arrow fitted\">&nbsp;Pipeline<span class=\"sk-estimator-doc-link fitted\">i<span>Fitted</span></span></label><div class=\"sk-toggleable__content fitted\"><pre>Pipeline(steps=[(&#x27;preprocessor&#x27;,\n",
       "                 ColumnTransformer(remainder=&#x27;passthrough&#x27;,\n",
       "                                   transformers=[(&#x27;numerical_transformer&#x27;,\n",
       "                                                  Pipeline(steps=[(&#x27;scaler&#x27;,\n",
       "                                                                   StandardScaler())]),\n",
       "                                                  [&#x27;age&#x27;, &#x27;avg_glucose_level&#x27;,\n",
       "                                                   &#x27;bmi&#x27;]),\n",
       "                                                 (&#x27;nominal_transformer&#x27;,\n",
       "                                                  Pipeline(steps=[(&#x27;hot_encoder&#x27;,\n",
       "                                                                   OneHotEncoder(drop=&#x27;if_binary&#x27;,\n",
       "                                                                                 dtype=&lt;class &#x27;numpy.int64&#x27;&gt;,\n",
       "                                                                                 handle_unknown=&#x27;ignore&#x27;))]),\n",
       "                                                  [&#x27;gender&#x27;, &#x27;work_type&#x27;,\n",
       "                                                   &#x27;Residence_type&#x27;])])),\n",
       "                (&#x27;smoting&#x27;,\n",
       "                 SMOTENC(categorical_features=[3, 4, 5, 6, 7, 8, 9, 10, 11],\n",
       "                         random_state=0, sampling_strategy=&#x27;minority&#x27;)),\n",
       "                (&#x27;selector&#x27;, SelectorVarImpRfC()),\n",
       "                (&#x27;clf&#x27;,\n",
       "                 RandomForestClassifier(max_depth=30, n_estimators=10,\n",
       "                                        random_state=0))])</pre></div> </div></div><div class=\"sk-serial\"><div class=\"sk-item sk-dashed-wrapped\"><div class=\"sk-label-container\"><div class=\"sk-label fitted sk-toggleable\"><input class=\"sk-toggleable__control sk-hidden--visually\" id=\"sk-estimator-id-178\" type=\"checkbox\" ><label for=\"sk-estimator-id-178\" class=\"sk-toggleable__label fitted sk-toggleable__label-arrow fitted\">&nbsp;preprocessor: ColumnTransformer<a class=\"sk-estimator-doc-link fitted\" rel=\"noreferrer\" target=\"_blank\" href=\"https://scikit-learn.org/1.4/modules/generated/sklearn.compose.ColumnTransformer.html\">?<span>Documentation for preprocessor: ColumnTransformer</span></a></label><div class=\"sk-toggleable__content fitted\"><pre>ColumnTransformer(remainder=&#x27;passthrough&#x27;,\n",
       "                  transformers=[(&#x27;numerical_transformer&#x27;,\n",
       "                                 Pipeline(steps=[(&#x27;scaler&#x27;, StandardScaler())]),\n",
       "                                 [&#x27;age&#x27;, &#x27;avg_glucose_level&#x27;, &#x27;bmi&#x27;]),\n",
       "                                (&#x27;nominal_transformer&#x27;,\n",
       "                                 Pipeline(steps=[(&#x27;hot_encoder&#x27;,\n",
       "                                                  OneHotEncoder(drop=&#x27;if_binary&#x27;,\n",
       "                                                                dtype=&lt;class &#x27;numpy.int64&#x27;&gt;,\n",
       "                                                                handle_unknown=&#x27;ignore&#x27;))]),\n",
       "                                 [&#x27;gender&#x27;, &#x27;work_type&#x27;, &#x27;Residence_type&#x27;])])</pre></div> </div></div><div class=\"sk-parallel\"><div class=\"sk-parallel-item\"><div class=\"sk-item\"><div class=\"sk-label-container\"><div class=\"sk-label fitted sk-toggleable\"><input class=\"sk-toggleable__control sk-hidden--visually\" id=\"sk-estimator-id-179\" type=\"checkbox\" ><label for=\"sk-estimator-id-179\" class=\"sk-toggleable__label fitted sk-toggleable__label-arrow fitted\">numerical_transformer</label><div class=\"sk-toggleable__content fitted\"><pre>[&#x27;age&#x27;, &#x27;avg_glucose_level&#x27;, &#x27;bmi&#x27;]</pre></div> </div></div><div class=\"sk-serial\"><div class=\"sk-item\"><div class=\"sk-serial\"><div class=\"sk-item\"><div class=\"sk-estimator fitted sk-toggleable\"><input class=\"sk-toggleable__control sk-hidden--visually\" id=\"sk-estimator-id-180\" type=\"checkbox\" ><label for=\"sk-estimator-id-180\" class=\"sk-toggleable__label fitted sk-toggleable__label-arrow fitted\">&nbsp;StandardScaler<a class=\"sk-estimator-doc-link fitted\" rel=\"noreferrer\" target=\"_blank\" href=\"https://scikit-learn.org/1.4/modules/generated/sklearn.preprocessing.StandardScaler.html\">?<span>Documentation for StandardScaler</span></a></label><div class=\"sk-toggleable__content fitted\"><pre>StandardScaler()</pre></div> </div></div></div></div></div></div></div><div class=\"sk-parallel-item\"><div class=\"sk-item\"><div class=\"sk-label-container\"><div class=\"sk-label fitted sk-toggleable\"><input class=\"sk-toggleable__control sk-hidden--visually\" id=\"sk-estimator-id-181\" type=\"checkbox\" ><label for=\"sk-estimator-id-181\" class=\"sk-toggleable__label fitted sk-toggleable__label-arrow fitted\">nominal_transformer</label><div class=\"sk-toggleable__content fitted\"><pre>[&#x27;gender&#x27;, &#x27;work_type&#x27;, &#x27;Residence_type&#x27;]</pre></div> </div></div><div class=\"sk-serial\"><div class=\"sk-item\"><div class=\"sk-serial\"><div class=\"sk-item\"><div class=\"sk-estimator fitted sk-toggleable\"><input class=\"sk-toggleable__control sk-hidden--visually\" id=\"sk-estimator-id-182\" type=\"checkbox\" ><label for=\"sk-estimator-id-182\" class=\"sk-toggleable__label fitted sk-toggleable__label-arrow fitted\">&nbsp;OneHotEncoder<a class=\"sk-estimator-doc-link fitted\" rel=\"noreferrer\" target=\"_blank\" href=\"https://scikit-learn.org/1.4/modules/generated/sklearn.preprocessing.OneHotEncoder.html\">?<span>Documentation for OneHotEncoder</span></a></label><div class=\"sk-toggleable__content fitted\"><pre>OneHotEncoder(drop=&#x27;if_binary&#x27;, dtype=&lt;class &#x27;numpy.int64&#x27;&gt;,\n",
       "              handle_unknown=&#x27;ignore&#x27;)</pre></div> </div></div></div></div></div></div></div><div class=\"sk-parallel-item\"><div class=\"sk-item\"><div class=\"sk-label-container\"><div class=\"sk-label fitted sk-toggleable\"><input class=\"sk-toggleable__control sk-hidden--visually\" id=\"sk-estimator-id-183\" type=\"checkbox\" ><label for=\"sk-estimator-id-183\" class=\"sk-toggleable__label fitted sk-toggleable__label-arrow fitted\">remainder</label><div class=\"sk-toggleable__content fitted\"><pre>[&#x27;hypertension&#x27;, &#x27;heart_disease&#x27;]</pre></div> </div></div><div class=\"sk-serial\"><div class=\"sk-item\"><div class=\"sk-estimator fitted sk-toggleable\"><input class=\"sk-toggleable__control sk-hidden--visually\" id=\"sk-estimator-id-184\" type=\"checkbox\" ><label for=\"sk-estimator-id-184\" class=\"sk-toggleable__label fitted sk-toggleable__label-arrow fitted\">passthrough</label><div class=\"sk-toggleable__content fitted\"><pre>passthrough</pre></div> </div></div></div></div></div></div></div><div class=\"sk-item\"><div class=\"sk-estimator fitted sk-toggleable\"><input class=\"sk-toggleable__control sk-hidden--visually\" id=\"sk-estimator-id-185\" type=\"checkbox\" ><label for=\"sk-estimator-id-185\" class=\"sk-toggleable__label fitted sk-toggleable__label-arrow fitted\">SMOTENC</label><div class=\"sk-toggleable__content fitted\"><pre>SMOTENC(categorical_features=[3, 4, 5, 6, 7, 8, 9, 10, 11], random_state=0,\n",
       "        sampling_strategy=&#x27;minority&#x27;)</pre></div> </div></div><div class=\"sk-item\"><div class=\"sk-estimator fitted sk-toggleable\"><input class=\"sk-toggleable__control sk-hidden--visually\" id=\"sk-estimator-id-186\" type=\"checkbox\" ><label for=\"sk-estimator-id-186\" class=\"sk-toggleable__label fitted sk-toggleable__label-arrow fitted\">SelectorVarImpRfC</label><div class=\"sk-toggleable__content fitted\"><pre>SelectorVarImpRfC()</pre></div> </div></div><div class=\"sk-item\"><div class=\"sk-estimator fitted sk-toggleable\"><input class=\"sk-toggleable__control sk-hidden--visually\" id=\"sk-estimator-id-187\" type=\"checkbox\" ><label for=\"sk-estimator-id-187\" class=\"sk-toggleable__label fitted sk-toggleable__label-arrow fitted\">&nbsp;RandomForestClassifier<a class=\"sk-estimator-doc-link fitted\" rel=\"noreferrer\" target=\"_blank\" href=\"https://scikit-learn.org/1.4/modules/generated/sklearn.ensemble.RandomForestClassifier.html\">?<span>Documentation for RandomForestClassifier</span></a></label><div class=\"sk-toggleable__content fitted\"><pre>RandomForestClassifier(max_depth=30, n_estimators=10, random_state=0)</pre></div> </div></div></div></div></div></div>"
      ],
      "text/plain": [
       "Pipeline(steps=[('preprocessor',\n",
       "                 ColumnTransformer(remainder='passthrough',\n",
       "                                   transformers=[('numerical_transformer',\n",
       "                                                  Pipeline(steps=[('scaler',\n",
       "                                                                   StandardScaler())]),\n",
       "                                                  ['age', 'avg_glucose_level',\n",
       "                                                   'bmi']),\n",
       "                                                 ('nominal_transformer',\n",
       "                                                  Pipeline(steps=[('hot_encoder',\n",
       "                                                                   OneHotEncoder(drop='if_binary',\n",
       "                                                                                 dtype=<class 'numpy.int64'>,\n",
       "                                                                                 handle_unknown='ignore'))]),\n",
       "                                                  ['gender', 'work_type',\n",
       "                                                   'Residence_type'])])),\n",
       "                ('smoting',\n",
       "                 SMOTENC(categorical_features=[3, 4, 5, 6, 7, 8, 9, 10, 11],\n",
       "                         random_state=0, sampling_strategy='minority')),\n",
       "                ('selector', SelectorVarImpRfC()),\n",
       "                ('clf',\n",
       "                 RandomForestClassifier(max_depth=30, n_estimators=10,\n",
       "                                        random_state=0))])"
      ]
     },
     "execution_count": 885,
     "metadata": {},
     "output_type": "execute_result"
    }
   ],
   "source": [
    "gs_fitted.best_estimator_"
   ]
  },
  {
   "cell_type": "code",
   "execution_count": 883,
   "id": "a5da67ee-3a12-404a-8eaa-63c5a5bfb16d",
   "metadata": {},
   "outputs": [
    {
     "name": "stdout",
     "output_type": "stream",
     "text": [
      "              precision    recall  f1-score   support\n",
      "\n",
      "           0       0.96      0.89      0.92       706\n",
      "           1       0.09      0.26      0.14        31\n",
      "\n",
      "    accuracy                           0.86       737\n",
      "   macro avg       0.53      0.57      0.53       737\n",
      "weighted avg       0.93      0.86      0.89       737\n",
      "\n"
     ]
    }
   ],
   "source": [
    "from sklearn.metrics import classification_report\n",
    "y_pred = gs_fitted.best_estimator_.predict(X_test)\n",
    "print(classification_report(y_test, y_pred))"
   ]
  }
 ],
 "metadata": {
  "kernelspec": {
   "display_name": "Python 3 (ipykernel)",
   "language": "python",
   "name": "python3"
  },
  "language_info": {
   "codemirror_mode": {
    "name": "ipython",
    "version": 3
   },
   "file_extension": ".py",
   "mimetype": "text/x-python",
   "name": "python",
   "nbconvert_exporter": "python",
   "pygments_lexer": "ipython3",
   "version": "3.10.13"
  }
 },
 "nbformat": 4,
 "nbformat_minor": 5
}
